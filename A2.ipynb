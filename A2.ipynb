{
 "cells": [
  {
   "cell_type": "markdown",
   "metadata": {
    "id": "2nbH8DiPfnFo"
   },
   "source": [
    "# Image Classification - The Multi-class Weather Dataset\n",
    "\n",
    "**Submission deadline: Friday 5 April, 11:55pm**\n",
    "\n",
    "**Assessment weight: 15% of the total unit assessment.**\n",
    "\n",
    "**Versions**\n",
    "\n",
    "- Wednesday 13 March: Initial release\n",
    "\n",
    "*Unless a Special Consideration request has been submitted and approved, a 5% penalty (of the total possible mark of the task) will be applied for each day a written report or presentation assessment is not submitted, up until the 7th day (including weekends). After the 7th day, a grade of ‘0’ will be awarded even if the assessment is submitted. The submission time for all uploaded assessments is **11:55 pm**. A 1-hour grace period will be provided to students who experience a technical concern. For any late submission of time-sensitive tasks, such as scheduled tests/exams, performance assessments/presentations, and/or scheduled practical assessments/labs, please apply for [Special Consideration](https://students.mq.edu.au/study/assessment-exams/special-consideration).*\n",
    "\n",
    "In this assignment you will complete tasks for an end-to-end image classification application. We will train and test the data using the Multi-class Weather Dataset (MWD):\n",
    "\n",
    "- https://data.mendeley.com/datasets/4drtyfjtfy/1\n",
    "\n",
    "The MWD contains labelled images representing various weather scenarios. It is a small and popular dataset for practice with image classification."
   ]
  },
  {
   "cell_type": "markdown",
   "metadata": {
    "id": "Hm9tgmOKfnFv"
   },
   "source": [
    "# Connect to GitHub Classroom\n",
    "\n",
    "Please follow these steps to connect:\n",
    "\n",
    "1. Follow this invitation link and accept the invitation: https://classroom.github.com/a/TGh1XJFW\n",
    "2. The link may ask you to sign in to GitHub (if you haven't signed in earlier). If you don't have a GitHub account, you will need to register.\n",
    "3. Once you have logged in with GitHub, you may need to select your email address to associate your GitHub account with your email address (if you haven't done it in a previous COMP3420 activity). If you can't find your email address, please skip this step and contact diego.molla-aliod@mq.edu.au so that he can do the association manually.\n",
    "4. Wait a minute or two, and refresh the browser until it indicates that your assignment repository has been created. Your repository is private to you, and you have administration privileges. Only you and the lecture will have access to it. The repository will be listed under the list of repositories belonging to this offering of COMP3420: https://github.com/orgs/COMP3420-2024S1/repositories\n",
    "5. In contrast with assignment 1 and the practical sessions, your assignment repository will be empty and will not include starter code. you need to add this Jupyter notebook and commit the changes.\n",
    "\n",
    "Please use the github repository linked to this GitHub classroom. Make sure that you continuously push commits and you provide useful commit comments. Note the following:\n",
    "\n",
    "*  **1 mark of the assessment of this assignment is related to good practice with the use of GitHub.**\n",
    "*  **We will also use github as a tool to check for possible plagiarism or contract cheating. For example, if someone only makes commits on the last day, we may investigate whether there was plagiarism or contract cheating.**\n"
   ]
  },
  {
   "cell_type": "markdown",
   "metadata": {
    "id": "d_eFY2j9fnFw"
   },
   "source": [
    "# Tasks\n",
    "## Task 1 - Data exploration, preparation, and partition (4 marks)\n",
    "\n",
    "Download the MWD from this site and unzip it:\n",
    "\n",
    "- https://data.mendeley.com/datasets/4drtyfjtfy/1\n",
    "\n",
    "You will observe that the zipped file contains 1,125 images representing various weather conditions. To facilitate the assessment of this assignment, please make sure that the images are in a folder named `dataset2` and this folder is in the same place as this jupyter notebook.\n",
    "\n",
    "### 1.1 - data partition (2 marks)\n",
    "\n",
    "Generate three CSV files named `my_training.csv`, `my_validation.csv`, and `my_test.csv` that partition the dataset into the training, validation, and test set. Each CSV file contains the following two fields:\n",
    "\n",
    "- File path\n",
    "- Image label\n",
    "\n",
    "For example, the file `my_training.csv` could start like this:\n",
    "\n",
    "```csv\n",
    "dataset2/cloudy1.jpg,cloudy\n",
    "dataset2/shine170.jpg,shine\n",
    "dataset2/shine116.jpg,shine\n",
    "```\n",
    "\n",
    "Make sure that the partitions are created randomly, so that the label distribution is similar in each partition. Also, make sure that the samples are sorted in no particular order (randomly)\n",
    "\n",
    "Display the label distribution of each partition, and display the first 10 rows of each partition.\n",
    "\n",
    "The following sample files are available together with these instructions. Your files should look similar to these.\n",
    "\n",
    "- `training.csv`\n",
    "- `validation.csv`\n",
    "- `test.csv`\n",
    "\n",
    "**For the subsequent tasks in this assignment, use the files we provide (`training.csv`, `validation.csv`, `test.csv`). Do not use the files that you have generated, so that any errors generated by your solution do not carry to the rest of the assignment. Also, the files we provide conveniently removed references to images that have a number of channels different from 3.**\n",
    "\n",
    "\n"
   ]
  },
  {
   "cell_type": "code",
   "execution_count": 1,
   "metadata": {
    "id": "4_xs5_xhfnFy"
   },
   "outputs": [],
   "source": [
    "import numpy as np\n",
    "import os\n",
    "from matplotlib import pyplot as plt\n",
    "import pandas as pd\n",
    "import cv2\n",
    "import glob"
   ]
  },
  {
   "cell_type": "code",
   "execution_count": 2,
   "metadata": {},
   "outputs": [
    {
     "data": {
      "text/plain": [
       "['dataset2/sunrise183.jpg',\n",
       " 'dataset2/sunrise264.jpg',\n",
       " 'dataset2/sunrise72.jpg',\n",
       " 'dataset2/sunrise5.jpg',\n",
       " 'dataset2/rain67.jpg',\n",
       " 'dataset2/sunrise295.jpg',\n",
       " 'dataset2/sunrise309.jpg',\n",
       " 'dataset2/cloudy217.jpg',\n",
       " 'dataset2/rain213.jpg',\n",
       " 'dataset2/shine162.jpg',\n",
       " 'dataset2/shine13.jpg',\n",
       " 'dataset2/cloudy207.jpg',\n",
       " 'dataset2/shine33.jpg',\n",
       " 'dataset2/shine105.jpg',\n",
       " 'dataset2/sunrise346.jpg',\n",
       " 'dataset2/sunrise185.jpg',\n",
       " 'dataset2/sunrise198.jpg',\n",
       " 'dataset2/sunrise174.jpg',\n",
       " 'dataset2/cloudy226.jpg',\n",
       " 'dataset2/cloudy49.jpg',\n",
       " 'dataset2/cloudy42.jpg',\n",
       " 'dataset2/shine249.jpg',\n",
       " 'dataset2/rain109.jpg',\n",
       " 'dataset2/sunrise331.jpg',\n",
       " 'dataset2/cloudy260.jpg',\n",
       " 'dataset2/cloudy232.jpg',\n",
       " 'dataset2/cloudy262.jpg',\n",
       " 'dataset2/cloudy22.jpg',\n",
       " 'dataset2/cloudy274.jpg',\n",
       " 'dataset2/cloudy285.jpg',\n",
       " 'dataset2/sunrise137.jpg',\n",
       " 'dataset2/shine209.jpg',\n",
       " 'dataset2/cloudy175.jpg',\n",
       " 'dataset2/shine123.jpg',\n",
       " 'dataset2/cloudy115.jpg',\n",
       " 'dataset2/cloudy39.jpg',\n",
       " 'dataset2/rain190.jpg',\n",
       " 'dataset2/cloudy60.jpg',\n",
       " 'dataset2/sunrise271.jpg',\n",
       " 'dataset2/cloudy107.jpg',\n",
       " 'dataset2/cloudy143.jpg',\n",
       " 'dataset2/rain27.jpg',\n",
       " 'dataset2/sunrise181.jpg',\n",
       " 'dataset2/rain122.jpg',\n",
       " 'dataset2/cloudy277.jpg',\n",
       " 'dataset2/rain37.jpg',\n",
       " 'dataset2/shine30.jpg',\n",
       " 'dataset2/cloudy286.jpg',\n",
       " 'dataset2/sunrise34.jpg',\n",
       " 'dataset2/shine104.jpg',\n",
       " 'dataset2/sunrise56.jpg',\n",
       " 'dataset2/sunrise356.jpg',\n",
       " 'dataset2/rain3.jpg',\n",
       " 'dataset2/sunrise341.jpg',\n",
       " 'dataset2/cloudy120.jpg',\n",
       " 'dataset2/rain185.jpg',\n",
       " 'dataset2/shine151.jpg',\n",
       " 'dataset2/shine3.jpg',\n",
       " 'dataset2/sunrise164.jpg',\n",
       " 'dataset2/rain33.jpg',\n",
       " 'dataset2/cloudy12.jpg',\n",
       " 'dataset2/cloudy33.jpg',\n",
       " 'dataset2/shine65.jpg',\n",
       " 'dataset2/rain195.jpg',\n",
       " 'dataset2/sunrise320.jpg',\n",
       " 'dataset2/sunrise184.jpg',\n",
       " 'dataset2/rain132.jpg',\n",
       " 'dataset2/rain168.jpg',\n",
       " 'dataset2/cloudy85.jpg',\n",
       " 'dataset2/cloudy240.jpg',\n",
       " 'dataset2/cloudy31.jpg',\n",
       " 'dataset2/shine52.jpg',\n",
       " 'dataset2/cloudy35.jpg',\n",
       " 'dataset2/sunrise65.jpg',\n",
       " 'dataset2/shine202.jpg',\n",
       " 'dataset2/sunrise236.jpg',\n",
       " 'dataset2/shine109.jpg',\n",
       " 'dataset2/sunrise343.jpg',\n",
       " 'dataset2/sunrise291.jpg',\n",
       " 'dataset2/cloudy138.jpg',\n",
       " 'dataset2/sunrise210.jpg',\n",
       " 'dataset2/shine212.jpg',\n",
       " 'dataset2/cloudy28.jpg',\n",
       " 'dataset2/sunrise71.jpg',\n",
       " 'dataset2/sunrise153.jpg',\n",
       " 'dataset2/shine199.jpg',\n",
       " 'dataset2/sunrise305.jpg',\n",
       " 'dataset2/sunrise334.jpg',\n",
       " 'dataset2/cloudy40.jpg',\n",
       " 'dataset2/sunrise225.jpg',\n",
       " 'dataset2/cloudy63.jpg',\n",
       " 'dataset2/cloudy251.jpg',\n",
       " 'dataset2/sunrise41.jpg',\n",
       " 'dataset2/sunrise157.jpg',\n",
       " 'dataset2/sunrise118.jpg',\n",
       " 'dataset2/sunrise51.jpg',\n",
       " 'dataset2/sunrise267.jpg',\n",
       " 'dataset2/cloudy67.jpg',\n",
       " 'dataset2/shine16.jpg',\n",
       " 'dataset2/sunrise247.jpg',\n",
       " 'dataset2/shine17.jpg',\n",
       " 'dataset2/sunrise261.jpg',\n",
       " 'dataset2/rain93.jpg',\n",
       " 'dataset2/cloudy99.jpg',\n",
       " 'dataset2/sunrise293.jpg',\n",
       " 'dataset2/sunrise340.jpg',\n",
       " 'dataset2/shine14.jpg',\n",
       " 'dataset2/sunrise254.jpg',\n",
       " 'dataset2/sunrise160.jpg',\n",
       " 'dataset2/sunrise169.jpg',\n",
       " 'dataset2/cloudy229.jpg',\n",
       " 'dataset2/shine78.jpg',\n",
       " 'dataset2/shine53.jpg',\n",
       " 'dataset2/rain29.jpg',\n",
       " 'dataset2/cloudy172.jpg',\n",
       " 'dataset2/rain155.jpg',\n",
       " 'dataset2/rain128.jpg',\n",
       " 'dataset2/rain9.jpg',\n",
       " 'dataset2/shine127.jpg',\n",
       " 'dataset2/shine154.jpg',\n",
       " 'dataset2/cloudy116.jpg',\n",
       " 'dataset2/sunrise344.jpg',\n",
       " 'dataset2/rain203.jpg',\n",
       " 'dataset2/rain139.jpg',\n",
       " 'dataset2/rain21.jpg',\n",
       " 'dataset2/sunrise135.jpg',\n",
       " 'dataset2/shine174.jpg',\n",
       " 'dataset2/sunrise230.jpg',\n",
       " 'dataset2/sunrise43.jpg',\n",
       " 'dataset2/rain26.jpg',\n",
       " 'dataset2/shine27.jpg',\n",
       " 'dataset2/rain138.jpg',\n",
       " 'dataset2/cloudy165.jpg',\n",
       " 'dataset2/cloudy76.jpg',\n",
       " 'dataset2/shine95.jpg',\n",
       " 'dataset2/sunrise8.jpg',\n",
       " 'dataset2/shine240.jpg',\n",
       " 'dataset2/shine191.jpg',\n",
       " 'dataset2/rain85.jpg',\n",
       " 'dataset2/shine217.jpg',\n",
       " 'dataset2/sunrise177.jpg',\n",
       " 'dataset2/shine147.jpg',\n",
       " 'dataset2/shine55.jpg',\n",
       " 'dataset2/cloudy82.jpg',\n",
       " 'dataset2/shine238.jpg',\n",
       " 'dataset2/sunrise231.jpg',\n",
       " 'dataset2/cloudy129.jpg',\n",
       " 'dataset2/shine223.jpg',\n",
       " 'dataset2/sunrise241.jpg',\n",
       " 'dataset2/sunrise30.jpg',\n",
       " 'dataset2/rain75.jpg',\n",
       " 'dataset2/shine98.jpg',\n",
       " 'dataset2/shine31.jpg',\n",
       " 'dataset2/shine34.jpg',\n",
       " 'dataset2/cloudy284.jpg',\n",
       " 'dataset2/rain180.jpg',\n",
       " 'dataset2/sunrise223.jpg',\n",
       " 'dataset2/shine128.jpg',\n",
       " 'dataset2/sunrise287.jpg',\n",
       " 'dataset2/sunrise117.jpg',\n",
       " 'dataset2/cloudy137.jpg',\n",
       " 'dataset2/sunrise55.jpg',\n",
       " 'dataset2/sunrise307.jpg',\n",
       " 'dataset2/sunrise14.jpg',\n",
       " 'dataset2/cloudy20.jpg',\n",
       " 'dataset2/rain19.jpg',\n",
       " 'dataset2/shine157.jpg',\n",
       " 'dataset2/rain91.jpg',\n",
       " 'dataset2/shine96.jpg',\n",
       " 'dataset2/shine236.jpg',\n",
       " 'dataset2/shine45.jpg',\n",
       " 'dataset2/shine119.jpg',\n",
       " 'dataset2/shine159.jpg',\n",
       " 'dataset2/shine232.jpg',\n",
       " 'dataset2/sunrise290.jpg',\n",
       " 'dataset2/cloudy79.jpg',\n",
       " 'dataset2/sunrise228.jpg',\n",
       " 'dataset2/cloudy237.jpg',\n",
       " 'dataset2/shine1.jpg',\n",
       " 'dataset2/rain184.jpg',\n",
       " 'dataset2/shine75.jpg',\n",
       " 'dataset2/sunrise218.jpg',\n",
       " 'dataset2/cloudy169.jpg',\n",
       " 'dataset2/cloudy249.jpg',\n",
       " 'dataset2/cloudy151.jpg',\n",
       " 'dataset2/sunrise94.jpg',\n",
       " 'dataset2/cloudy108.jpg',\n",
       " 'dataset2/sunrise337.jpg',\n",
       " 'dataset2/cloudy29.jpg',\n",
       " 'dataset2/cloudy280.jpg',\n",
       " 'dataset2/cloudy147.jpg',\n",
       " 'dataset2/sunrise159.jpg',\n",
       " 'dataset2/sunrise141.jpg',\n",
       " 'dataset2/sunrise317.jpg',\n",
       " 'dataset2/sunrise96.jpg',\n",
       " 'dataset2/cloudy164.jpg',\n",
       " 'dataset2/shine112.jpg',\n",
       " 'dataset2/shine42.jpg',\n",
       " 'dataset2/shine246.jpg',\n",
       " 'dataset2/cloudy44.jpg',\n",
       " 'dataset2/rain108.jpg',\n",
       " 'dataset2/shine136.jpg',\n",
       " 'dataset2/shine169.jpg',\n",
       " 'dataset2/rain102.jpg',\n",
       " 'dataset2/rain146.jpg',\n",
       " 'dataset2/sunrise325.jpg',\n",
       " 'dataset2/sunrise242.jpg',\n",
       " 'dataset2/shine21.jpg',\n",
       " 'dataset2/shine185.jpg',\n",
       " 'dataset2/shine182.jpg',\n",
       " 'dataset2/shine134.jpg',\n",
       " 'dataset2/cloudy228.jpg',\n",
       " 'dataset2/rain176.jpg',\n",
       " 'dataset2/rain112.jpg',\n",
       " 'dataset2/sunrise336.jpg',\n",
       " 'dataset2/cloudy128.jpg',\n",
       " 'dataset2/shine230.jpg',\n",
       " 'dataset2/sunrise92.jpg',\n",
       " 'dataset2/sunrise166.jpg',\n",
       " 'dataset2/rain12.jpg',\n",
       " 'dataset2/rain13.jpg',\n",
       " 'dataset2/rain118.jpg',\n",
       " 'dataset2/cloudy130.jpg',\n",
       " 'dataset2/cloudy11.jpg',\n",
       " 'dataset2/sunrise268.jpg',\n",
       " 'dataset2/shine243.jpg',\n",
       " 'dataset2/cloudy174.jpg',\n",
       " 'dataset2/sunrise125.jpg',\n",
       " 'dataset2/shine196.jpg',\n",
       " 'dataset2/sunrise110.jpg',\n",
       " 'dataset2/sunrise100.jpg',\n",
       " 'dataset2/cloudy3.jpg',\n",
       " 'dataset2/shine229.jpg',\n",
       " 'dataset2/cloudy265.jpg',\n",
       " 'dataset2/shine205.jpg',\n",
       " 'dataset2/shine158.jpg',\n",
       " 'dataset2/sunrise353.jpg',\n",
       " 'dataset2/shine145.jpg',\n",
       " 'dataset2/shine131.jpg',\n",
       " 'dataset2/shine150.jpg',\n",
       " 'dataset2/sunrise161.jpg',\n",
       " 'dataset2/shine140.jpg',\n",
       " 'dataset2/rain50.jpg',\n",
       " 'dataset2/shine132.jpg',\n",
       " 'dataset2/cloudy299.jpg',\n",
       " 'dataset2/rain49.jpg',\n",
       " 'dataset2/sunrise349.jpg',\n",
       " 'dataset2/sunrise123.jpg',\n",
       " 'dataset2/sunrise132.jpg',\n",
       " 'dataset2/shine190.jpg',\n",
       " 'dataset2/cloudy50.jpg',\n",
       " 'dataset2/rain117.jpg',\n",
       " 'dataset2/rain71.jpg',\n",
       " 'dataset2/shine8.jpg',\n",
       " 'dataset2/sunrise104.jpg',\n",
       " 'dataset2/cloudy267.jpg',\n",
       " 'dataset2/rain10.jpg',\n",
       " 'dataset2/sunrise330.jpg',\n",
       " 'dataset2/rain202.jpg',\n",
       " 'dataset2/sunrise262.jpg',\n",
       " 'dataset2/rain171.jpg',\n",
       " 'dataset2/shine251.jpg',\n",
       " 'dataset2/cloudy122.jpg',\n",
       " 'dataset2/cloudy269.jpg',\n",
       " 'dataset2/sunrise88.jpg',\n",
       " 'dataset2/cloudy16.jpg',\n",
       " 'dataset2/shine148.jpg',\n",
       " 'dataset2/shine29.jpg',\n",
       " 'dataset2/cloudy209.jpg',\n",
       " 'dataset2/cloudy257.jpg',\n",
       " 'dataset2/shine73.jpg',\n",
       " 'dataset2/sunrise82.jpg',\n",
       " 'dataset2/cloudy83.jpg',\n",
       " 'dataset2/rain73.jpg',\n",
       " 'dataset2/sunrise190.jpg',\n",
       " 'dataset2/cloudy225.jpg',\n",
       " 'dataset2/sunrise239.jpg',\n",
       " 'dataset2/rain179.jpg',\n",
       " 'dataset2/sunrise29.jpg',\n",
       " 'dataset2/shine155.jpg',\n",
       " 'dataset2/sunrise192.jpg',\n",
       " 'dataset2/rain204.jpg',\n",
       " 'dataset2/shine81.jpg',\n",
       " 'dataset2/rain201.jpg',\n",
       " 'dataset2/rain174.jpg',\n",
       " 'dataset2/cloudy244.jpg',\n",
       " 'dataset2/rain125.jpg',\n",
       " 'dataset2/sunrise255.jpg',\n",
       " 'dataset2/shine91.jpg',\n",
       " 'dataset2/shine32.jpg',\n",
       " 'dataset2/rain100.jpg',\n",
       " 'dataset2/rain134.jpg',\n",
       " 'dataset2/rain177.jpg',\n",
       " 'dataset2/sunrise296.jpg',\n",
       " 'dataset2/cloudy238.jpg',\n",
       " 'dataset2/cloudy292.jpg',\n",
       " 'dataset2/rain135.jpg',\n",
       " 'dataset2/cloudy246.jpg',\n",
       " 'dataset2/shine133.jpg',\n",
       " 'dataset2/shine113.jpg',\n",
       " 'dataset2/shine115.jpg',\n",
       " 'dataset2/sunrise195.jpg',\n",
       " 'dataset2/cloudy123.jpg',\n",
       " 'dataset2/cloudy178.jpg',\n",
       " 'dataset2/shine168.jpg',\n",
       " 'dataset2/sunrise116.jpg',\n",
       " 'dataset2/sunrise237.jpg',\n",
       " 'dataset2/rain86.jpg',\n",
       " 'dataset2/sunrise62.jpg',\n",
       " 'dataset2/shine166.jpg',\n",
       " 'dataset2/cloudy252.jpg',\n",
       " 'dataset2/shine2.jpg',\n",
       " 'dataset2/sunrise299.jpg',\n",
       " 'dataset2/sunrise280.jpg',\n",
       " 'dataset2/cloudy14.jpg',\n",
       " 'dataset2/rain62.jpg',\n",
       " 'dataset2/sunrise27.jpg',\n",
       " 'dataset2/rain30.jpg',\n",
       " 'dataset2/sunrise175.jpg',\n",
       " 'dataset2/sunrise57.jpg',\n",
       " 'dataset2/rain129.jpg',\n",
       " 'dataset2/shine102.jpg',\n",
       " 'dataset2/cloudy93.jpg',\n",
       " 'dataset2/shine37.jpg',\n",
       " 'dataset2/shine18.jpg',\n",
       " 'dataset2/cloudy57.jpg',\n",
       " 'dataset2/cloudy13.jpg',\n",
       " 'dataset2/sunrise79.jpg',\n",
       " 'dataset2/shine235.jpg',\n",
       " 'dataset2/sunrise215.jpg',\n",
       " 'dataset2/sunrise323.jpg',\n",
       " 'dataset2/sunrise222.jpg',\n",
       " 'dataset2/sunrise213.jpg',\n",
       " 'dataset2/sunrise244.jpg',\n",
       " 'dataset2/cloudy239.jpg',\n",
       " 'dataset2/cloudy170.jpg',\n",
       " 'dataset2/rain69.jpg',\n",
       " 'dataset2/rain142.jpg',\n",
       " 'dataset2/sunrise354.jpg',\n",
       " 'dataset2/rain172.jpg',\n",
       " 'dataset2/sunrise311.jpg',\n",
       " 'dataset2/shine19.jpg',\n",
       " 'dataset2/sunrise133.jpg',\n",
       " 'dataset2/sunrise138.jpg',\n",
       " 'dataset2/shine40.jpg',\n",
       " 'dataset2/sunrise87.jpg',\n",
       " 'dataset2/sunrise167.jpg',\n",
       " 'dataset2/sunrise310.jpg',\n",
       " 'dataset2/shine26.jpg',\n",
       " 'dataset2/rain6.jpg',\n",
       " 'dataset2/cloudy153.jpg',\n",
       " 'dataset2/sunrise357.jpg',\n",
       " 'dataset2/sunrise147.jpg',\n",
       " 'dataset2/sunrise33.jpg',\n",
       " 'dataset2/rain178.jpg',\n",
       " 'dataset2/shine126.jpg',\n",
       " 'dataset2/sunrise257.jpg',\n",
       " 'dataset2/sunrise103.jpg',\n",
       " 'dataset2/sunrise294.jpg',\n",
       " 'dataset2/sunrise86.jpg',\n",
       " 'dataset2/cloudy156.jpg',\n",
       " 'dataset2/sunrise63.jpg',\n",
       " 'dataset2/cloudy160.jpg',\n",
       " 'dataset2/rain80.jpg',\n",
       " 'dataset2/sunrise68.jpg',\n",
       " 'dataset2/rain64.jpg',\n",
       " 'dataset2/rain212.jpg',\n",
       " 'dataset2/sunrise333.jpg',\n",
       " 'dataset2/shine153.jpg',\n",
       " 'dataset2/cloudy167.jpg',\n",
       " 'dataset2/cloudy109.jpg',\n",
       " 'dataset2/shine93.jpg',\n",
       " 'dataset2/shine6.jpg',\n",
       " 'dataset2/shine204.jpg',\n",
       " 'dataset2/sunrise321.jpg',\n",
       " 'dataset2/cloudy4.jpg',\n",
       " 'dataset2/cloudy196.jpg',\n",
       " 'dataset2/cloudy295.jpg',\n",
       " 'dataset2/shine118.jpg',\n",
       " 'dataset2/rain31.jpg',\n",
       " 'dataset2/rain11.jpg',\n",
       " 'dataset2/sunrise224.jpg',\n",
       " 'dataset2/sunrise308.jpg',\n",
       " 'dataset2/rain153.jpg',\n",
       " 'dataset2/cloudy222.jpg',\n",
       " 'dataset2/rain157.jpg',\n",
       " 'dataset2/rain97.jpg',\n",
       " 'dataset2/rain22.jpeg',\n",
       " 'dataset2/cloudy9.jpg',\n",
       " 'dataset2/sunrise288.jpg',\n",
       " 'dataset2/sunrise263.jpg',\n",
       " 'dataset2/sunrise282.jpg',\n",
       " 'dataset2/rain123.jpg',\n",
       " 'dataset2/sunrise292.jpg',\n",
       " 'dataset2/cloudy101.jpg',\n",
       " 'dataset2/sunrise313.jpg',\n",
       " 'dataset2/sunrise348.jpg',\n",
       " 'dataset2/cloudy243.jpg',\n",
       " 'dataset2/shine79.jpg',\n",
       " 'dataset2/cloudy270.jpg',\n",
       " 'dataset2/sunrise6.jpg',\n",
       " 'dataset2/shine171.jpg',\n",
       " 'dataset2/shine50.jpg',\n",
       " 'dataset2/sunrise350.jpg',\n",
       " 'dataset2/rain81.jpg',\n",
       " 'dataset2/shine184.jpg',\n",
       " 'dataset2/cloudy86.jpg',\n",
       " 'dataset2/rain173.jpg',\n",
       " 'dataset2/sunrise171.jpg',\n",
       " 'dataset2/rain182.jpg',\n",
       " 'dataset2/cloudy103.jpg',\n",
       " 'dataset2/shine241.jpg',\n",
       " 'dataset2/cloudy48.jpg',\n",
       " 'dataset2/cloudy94.jpg',\n",
       " 'dataset2/sunrise201.jpg',\n",
       " 'dataset2/sunrise286.jpg',\n",
       " 'dataset2/rain17.jpg',\n",
       " 'dataset2/sunrise328.jpg',\n",
       " 'dataset2/shine189.jpg',\n",
       " 'dataset2/shine183.jpg',\n",
       " 'dataset2/cloudy279.jpg',\n",
       " 'dataset2/sunrise144.jpg',\n",
       " 'dataset2/sunrise173.jpg',\n",
       " 'dataset2/rain53.jpg',\n",
       " 'dataset2/shine206.jpg',\n",
       " 'dataset2/shine143.jpg',\n",
       " 'dataset2/cloudy17.jpg',\n",
       " 'dataset2/shine101.jpg',\n",
       " 'dataset2/sunrise227.jpg',\n",
       " 'dataset2/cloudy210.jpg',\n",
       " 'dataset2/rain130.jpg',\n",
       " 'dataset2/shine111.jpg',\n",
       " 'dataset2/sunrise90.jpg',\n",
       " 'dataset2/cloudy51.jpg',\n",
       " 'dataset2/rain76.jpg',\n",
       " 'dataset2/cloudy171.jpg',\n",
       " 'dataset2/sunrise289.jpg',\n",
       " 'dataset2/cloudy10.jpg',\n",
       " 'dataset2/cloudy247.jpg',\n",
       " 'dataset2/sunrise208.jpg',\n",
       " 'dataset2/sunrise322.jpg',\n",
       " 'dataset2/rain107.jpg',\n",
       " 'dataset2/cloudy23.jpg',\n",
       " 'dataset2/rain199.jpg',\n",
       " 'dataset2/cloudy272.jpg',\n",
       " 'dataset2/rain151.jpg',\n",
       " 'dataset2/rain65.jpg',\n",
       " 'dataset2/rain20.jpg',\n",
       " 'dataset2/rain211.jpg',\n",
       " 'dataset2/shine167.jpg',\n",
       " 'dataset2/sunrise194.jpg',\n",
       " 'dataset2/shine83.jpg',\n",
       " 'dataset2/cloudy250.jpg',\n",
       " 'dataset2/sunrise37.jpg',\n",
       " 'dataset2/sunrise178.jpg',\n",
       " 'dataset2/shine108.jpg',\n",
       " 'dataset2/rain2.jpg',\n",
       " 'dataset2/rain39.jpg',\n",
       " 'dataset2/sunrise197.jpg',\n",
       " 'dataset2/sunrise259.jpg',\n",
       " 'dataset2/cloudy34.jpg',\n",
       " 'dataset2/sunrise269.jpg',\n",
       " 'dataset2/cloudy157.jpg',\n",
       " 'dataset2/sunrise15.jpg',\n",
       " 'dataset2/sunrise131.jpg',\n",
       " 'dataset2/cloudy197.jpg',\n",
       " 'dataset2/sunrise351.jpg',\n",
       " 'dataset2/rain1.jpg',\n",
       " 'dataset2/shine28.jpg',\n",
       " 'dataset2/sunrise151.jpg',\n",
       " 'dataset2/rain197.jpg',\n",
       " 'dataset2/cloudy162.jpg',\n",
       " 'dataset2/sunrise316.jpg',\n",
       " 'dataset2/shine213.jpg',\n",
       " 'dataset2/rain186.jpg',\n",
       " 'dataset2/sunrise186.jpg',\n",
       " 'dataset2/cloudy62.jpg',\n",
       " 'dataset2/rain14.jpg',\n",
       " 'dataset2/shine122.jpg',\n",
       " 'dataset2/cloudy149.jpg',\n",
       " 'dataset2/cloudy15.jpg',\n",
       " 'dataset2/shine129.jpg',\n",
       " 'dataset2/cloudy140.jpg',\n",
       " 'dataset2/sunrise278.jpg',\n",
       " 'dataset2/rain114.jpg',\n",
       " 'dataset2/sunrise193.jpg',\n",
       " 'dataset2/cloudy287.jpg',\n",
       " 'dataset2/cloudy45.jpg',\n",
       " 'dataset2/shine165.jpg',\n",
       " 'dataset2/cloudy135.jpg',\n",
       " 'dataset2/rain169.jpg',\n",
       " 'dataset2/cloudy163.jpg',\n",
       " 'dataset2/cloudy38.jpg',\n",
       " 'dataset2/sunrise285.jpg',\n",
       " 'dataset2/cloudy194.jpg',\n",
       " 'dataset2/sunrise130.jpg',\n",
       " 'dataset2/cloudy166.jpg',\n",
       " 'dataset2/shine187.jpg',\n",
       " 'dataset2/shine197.jpg',\n",
       " 'dataset2/sunrise105.jpg',\n",
       " 'dataset2/sunrise114.jpg',\n",
       " 'dataset2/sunrise108.jpg',\n",
       " 'dataset2/shine58.jpg',\n",
       " 'dataset2/sunrise22.jpg',\n",
       " 'dataset2/cloudy55.jpg',\n",
       " 'dataset2/rain147.jpg',\n",
       " 'dataset2/cloudy281.jpg',\n",
       " 'dataset2/shine146.jpg',\n",
       " 'dataset2/rain87.jpg',\n",
       " 'dataset2/cloudy70.jpg',\n",
       " 'dataset2/rain161.jpg',\n",
       " 'dataset2/sunrise352.jpg',\n",
       " 'dataset2/cloudy154.jpg',\n",
       " 'dataset2/sunrise85.jpg',\n",
       " 'dataset2/shine120.jpg',\n",
       " 'dataset2/cloudy73.jpg',\n",
       " 'dataset2/sunrise23.jpg',\n",
       " 'dataset2/rain145.jpg',\n",
       " 'dataset2/sunrise83.jpg',\n",
       " 'dataset2/cloudy126.jpg',\n",
       " 'dataset2/cloudy259.jpg',\n",
       " 'dataset2/shine195.jpg',\n",
       " 'dataset2/sunrise35.jpg',\n",
       " 'dataset2/sunrise16.jpg',\n",
       " 'dataset2/rain4.jpg',\n",
       " 'dataset2/rain111.jpg',\n",
       " 'dataset2/sunrise301.jpg',\n",
       " 'dataset2/cloudy179.jpg',\n",
       " 'dataset2/sunrise10.jpg',\n",
       " 'dataset2/sunrise314.jpg',\n",
       " 'dataset2/rain68.jpg',\n",
       " 'dataset2/rain198.jpg',\n",
       " 'dataset2/rain54.jpg',\n",
       " 'dataset2/sunrise129.jpg',\n",
       " 'dataset2/rain121.jpg',\n",
       " 'dataset2/rain175.jpg',\n",
       " 'dataset2/cloudy264.jpg',\n",
       " 'dataset2/shine252.jpg',\n",
       " 'dataset2/cloudy211.jpg',\n",
       " 'dataset2/sunrise122.jpg',\n",
       " 'dataset2/shine103.jpg',\n",
       " 'dataset2/sunrise202.jpg',\n",
       " 'dataset2/rain88.jpg',\n",
       " 'dataset2/cloudy273.jpg',\n",
       " 'dataset2/rain103.jpg',\n",
       " 'dataset2/cloudy204.jpg',\n",
       " 'dataset2/cloudy275.jpg',\n",
       " 'dataset2/rain70.jpg',\n",
       " 'dataset2/sunrise155.jpg',\n",
       " 'dataset2/cloudy213.jpg',\n",
       " 'dataset2/rain192.jpg',\n",
       " 'dataset2/sunrise7.jpg',\n",
       " 'dataset2/shine144.jpg',\n",
       " 'dataset2/shine69.jpg',\n",
       " 'dataset2/rain51.jpg',\n",
       " 'dataset2/sunrise84.jpg',\n",
       " 'dataset2/sunrise256.jpg',\n",
       " 'dataset2/sunrise326.jpg',\n",
       " 'dataset2/cloudy296.jpg',\n",
       " 'dataset2/cloudy125.jpg',\n",
       " 'dataset2/shine244.jpg',\n",
       " 'dataset2/shine59.jpg',\n",
       " 'dataset2/cloudy203.jpg',\n",
       " 'dataset2/sunrise93.jpg',\n",
       " 'dataset2/cloudy218.jpg',\n",
       " 'dataset2/shine188.jpg',\n",
       " 'dataset2/rain61.jpg',\n",
       " 'dataset2/cloudy214.jpg',\n",
       " 'dataset2/shine138.jpg',\n",
       " 'dataset2/sunrise49.jpg',\n",
       " 'dataset2/shine24.jpg',\n",
       " 'dataset2/sunrise240.jpg',\n",
       " 'dataset2/rain162.jpg',\n",
       " 'dataset2/shine64.jpg',\n",
       " 'dataset2/cloudy97.jpg',\n",
       " 'dataset2/cloudy219.jpg',\n",
       " 'dataset2/shine92.jpg',\n",
       " 'dataset2/shine15.jpg',\n",
       " 'dataset2/sunrise127.jpg',\n",
       " 'dataset2/rain164.jpg',\n",
       " 'dataset2/cloudy185.jpg',\n",
       " 'dataset2/sunrise265.jpg',\n",
       " 'dataset2/sunrise345.jpg',\n",
       " 'dataset2/rain105.jpg',\n",
       " 'dataset2/sunrise120.jpg',\n",
       " 'dataset2/sunrise98.jpg',\n",
       " 'dataset2/cloudy53.jpg',\n",
       " 'dataset2/shine135.jpg',\n",
       " 'dataset2/rain191.jpg',\n",
       " 'dataset2/cloudy47.jpg',\n",
       " 'dataset2/shine99.jpg',\n",
       " 'dataset2/rain124.jpg',\n",
       " 'dataset2/cloudy87.jpg',\n",
       " 'dataset2/cloudy136.jpg',\n",
       " 'dataset2/shine5.jpg',\n",
       " 'dataset2/cloudy300.jpg',\n",
       " 'dataset2/rain163.jpg',\n",
       " 'dataset2/sunrise188.jpg',\n",
       " 'dataset2/sunrise12.jpg',\n",
       " 'dataset2/sunrise318.jpg',\n",
       " 'dataset2/rain214.jpg',\n",
       " 'dataset2/rain104.jpg',\n",
       " 'dataset2/rain18.jpg',\n",
       " 'dataset2/cloudy90.jpg',\n",
       " 'dataset2/sunrise142.jpg',\n",
       " 'dataset2/sunrise272.jpg',\n",
       " 'dataset2/cloudy202.jpg',\n",
       " 'dataset2/sunrise74.jpg',\n",
       " 'dataset2/rain28.jpg',\n",
       " 'dataset2/cloudy102.jpg',\n",
       " 'dataset2/shine247.jpg',\n",
       " 'dataset2/shine11.jpg',\n",
       " 'dataset2/cloudy114.jpg',\n",
       " 'dataset2/sunrise112.jpg',\n",
       " 'dataset2/sunrise150.jpg',\n",
       " 'dataset2/shine106.jpg',\n",
       " 'dataset2/cloudy294.jpg',\n",
       " 'dataset2/cloudy8.jpg',\n",
       " 'dataset2/sunrise212.jpg',\n",
       " 'dataset2/rain101.jpg',\n",
       " 'dataset2/sunrise284.jpg',\n",
       " 'dataset2/cloudy216.jpg',\n",
       " 'dataset2/sunrise107.jpg',\n",
       " 'dataset2/sunrise20.jpg',\n",
       " 'dataset2/shine175.jpg',\n",
       " 'dataset2/cloudy104.jpg',\n",
       " 'dataset2/sunrise199.jpg',\n",
       " 'dataset2/shine36.jpg',\n",
       " 'dataset2/sunrise232.jpg',\n",
       " 'dataset2/rain156.jpg',\n",
       " 'dataset2/cloudy91.jpg',\n",
       " 'dataset2/sunrise182.jpg',\n",
       " 'dataset2/shine253.jpg',\n",
       " 'dataset2/shine38.jpg',\n",
       " 'dataset2/cloudy88.jpg',\n",
       " 'dataset2/sunrise238.jpg',\n",
       " 'dataset2/sunrise303.jpg',\n",
       " 'dataset2/sunrise245.jpg',\n",
       " 'dataset2/shine117.jpg',\n",
       " 'dataset2/sunrise91.jpg',\n",
       " 'dataset2/sunrise77.jpg',\n",
       " 'dataset2/sunrise31.jpg',\n",
       " 'dataset2/sunrise156.jpg',\n",
       " 'dataset2/rain7.jpg',\n",
       " 'dataset2/rain181.jpg',\n",
       " 'dataset2/rain183.jpg',\n",
       " 'dataset2/cloudy263.jpg',\n",
       " 'dataset2/sunrise298.jpg',\n",
       " 'dataset2/sunrise274.jpg',\n",
       " 'dataset2/sunrise46.jpg',\n",
       " 'dataset2/sunrise19.jpg',\n",
       " 'dataset2/rain141.jpg',\n",
       " 'dataset2/cloudy152.jpg',\n",
       " 'dataset2/shine77.jpg',\n",
       " 'dataset2/rain166.jpg',\n",
       " 'dataset2/rain106.jpg',\n",
       " 'dataset2/sunrise221.jpg',\n",
       " 'dataset2/cloudy283.jpg',\n",
       " 'dataset2/cloudy276.jpg',\n",
       " 'dataset2/sunrise38.jpg',\n",
       " 'dataset2/cloudy133.jpg',\n",
       " 'dataset2/shine89.jpg',\n",
       " 'dataset2/cloudy159.jpg',\n",
       " 'dataset2/shine152.jpg',\n",
       " 'dataset2/sunrise180.jpg',\n",
       " 'dataset2/sunrise121.jpg',\n",
       " 'dataset2/cloudy191.jpg',\n",
       " 'dataset2/cloudy189.jpg',\n",
       " 'dataset2/shine201.jpg',\n",
       " 'dataset2/cloudy176.jpg',\n",
       " 'dataset2/cloudy192.jpg',\n",
       " 'dataset2/shine74.jpg',\n",
       " 'dataset2/rain83.jpg',\n",
       " 'dataset2/rain170.jpg',\n",
       " 'dataset2/sunrise279.jpg',\n",
       " 'dataset2/shine51.jpg',\n",
       " 'dataset2/shine72.jpg',\n",
       " 'dataset2/cloudy59.jpg',\n",
       " 'dataset2/sunrise258.jpg',\n",
       " 'dataset2/sunrise158.jpg',\n",
       " 'dataset2/cloudy255.jpg',\n",
       " 'dataset2/cloudy241.jpg',\n",
       " 'dataset2/rain113.jpg',\n",
       " 'dataset2/shine107.jpg',\n",
       " 'dataset2/shine25.jpg',\n",
       " 'dataset2/sunrise52.jpg',\n",
       " 'dataset2/sunrise276.jpg',\n",
       " 'dataset2/cloudy254.jpg',\n",
       " 'dataset2/shine220.jpg',\n",
       " 'dataset2/sunrise275.jpg',\n",
       " 'dataset2/cloudy142.jpg',\n",
       " 'dataset2/cloudy190.jpg',\n",
       " 'dataset2/cloudy155.jpg',\n",
       " 'dataset2/shine198.jpg',\n",
       " 'dataset2/shine214.jpg',\n",
       " 'dataset2/rain55.jpg',\n",
       " 'dataset2/shine245.jpg',\n",
       " 'dataset2/cloudy106.jpg',\n",
       " 'dataset2/cloudy205.jpg',\n",
       " 'dataset2/shine110.jpg',\n",
       " 'dataset2/rain136.jpg',\n",
       " 'dataset2/shine177.jpg',\n",
       " 'dataset2/cloudy145.jpg',\n",
       " 'dataset2/shine179.jpg',\n",
       " 'dataset2/shine211.jpg',\n",
       " 'dataset2/sunrise113.jpg',\n",
       " 'dataset2/sunrise39.jpg',\n",
       " 'dataset2/cloudy212.jpg',\n",
       " 'dataset2/sunrise44.jpg',\n",
       " 'dataset2/cloudy235.jpg',\n",
       " 'dataset2/sunrise126.jpg',\n",
       " 'dataset2/sunrise191.jpg',\n",
       " 'dataset2/shine66.jpg',\n",
       " 'dataset2/cloudy248.jpg',\n",
       " 'dataset2/sunrise128.jpg',\n",
       " 'dataset2/cloudy32.jpg',\n",
       " 'dataset2/cloudy7.jpg',\n",
       " 'dataset2/cloudy72.jpg',\n",
       " 'dataset2/shine215.jpg',\n",
       " 'dataset2/cloudy139.jpg',\n",
       " 'dataset2/sunrise324.jpg',\n",
       " 'dataset2/rain32.jpg',\n",
       " 'dataset2/rain133.jpg',\n",
       " 'dataset2/shine207.jpg',\n",
       " 'dataset2/rain82.jpg',\n",
       " 'dataset2/shine82.jpg',\n",
       " 'dataset2/sunrise76.jpg',\n",
       " 'dataset2/sunrise140.jpg',\n",
       " 'dataset2/cloudy193.jpg',\n",
       " 'dataset2/cloudy61.jpg',\n",
       " 'dataset2/cloudy206.jpg',\n",
       " 'dataset2/sunrise61.jpg',\n",
       " 'dataset2/cloudy233.jpg',\n",
       " 'dataset2/shine231.jpg',\n",
       " 'dataset2/cloudy177.jpg',\n",
       " 'dataset2/sunrise70.jpg',\n",
       " 'dataset2/sunrise36.jpg',\n",
       " 'dataset2/sunrise319.jpg',\n",
       " 'dataset2/sunrise220.jpg',\n",
       " 'dataset2/cloudy182.jpg',\n",
       " 'dataset2/cloudy19.jpg',\n",
       " 'dataset2/shine164.jpg',\n",
       " 'dataset2/cloudy77.jpg',\n",
       " 'dataset2/cloudy119.jpg',\n",
       " 'dataset2/shine61.jpg',\n",
       " 'dataset2/rain35.jpg',\n",
       " 'dataset2/shine226.jpg',\n",
       " 'dataset2/sunrise163.jpg',\n",
       " 'dataset2/shine233.jpg',\n",
       " 'dataset2/sunrise149.jpg',\n",
       " 'dataset2/cloudy268.jpg',\n",
       " 'dataset2/sunrise252.jpg',\n",
       " 'dataset2/cloudy141.jpg',\n",
       " 'dataset2/cloudy131.jpg',\n",
       " 'dataset2/sunrise50.jpg',\n",
       " 'dataset2/shine71.jpg',\n",
       " 'dataset2/cloudy282.jpg',\n",
       " 'dataset2/shine63.jpg',\n",
       " 'dataset2/cloudy291.jpg',\n",
       " 'dataset2/sunrise304.jpg',\n",
       " 'dataset2/rain98.jpg',\n",
       " 'dataset2/rain5.jpg',\n",
       " 'dataset2/sunrise146.jpg',\n",
       " 'dataset2/shine234.jpg',\n",
       " 'dataset2/rain43.jpg',\n",
       " 'dataset2/sunrise136.jpg',\n",
       " 'dataset2/cloudy36.jpg',\n",
       " 'dataset2/rain38.jpg',\n",
       " 'dataset2/sunrise32.jpg',\n",
       " 'dataset2/sunrise335.jpg',\n",
       " 'dataset2/sunrise26.jpg',\n",
       " 'dataset2/shine124.jpg',\n",
       " 'dataset2/cloudy37.jpg',\n",
       " 'dataset2/cloudy98.jpg',\n",
       " 'dataset2/sunrise60.jpg',\n",
       " 'dataset2/shine186.jpg',\n",
       " 'dataset2/cloudy74.jpg',\n",
       " 'dataset2/sunrise233.jpg',\n",
       " 'dataset2/rain149.jpg',\n",
       " 'dataset2/shine181.jpg',\n",
       " 'dataset2/shine70.jpg',\n",
       " 'dataset2/cloudy56.jpg',\n",
       " 'dataset2/cloudy43.jpg',\n",
       " 'dataset2/cloudy100.jpg',\n",
       " 'dataset2/shine94.jpg',\n",
       " 'dataset2/shine216.jpg',\n",
       " 'dataset2/rain57.jpg',\n",
       " 'dataset2/cloudy113.jpg',\n",
       " 'dataset2/sunrise273.jpg',\n",
       " 'dataset2/sunrise205.jpg',\n",
       " 'dataset2/cloudy111.jpg',\n",
       " 'dataset2/sunrise226.jpg',\n",
       " 'dataset2/sunrise102.jpg',\n",
       " 'dataset2/sunrise203.jpg',\n",
       " 'dataset2/cloudy183.jpg',\n",
       " 'dataset2/rain74.jpg',\n",
       " 'dataset2/cloudy221.jpg',\n",
       " 'dataset2/rain66.jpg',\n",
       " 'dataset2/rain209.jpg',\n",
       " 'dataset2/cloudy215.jpg',\n",
       " 'dataset2/shine224.jpg',\n",
       " 'dataset2/shine222.jpg',\n",
       " 'dataset2/shine173.jpg',\n",
       " 'dataset2/sunrise306.jpg',\n",
       " 'dataset2/rain115.jpg',\n",
       " 'dataset2/shine84.jpg',\n",
       " 'dataset2/shine156.jpg',\n",
       " 'dataset2/rain148.jpg',\n",
       " 'dataset2/cloudy68.jpg',\n",
       " 'dataset2/cloudy288.jpg',\n",
       " 'dataset2/rain200.jpg',\n",
       " 'dataset2/cloudy298.jpg',\n",
       " 'dataset2/shine250.jpg',\n",
       " 'dataset2/sunrise145.jpg',\n",
       " 'dataset2/cloudy21.jpg',\n",
       " 'dataset2/rain165.jpg',\n",
       " 'dataset2/cloudy66.jpg',\n",
       " 'dataset2/sunrise162.jpg',\n",
       " 'dataset2/rain96.jpg',\n",
       " 'dataset2/cloudy124.jpg',\n",
       " 'dataset2/sunrise196.jpg',\n",
       " 'dataset2/sunrise172.jpg',\n",
       " 'dataset2/shine137.jpg',\n",
       " 'dataset2/shine218.jpg',\n",
       " 'dataset2/shine163.jpg',\n",
       " 'dataset2/sunrise89.jpeg',\n",
       " 'dataset2/sunrise229.jpg',\n",
       " 'dataset2/cloudy245.jpg',\n",
       " 'dataset2/rain131.jpg',\n",
       " 'dataset2/sunrise134.jpg',\n",
       " 'dataset2/rain205.jpg',\n",
       " 'dataset2/shine87.jpg',\n",
       " 'dataset2/shine86.jpg',\n",
       " 'dataset2/cloudy199.jpg',\n",
       " 'dataset2/cloudy187.jpg',\n",
       " 'dataset2/shine67.jpg',\n",
       " 'dataset2/rain41.jpg',\n",
       " 'dataset2/cloudy278.jpg',\n",
       " 'dataset2/rain45.jpg',\n",
       " 'dataset2/shine48.jpg',\n",
       " 'dataset2/sunrise342.jpg',\n",
       " 'dataset2/rain42.jpg',\n",
       " 'dataset2/shine68.jpg',\n",
       " 'dataset2/rain92.jpg',\n",
       " 'dataset2/rain84.jpg',\n",
       " 'dataset2/sunrise75.jpg',\n",
       " 'dataset2/shine142.jpg',\n",
       " 'dataset2/sunrise47.jpg',\n",
       " 'dataset2/sunrise283.jpg',\n",
       " 'dataset2/sunrise24.jpg',\n",
       " 'dataset2/sunrise179.jpg',\n",
       " 'dataset2/cloudy78.jpg',\n",
       " 'dataset2/sunrise200.jpg',\n",
       " 'dataset2/cloudy64.jpg',\n",
       " 'dataset2/cloudy208.jpg',\n",
       " 'dataset2/cloudy184.jpg',\n",
       " 'dataset2/cloudy230.jpg',\n",
       " 'dataset2/shine221.jpg',\n",
       " 'dataset2/sunrise106.jpg',\n",
       " 'dataset2/cloudy266.jpg',\n",
       " 'dataset2/sunrise54.jpg',\n",
       " 'dataset2/shine9.jpg',\n",
       " 'dataset2/cloudy92.jpg',\n",
       " 'dataset2/shine172.jpg',\n",
       " 'dataset2/sunrise21.jpg',\n",
       " 'dataset2/shine248.jpg',\n",
       " 'dataset2/shine90.jpg',\n",
       " 'dataset2/sunrise248.jpg',\n",
       " 'dataset2/sunrise80.jpg',\n",
       " 'dataset2/rain116.jpg',\n",
       " 'dataset2/sunrise143.jpg',\n",
       " 'dataset2/cloudy71.jpg',\n",
       " 'dataset2/sunrise59.jpg',\n",
       " 'dataset2/cloudy188.jpg',\n",
       " 'dataset2/rain15.jpg',\n",
       " 'dataset2/cloudy6.jpg',\n",
       " 'dataset2/rain210.jpg',\n",
       " 'dataset2/sunrise270.jpg',\n",
       " 'dataset2/cloudy173.jpg',\n",
       " 'dataset2/cloudy224.jpg',\n",
       " 'dataset2/rain137.jpg',\n",
       " 'dataset2/sunrise11.jpg',\n",
       " 'dataset2/cloudy234.jpg',\n",
       " 'dataset2/cloudy96.jpg',\n",
       " 'dataset2/sunrise101.jpg',\n",
       " 'dataset2/rain34.jpg',\n",
       " 'dataset2/cloudy46.jpg',\n",
       " 'dataset2/rain44.jpg',\n",
       " 'dataset2/cloudy52.jpg',\n",
       " 'dataset2/shine200.jpg',\n",
       " 'dataset2/cloudy198.jpg',\n",
       " 'dataset2/rain89.jpg',\n",
       " 'dataset2/rain59.jpg',\n",
       " 'dataset2/cloudy289.jpg',\n",
       " 'dataset2/rain127.jpg',\n",
       " 'dataset2/shine10.jpg',\n",
       " 'dataset2/cloudy186.jpg',\n",
       " 'dataset2/shine141.jpg',\n",
       " 'dataset2/sunrise209.jpg',\n",
       " 'dataset2/shine62.jpg',\n",
       " 'dataset2/shine180.jpg',\n",
       " 'dataset2/rain126.jpg',\n",
       " 'dataset2/sunrise332.jpg',\n",
       " 'dataset2/rain144.jpg',\n",
       " 'dataset2/sunrise139.jpg',\n",
       " 'dataset2/rain188.jpg',\n",
       " 'dataset2/cloudy1.jpg',\n",
       " 'dataset2/cloudy105.jpg',\n",
       " 'dataset2/sunrise148.jpg',\n",
       " 'dataset2/shine176.jpg',\n",
       " 'dataset2/cloudy181.jpg',\n",
       " 'dataset2/cloudy161.jpg',\n",
       " 'dataset2/shine160.jpg',\n",
       " 'dataset2/cloudy41.jpg',\n",
       " 'dataset2/rain56.jpg',\n",
       " 'dataset2/shine80.jpg',\n",
       " 'dataset2/cloudy258.jpg',\n",
       " 'dataset2/sunrise17.jpg',\n",
       " 'dataset2/sunrise266.jpg',\n",
       " 'dataset2/sunrise154.jpg',\n",
       " 'dataset2/sunrise40.jpg',\n",
       " 'dataset2/cloudy168.jpg',\n",
       " 'dataset2/rain215.jpg',\n",
       " 'dataset2/cloudy290.jpg',\n",
       " 'dataset2/shine41.jpg',\n",
       " 'dataset2/cloudy144.jpg',\n",
       " 'dataset2/rain152.jpg',\n",
       " 'dataset2/cloudy117.jpg',\n",
       " 'dataset2/shine12.jpg',\n",
       " 'dataset2/rain60.jpg',\n",
       " 'dataset2/shine60.jpg',\n",
       " 'dataset2/sunrise99.jpg',\n",
       " 'dataset2/rain194.jpg',\n",
       " 'dataset2/shine47.jpg',\n",
       " 'dataset2/sunrise2.jpg',\n",
       " 'dataset2/shine208.jpg',\n",
       " 'dataset2/rain40.jpg',\n",
       " 'dataset2/cloudy231.jpg',\n",
       " 'dataset2/rain159.jpg',\n",
       " 'dataset2/rain158.jpg',\n",
       " 'dataset2/rain160.jpg',\n",
       " 'dataset2/rain72.jpg',\n",
       " 'dataset2/cloudy297.jpg',\n",
       " 'dataset2/sunrise28.jpg',\n",
       " 'dataset2/cloudy253.jpg',\n",
       " 'dataset2/shine56.jpg',\n",
       " 'dataset2/rain119.jpg',\n",
       " 'dataset2/cloudy54.jpg',\n",
       " 'dataset2/sunrise277.jpg',\n",
       " 'dataset2/cloudy75.jpg',\n",
       " 'dataset2/cloudy18.jpg',\n",
       " 'dataset2/rain36.jpg',\n",
       " 'dataset2/rain140.jpg',\n",
       " 'dataset2/shine228.jpg',\n",
       " 'dataset2/sunrise187.jpg',\n",
       " 'dataset2/sunrise251.jpg',\n",
       " 'dataset2/sunrise235.jpg',\n",
       " 'dataset2/rain189.jpg',\n",
       " 'dataset2/shine116.jpg',\n",
       " 'dataset2/sunrise81.jpg',\n",
       " 'dataset2/cloudy24.jpg',\n",
       " 'dataset2/cloudy148.jpg',\n",
       " 'dataset2/sunrise189.jpg',\n",
       " 'dataset2/cloudy30.jpg',\n",
       " 'dataset2/sunrise204.jpg',\n",
       " 'dataset2/shine46.jpg',\n",
       " 'dataset2/cloudy256.jpg',\n",
       " 'dataset2/shine4.jpg',\n",
       " 'dataset2/cloudy200.jpg',\n",
       " 'dataset2/rain99.jpg',\n",
       " 'dataset2/cloudy5.jpg',\n",
       " 'dataset2/cloudy220.jpg',\n",
       " 'dataset2/cloudy242.jpg',\n",
       " 'dataset2/shine149.jpg',\n",
       " 'dataset2/rain79.jpg',\n",
       " 'dataset2/rain193.jpg',\n",
       " 'dataset2/rain48.jpg',\n",
       " 'dataset2/cloudy150.jpg',\n",
       " 'dataset2/sunrise355.jpg',\n",
       " 'dataset2/shine192.jpg',\n",
       " 'dataset2/sunrise66.jpg',\n",
       " 'dataset2/cloudy80.jpg',\n",
       " 'dataset2/sunrise339.jpg',\n",
       " 'dataset2/cloudy84.jpg',\n",
       " 'dataset2/sunrise97.jpg',\n",
       " 'dataset2/shine194.jpg',\n",
       " 'dataset2/sunrise115.jpg',\n",
       " 'dataset2/rain143.jpg',\n",
       " 'dataset2/cloudy127.jpg',\n",
       " 'dataset2/shine76.jpg',\n",
       " 'dataset2/cloudy89.jpg',\n",
       " 'dataset2/shine242.jpg',\n",
       " 'dataset2/cloudy2.jpg',\n",
       " 'dataset2/cloudy65.jpg',\n",
       " 'dataset2/rain24.jpeg',\n",
       " 'dataset2/shine20.jpg',\n",
       " 'dataset2/cloudy261.jpg',\n",
       " 'dataset2/sunrise214.jpg',\n",
       " 'dataset2/cloudy223.jpg',\n",
       " 'dataset2/sunrise48.jpg',\n",
       " ...]"
      ]
     },
     "execution_count": 2,
     "metadata": {},
     "output_type": "execute_result"
    }
   ],
   "source": [
    "import random\n",
    "image_folder = 'dataset2'\n",
    "\n",
    "# Get a list of all image file names in the folder\n",
    "file_path = [(image_folder + \"/\" + file) for file in os.listdir(image_folder)]\n",
    "\n",
    "# Shuffle the list of file names randomly\n",
    "random.shuffle(file_path)\n",
    "\n",
    "file_path"
   ]
  },
  {
   "cell_type": "code",
   "execution_count": 3,
   "metadata": {},
   "outputs": [
    {
     "name": "stdout",
     "output_type": "stream",
     "text": [
      "dataset2/sunrise183.jpg , sunrise\n",
      "dataset2/sunrise264.jpg , sunrise\n",
      "dataset2/sunrise72.jpg , sunrise\n",
      "dataset2/sunrise5.jpg , sunrise\n",
      "dataset2/rain67.jpg , rain\n",
      "dataset2/sunrise295.jpg , sunrise\n",
      "dataset2/sunrise309.jpg , sunrise\n",
      "dataset2/cloudy217.jpg , cloudy\n",
      "dataset2/rain213.jpg , rain\n",
      "dataset2/shine162.jpg , shine\n",
      "dataset2/shine13.jpg , shine\n",
      "dataset2/cloudy207.jpg , cloudy\n",
      "dataset2/shine33.jpg , shine\n",
      "dataset2/shine105.jpg , shine\n",
      "dataset2/sunrise346.jpg , sunrise\n",
      "dataset2/sunrise185.jpg , sunrise\n",
      "dataset2/sunrise198.jpg , sunrise\n",
      "dataset2/sunrise174.jpg , sunrise\n",
      "dataset2/cloudy226.jpg , cloudy\n",
      "dataset2/cloudy49.jpg , cloudy\n",
      "dataset2/cloudy42.jpg , cloudy\n",
      "dataset2/shine249.jpg , shine\n",
      "dataset2/rain109.jpg , rain\n",
      "dataset2/sunrise331.jpg , sunrise\n",
      "dataset2/cloudy260.jpg , cloudy\n",
      "dataset2/cloudy232.jpg , cloudy\n",
      "dataset2/cloudy262.jpg , cloudy\n",
      "dataset2/cloudy22.jpg , cloudy\n",
      "dataset2/cloudy274.jpg , cloudy\n",
      "dataset2/cloudy285.jpg , cloudy\n",
      "dataset2/sunrise137.jpg , sunrise\n",
      "dataset2/shine209.jpg , shine\n",
      "dataset2/cloudy175.jpg , cloudy\n",
      "dataset2/shine123.jpg , shine\n",
      "dataset2/cloudy115.jpg , cloudy\n",
      "dataset2/cloudy39.jpg , cloudy\n",
      "dataset2/rain190.jpg , rain\n",
      "dataset2/cloudy60.jpg , cloudy\n",
      "dataset2/sunrise271.jpg , sunrise\n",
      "dataset2/cloudy107.jpg , cloudy\n",
      "dataset2/cloudy143.jpg , cloudy\n",
      "dataset2/rain27.jpg , rain\n",
      "dataset2/sunrise181.jpg , sunrise\n",
      "dataset2/rain122.jpg , rain\n",
      "dataset2/cloudy277.jpg , cloudy\n",
      "dataset2/rain37.jpg , rain\n",
      "dataset2/shine30.jpg , shine\n",
      "dataset2/cloudy286.jpg , cloudy\n",
      "dataset2/sunrise34.jpg , sunrise\n",
      "dataset2/shine104.jpg , shine\n",
      "dataset2/sunrise56.jpg , sunrise\n",
      "dataset2/sunrise356.jpg , sunrise\n",
      "dataset2/rain3.jpg , rain\n",
      "dataset2/sunrise341.jpg , sunrise\n",
      "dataset2/cloudy120.jpg , cloudy\n",
      "dataset2/rain185.jpg , rain\n",
      "dataset2/shine151.jpg , shine\n",
      "dataset2/shine3.jpg , shine\n",
      "dataset2/sunrise164.jpg , sunrise\n",
      "dataset2/rain33.jpg , rain\n",
      "dataset2/cloudy12.jpg , cloudy\n",
      "dataset2/cloudy33.jpg , cloudy\n",
      "dataset2/shine65.jpg , shine\n",
      "dataset2/rain195.jpg , rain\n",
      "dataset2/sunrise320.jpg , sunrise\n",
      "dataset2/sunrise184.jpg , sunrise\n",
      "dataset2/rain132.jpg , rain\n",
      "dataset2/rain168.jpg , rain\n",
      "dataset2/cloudy85.jpg , cloudy\n",
      "dataset2/cloudy240.jpg , cloudy\n",
      "dataset2/cloudy31.jpg , cloudy\n",
      "dataset2/shine52.jpg , shine\n",
      "dataset2/cloudy35.jpg , cloudy\n",
      "dataset2/sunrise65.jpg , sunrise\n",
      "dataset2/shine202.jpg , shine\n",
      "dataset2/sunrise236.jpg , sunrise\n",
      "dataset2/shine109.jpg , shine\n",
      "dataset2/sunrise343.jpg , sunrise\n",
      "dataset2/sunrise291.jpg , sunrise\n",
      "dataset2/cloudy138.jpg , cloudy\n",
      "dataset2/sunrise210.jpg , sunrise\n",
      "dataset2/shine212.jpg , shine\n",
      "dataset2/cloudy28.jpg , cloudy\n",
      "dataset2/sunrise71.jpg , sunrise\n",
      "dataset2/sunrise153.jpg , sunrise\n",
      "dataset2/shine199.jpg , shine\n",
      "dataset2/sunrise305.jpg , sunrise\n",
      "dataset2/sunrise334.jpg , sunrise\n",
      "dataset2/cloudy40.jpg , cloudy\n",
      "dataset2/sunrise225.jpg , sunrise\n",
      "dataset2/cloudy63.jpg , cloudy\n",
      "dataset2/cloudy251.jpg , cloudy\n",
      "dataset2/sunrise41.jpg , sunrise\n",
      "dataset2/sunrise157.jpg , sunrise\n",
      "dataset2/sunrise118.jpg , sunrise\n",
      "dataset2/sunrise51.jpg , sunrise\n",
      "dataset2/sunrise267.jpg , sunrise\n",
      "dataset2/cloudy67.jpg , cloudy\n",
      "dataset2/shine16.jpg , shine\n",
      "dataset2/sunrise247.jpg , sunrise\n",
      "dataset2/shine17.jpg , shine\n",
      "dataset2/sunrise261.jpg , sunrise\n",
      "dataset2/rain93.jpg , rain\n",
      "dataset2/cloudy99.jpg , cloudy\n",
      "dataset2/sunrise293.jpg , sunrise\n",
      "dataset2/sunrise340.jpg , sunrise\n",
      "dataset2/shine14.jpg , shine\n",
      "dataset2/sunrise254.jpg , sunrise\n",
      "dataset2/sunrise160.jpg , sunrise\n",
      "dataset2/sunrise169.jpg , sunrise\n",
      "dataset2/cloudy229.jpg , cloudy\n",
      "dataset2/shine78.jpg , shine\n",
      "dataset2/shine53.jpg , shine\n",
      "dataset2/rain29.jpg , rain\n",
      "dataset2/cloudy172.jpg , cloudy\n",
      "dataset2/rain155.jpg , rain\n",
      "dataset2/rain128.jpg , rain\n",
      "dataset2/rain9.jpg , rain\n",
      "dataset2/shine127.jpg , shine\n",
      "dataset2/shine154.jpg , shine\n",
      "dataset2/cloudy116.jpg , cloudy\n",
      "dataset2/sunrise344.jpg , sunrise\n",
      "dataset2/rain203.jpg , rain\n",
      "dataset2/rain139.jpg , rain\n",
      "dataset2/rain21.jpg , rain\n",
      "dataset2/sunrise135.jpg , sunrise\n",
      "dataset2/shine174.jpg , shine\n",
      "dataset2/sunrise230.jpg , sunrise\n",
      "dataset2/sunrise43.jpg , sunrise\n",
      "dataset2/rain26.jpg , rain\n",
      "dataset2/shine27.jpg , shine\n",
      "dataset2/rain138.jpg , rain\n",
      "dataset2/cloudy165.jpg , cloudy\n",
      "dataset2/cloudy76.jpg , cloudy\n",
      "dataset2/shine95.jpg , shine\n",
      "dataset2/sunrise8.jpg , sunrise\n",
      "dataset2/shine240.jpg , shine\n",
      "dataset2/shine191.jpg , shine\n",
      "dataset2/rain85.jpg , rain\n",
      "dataset2/shine217.jpg , shine\n",
      "dataset2/sunrise177.jpg , sunrise\n",
      "dataset2/shine147.jpg , shine\n",
      "dataset2/shine55.jpg , shine\n",
      "dataset2/cloudy82.jpg , cloudy\n",
      "dataset2/shine238.jpg , shine\n",
      "dataset2/sunrise231.jpg , sunrise\n",
      "dataset2/cloudy129.jpg , cloudy\n",
      "dataset2/shine223.jpg , shine\n",
      "dataset2/sunrise241.jpg , sunrise\n",
      "dataset2/sunrise30.jpg , sunrise\n",
      "dataset2/rain75.jpg , rain\n",
      "dataset2/shine98.jpg , shine\n",
      "dataset2/shine31.jpg , shine\n",
      "dataset2/shine34.jpg , shine\n",
      "dataset2/cloudy284.jpg , cloudy\n",
      "dataset2/rain180.jpg , rain\n",
      "dataset2/sunrise223.jpg , sunrise\n",
      "dataset2/shine128.jpg , shine\n",
      "dataset2/sunrise287.jpg , sunrise\n",
      "dataset2/sunrise117.jpg , sunrise\n",
      "dataset2/cloudy137.jpg , cloudy\n",
      "dataset2/sunrise55.jpg , sunrise\n",
      "dataset2/sunrise307.jpg , sunrise\n",
      "dataset2/sunrise14.jpg , sunrise\n",
      "dataset2/cloudy20.jpg , cloudy\n",
      "dataset2/rain19.jpg , rain\n",
      "dataset2/shine157.jpg , shine\n",
      "dataset2/rain91.jpg , rain\n",
      "dataset2/shine96.jpg , shine\n",
      "dataset2/shine236.jpg , shine\n",
      "dataset2/shine45.jpg , shine\n",
      "dataset2/shine119.jpg , shine\n",
      "dataset2/shine159.jpg , shine\n",
      "dataset2/shine232.jpg , shine\n",
      "dataset2/sunrise290.jpg , sunrise\n",
      "dataset2/cloudy79.jpg , cloudy\n",
      "dataset2/sunrise228.jpg , sunrise\n",
      "dataset2/cloudy237.jpg , cloudy\n",
      "dataset2/shine1.jpg , shine\n",
      "dataset2/rain184.jpg , rain\n",
      "dataset2/shine75.jpg , shine\n",
      "dataset2/sunrise218.jpg , sunrise\n",
      "dataset2/cloudy169.jpg , cloudy\n",
      "dataset2/cloudy249.jpg , cloudy\n",
      "dataset2/cloudy151.jpg , cloudy\n",
      "dataset2/sunrise94.jpg , sunrise\n",
      "dataset2/cloudy108.jpg , cloudy\n",
      "dataset2/sunrise337.jpg , sunrise\n",
      "dataset2/cloudy29.jpg , cloudy\n",
      "dataset2/cloudy280.jpg , cloudy\n",
      "dataset2/cloudy147.jpg , cloudy\n",
      "dataset2/sunrise159.jpg , sunrise\n",
      "dataset2/sunrise141.jpg , sunrise\n",
      "dataset2/sunrise317.jpg , sunrise\n",
      "dataset2/sunrise96.jpg , sunrise\n",
      "dataset2/cloudy164.jpg , cloudy\n",
      "dataset2/shine112.jpg , shine\n",
      "dataset2/shine42.jpg , shine\n",
      "dataset2/shine246.jpg , shine\n",
      "dataset2/cloudy44.jpg , cloudy\n",
      "dataset2/rain108.jpg , rain\n",
      "dataset2/shine136.jpg , shine\n",
      "dataset2/shine169.jpg , shine\n",
      "dataset2/rain102.jpg , rain\n",
      "dataset2/rain146.jpg , rain\n",
      "dataset2/sunrise325.jpg , sunrise\n",
      "dataset2/sunrise242.jpg , sunrise\n",
      "dataset2/shine21.jpg , shine\n",
      "dataset2/shine185.jpg , shine\n",
      "dataset2/shine182.jpg , shine\n",
      "dataset2/shine134.jpg , shine\n",
      "dataset2/cloudy228.jpg , cloudy\n",
      "dataset2/rain176.jpg , rain\n",
      "dataset2/rain112.jpg , rain\n",
      "dataset2/sunrise336.jpg , sunrise\n",
      "dataset2/cloudy128.jpg , cloudy\n",
      "dataset2/shine230.jpg , shine\n",
      "dataset2/sunrise92.jpg , sunrise\n",
      "dataset2/sunrise166.jpg , sunrise\n",
      "dataset2/rain12.jpg , rain\n",
      "dataset2/rain13.jpg , rain\n",
      "dataset2/rain118.jpg , rain\n",
      "dataset2/cloudy130.jpg , cloudy\n",
      "dataset2/cloudy11.jpg , cloudy\n",
      "dataset2/sunrise268.jpg , sunrise\n",
      "dataset2/shine243.jpg , shine\n",
      "dataset2/cloudy174.jpg , cloudy\n",
      "dataset2/sunrise125.jpg , sunrise\n",
      "dataset2/shine196.jpg , shine\n",
      "dataset2/sunrise110.jpg , sunrise\n",
      "dataset2/sunrise100.jpg , sunrise\n",
      "dataset2/cloudy3.jpg , cloudy\n",
      "dataset2/shine229.jpg , shine\n",
      "dataset2/cloudy265.jpg , cloudy\n",
      "dataset2/shine205.jpg , shine\n",
      "dataset2/shine158.jpg , shine\n",
      "dataset2/sunrise353.jpg , sunrise\n",
      "dataset2/shine145.jpg , shine\n",
      "dataset2/shine131.jpg , shine\n",
      "dataset2/shine150.jpg , shine\n",
      "dataset2/sunrise161.jpg , sunrise\n",
      "dataset2/shine140.jpg , shine\n",
      "dataset2/rain50.jpg , rain\n",
      "dataset2/shine132.jpg , shine\n",
      "dataset2/cloudy299.jpg , cloudy\n",
      "dataset2/rain49.jpg , rain\n",
      "dataset2/sunrise349.jpg , sunrise\n",
      "dataset2/sunrise123.jpg , sunrise\n",
      "dataset2/sunrise132.jpg , sunrise\n",
      "dataset2/shine190.jpg , shine\n",
      "dataset2/cloudy50.jpg , cloudy\n",
      "dataset2/rain117.jpg , rain\n",
      "dataset2/rain71.jpg , rain\n",
      "dataset2/shine8.jpg , shine\n",
      "dataset2/sunrise104.jpg , sunrise\n",
      "dataset2/cloudy267.jpg , cloudy\n",
      "dataset2/rain10.jpg , rain\n",
      "dataset2/sunrise330.jpg , sunrise\n",
      "dataset2/rain202.jpg , rain\n",
      "dataset2/sunrise262.jpg , sunrise\n",
      "dataset2/rain171.jpg , rain\n",
      "dataset2/shine251.jpg , shine\n",
      "dataset2/cloudy122.jpg , cloudy\n",
      "dataset2/cloudy269.jpg , cloudy\n",
      "dataset2/sunrise88.jpg , sunrise\n",
      "dataset2/cloudy16.jpg , cloudy\n",
      "dataset2/shine148.jpg , shine\n",
      "dataset2/shine29.jpg , shine\n",
      "dataset2/cloudy209.jpg , cloudy\n",
      "dataset2/cloudy257.jpg , cloudy\n",
      "dataset2/shine73.jpg , shine\n",
      "dataset2/sunrise82.jpg , sunrise\n",
      "dataset2/cloudy83.jpg , cloudy\n",
      "dataset2/rain73.jpg , rain\n",
      "dataset2/sunrise190.jpg , sunrise\n",
      "dataset2/cloudy225.jpg , cloudy\n",
      "dataset2/sunrise239.jpg , sunrise\n",
      "dataset2/rain179.jpg , rain\n",
      "dataset2/sunrise29.jpg , sunrise\n",
      "dataset2/shine155.jpg , shine\n",
      "dataset2/sunrise192.jpg , sunrise\n",
      "dataset2/rain204.jpg , rain\n",
      "dataset2/shine81.jpg , shine\n",
      "dataset2/rain201.jpg , rain\n",
      "dataset2/rain174.jpg , rain\n",
      "dataset2/cloudy244.jpg , cloudy\n",
      "dataset2/rain125.jpg , rain\n",
      "dataset2/sunrise255.jpg , sunrise\n",
      "dataset2/shine91.jpg , shine\n",
      "dataset2/shine32.jpg , shine\n",
      "dataset2/rain100.jpg , rain\n",
      "dataset2/rain134.jpg , rain\n",
      "dataset2/rain177.jpg , rain\n",
      "dataset2/sunrise296.jpg , sunrise\n",
      "dataset2/cloudy238.jpg , cloudy\n",
      "dataset2/cloudy292.jpg , cloudy\n",
      "dataset2/rain135.jpg , rain\n",
      "dataset2/cloudy246.jpg , cloudy\n",
      "dataset2/shine133.jpg , shine\n",
      "dataset2/shine113.jpg , shine\n",
      "dataset2/shine115.jpg , shine\n",
      "dataset2/sunrise195.jpg , sunrise\n",
      "dataset2/cloudy123.jpg , cloudy\n",
      "dataset2/cloudy178.jpg , cloudy\n",
      "dataset2/shine168.jpg , shine\n",
      "dataset2/sunrise116.jpg , sunrise\n",
      "dataset2/sunrise237.jpg , sunrise\n",
      "dataset2/rain86.jpg , rain\n",
      "dataset2/sunrise62.jpg , sunrise\n",
      "dataset2/shine166.jpg , shine\n",
      "dataset2/cloudy252.jpg , cloudy\n",
      "dataset2/shine2.jpg , shine\n",
      "dataset2/sunrise299.jpg , sunrise\n",
      "dataset2/sunrise280.jpg , sunrise\n",
      "dataset2/cloudy14.jpg , cloudy\n",
      "dataset2/rain62.jpg , rain\n",
      "dataset2/sunrise27.jpg , sunrise\n",
      "dataset2/rain30.jpg , rain\n",
      "dataset2/sunrise175.jpg , sunrise\n",
      "dataset2/sunrise57.jpg , sunrise\n",
      "dataset2/rain129.jpg , rain\n",
      "dataset2/shine102.jpg , shine\n",
      "dataset2/cloudy93.jpg , cloudy\n",
      "dataset2/shine37.jpg , shine\n",
      "dataset2/shine18.jpg , shine\n",
      "dataset2/cloudy57.jpg , cloudy\n",
      "dataset2/cloudy13.jpg , cloudy\n",
      "dataset2/sunrise79.jpg , sunrise\n",
      "dataset2/shine235.jpg , shine\n",
      "dataset2/sunrise215.jpg , sunrise\n",
      "dataset2/sunrise323.jpg , sunrise\n",
      "dataset2/sunrise222.jpg , sunrise\n",
      "dataset2/sunrise213.jpg , sunrise\n",
      "dataset2/sunrise244.jpg , sunrise\n",
      "dataset2/cloudy239.jpg , cloudy\n",
      "dataset2/cloudy170.jpg , cloudy\n",
      "dataset2/rain69.jpg , rain\n",
      "dataset2/rain142.jpg , rain\n",
      "dataset2/sunrise354.jpg , sunrise\n",
      "dataset2/rain172.jpg , rain\n",
      "dataset2/sunrise311.jpg , sunrise\n",
      "dataset2/shine19.jpg , shine\n",
      "dataset2/sunrise133.jpg , sunrise\n",
      "dataset2/sunrise138.jpg , sunrise\n",
      "dataset2/shine40.jpg , shine\n",
      "dataset2/sunrise87.jpg , sunrise\n",
      "dataset2/sunrise167.jpg , sunrise\n",
      "dataset2/sunrise310.jpg , sunrise\n",
      "dataset2/shine26.jpg , shine\n",
      "dataset2/rain6.jpg , rain\n",
      "dataset2/cloudy153.jpg , cloudy\n",
      "dataset2/sunrise357.jpg , sunrise\n",
      "dataset2/sunrise147.jpg , sunrise\n",
      "dataset2/sunrise33.jpg , sunrise\n",
      "dataset2/rain178.jpg , rain\n",
      "dataset2/shine126.jpg , shine\n",
      "dataset2/sunrise257.jpg , sunrise\n",
      "dataset2/sunrise103.jpg , sunrise\n",
      "dataset2/sunrise294.jpg , sunrise\n",
      "dataset2/sunrise86.jpg , sunrise\n",
      "dataset2/cloudy156.jpg , cloudy\n",
      "dataset2/sunrise63.jpg , sunrise\n",
      "dataset2/cloudy160.jpg , cloudy\n",
      "dataset2/rain80.jpg , rain\n",
      "dataset2/sunrise68.jpg , sunrise\n",
      "dataset2/rain64.jpg , rain\n",
      "dataset2/rain212.jpg , rain\n",
      "dataset2/sunrise333.jpg , sunrise\n",
      "dataset2/shine153.jpg , shine\n",
      "dataset2/cloudy167.jpg , cloudy\n",
      "dataset2/cloudy109.jpg , cloudy\n",
      "dataset2/shine93.jpg , shine\n",
      "dataset2/shine6.jpg , shine\n",
      "dataset2/shine204.jpg , shine\n",
      "dataset2/sunrise321.jpg , sunrise\n",
      "dataset2/cloudy4.jpg , cloudy\n",
      "dataset2/cloudy196.jpg , cloudy\n",
      "dataset2/cloudy295.jpg , cloudy\n",
      "dataset2/shine118.jpg , shine\n",
      "dataset2/rain31.jpg , rain\n",
      "dataset2/rain11.jpg , rain\n",
      "dataset2/sunrise224.jpg , sunrise\n",
      "dataset2/sunrise308.jpg , sunrise\n",
      "dataset2/rain153.jpg , rain\n",
      "dataset2/cloudy222.jpg , cloudy\n",
      "dataset2/rain157.jpg , rain\n",
      "dataset2/rain97.jpg , rain\n",
      "dataset2/rain22.jpeg , rain\n",
      "dataset2/cloudy9.jpg , cloudy\n",
      "dataset2/sunrise288.jpg , sunrise\n",
      "dataset2/sunrise263.jpg , sunrise\n",
      "dataset2/sunrise282.jpg , sunrise\n",
      "dataset2/rain123.jpg , rain\n",
      "dataset2/sunrise292.jpg , sunrise\n",
      "dataset2/cloudy101.jpg , cloudy\n",
      "dataset2/sunrise313.jpg , sunrise\n",
      "dataset2/sunrise348.jpg , sunrise\n",
      "dataset2/cloudy243.jpg , cloudy\n",
      "dataset2/shine79.jpg , shine\n",
      "dataset2/cloudy270.jpg , cloudy\n",
      "dataset2/sunrise6.jpg , sunrise\n",
      "dataset2/shine171.jpg , shine\n",
      "dataset2/shine50.jpg , shine\n",
      "dataset2/sunrise350.jpg , sunrise\n",
      "dataset2/rain81.jpg , rain\n",
      "dataset2/shine184.jpg , shine\n",
      "dataset2/cloudy86.jpg , cloudy\n",
      "dataset2/rain173.jpg , rain\n",
      "dataset2/sunrise171.jpg , sunrise\n",
      "dataset2/rain182.jpg , rain\n",
      "dataset2/cloudy103.jpg , cloudy\n",
      "dataset2/shine241.jpg , shine\n",
      "dataset2/cloudy48.jpg , cloudy\n",
      "dataset2/cloudy94.jpg , cloudy\n",
      "dataset2/sunrise201.jpg , sunrise\n",
      "dataset2/sunrise286.jpg , sunrise\n",
      "dataset2/rain17.jpg , rain\n",
      "dataset2/sunrise328.jpg , sunrise\n",
      "dataset2/shine189.jpg , shine\n",
      "dataset2/shine183.jpg , shine\n",
      "dataset2/cloudy279.jpg , cloudy\n",
      "dataset2/sunrise144.jpg , sunrise\n",
      "dataset2/sunrise173.jpg , sunrise\n",
      "dataset2/rain53.jpg , rain\n",
      "dataset2/shine206.jpg , shine\n",
      "dataset2/shine143.jpg , shine\n",
      "dataset2/cloudy17.jpg , cloudy\n",
      "dataset2/shine101.jpg , shine\n",
      "dataset2/sunrise227.jpg , sunrise\n",
      "dataset2/cloudy210.jpg , cloudy\n",
      "dataset2/rain130.jpg , rain\n",
      "dataset2/shine111.jpg , shine\n",
      "dataset2/sunrise90.jpg , sunrise\n",
      "dataset2/cloudy51.jpg , cloudy\n",
      "dataset2/rain76.jpg , rain\n",
      "dataset2/cloudy171.jpg , cloudy\n",
      "dataset2/sunrise289.jpg , sunrise\n",
      "dataset2/cloudy10.jpg , cloudy\n",
      "dataset2/cloudy247.jpg , cloudy\n",
      "dataset2/sunrise208.jpg , sunrise\n",
      "dataset2/sunrise322.jpg , sunrise\n",
      "dataset2/rain107.jpg , rain\n",
      "dataset2/cloudy23.jpg , cloudy\n",
      "dataset2/rain199.jpg , rain\n",
      "dataset2/cloudy272.jpg , cloudy\n",
      "dataset2/rain151.jpg , rain\n",
      "dataset2/rain65.jpg , rain\n",
      "dataset2/rain20.jpg , rain\n",
      "dataset2/rain211.jpg , rain\n",
      "dataset2/shine167.jpg , shine\n",
      "dataset2/sunrise194.jpg , sunrise\n",
      "dataset2/shine83.jpg , shine\n",
      "dataset2/cloudy250.jpg , cloudy\n",
      "dataset2/sunrise37.jpg , sunrise\n",
      "dataset2/sunrise178.jpg , sunrise\n",
      "dataset2/shine108.jpg , shine\n",
      "dataset2/rain2.jpg , rain\n",
      "dataset2/rain39.jpg , rain\n",
      "dataset2/sunrise197.jpg , sunrise\n",
      "dataset2/sunrise259.jpg , sunrise\n",
      "dataset2/cloudy34.jpg , cloudy\n",
      "dataset2/sunrise269.jpg , sunrise\n",
      "dataset2/cloudy157.jpg , cloudy\n",
      "dataset2/sunrise15.jpg , sunrise\n",
      "dataset2/sunrise131.jpg , sunrise\n",
      "dataset2/cloudy197.jpg , cloudy\n",
      "dataset2/sunrise351.jpg , sunrise\n",
      "dataset2/rain1.jpg , rain\n",
      "dataset2/shine28.jpg , shine\n",
      "dataset2/sunrise151.jpg , sunrise\n",
      "dataset2/rain197.jpg , rain\n",
      "dataset2/cloudy162.jpg , cloudy\n",
      "dataset2/sunrise316.jpg , sunrise\n",
      "dataset2/shine213.jpg , shine\n",
      "dataset2/rain186.jpg , rain\n",
      "dataset2/sunrise186.jpg , sunrise\n",
      "dataset2/cloudy62.jpg , cloudy\n",
      "dataset2/rain14.jpg , rain\n",
      "dataset2/shine122.jpg , shine\n",
      "dataset2/cloudy149.jpg , cloudy\n",
      "dataset2/cloudy15.jpg , cloudy\n",
      "dataset2/shine129.jpg , shine\n",
      "dataset2/cloudy140.jpg , cloudy\n",
      "dataset2/sunrise278.jpg , sunrise\n",
      "dataset2/rain114.jpg , rain\n",
      "dataset2/sunrise193.jpg , sunrise\n",
      "dataset2/cloudy287.jpg , cloudy\n",
      "dataset2/cloudy45.jpg , cloudy\n",
      "dataset2/shine165.jpg , shine\n",
      "dataset2/cloudy135.jpg , cloudy\n",
      "dataset2/rain169.jpg , rain\n",
      "dataset2/cloudy163.jpg , cloudy\n",
      "dataset2/cloudy38.jpg , cloudy\n",
      "dataset2/sunrise285.jpg , sunrise\n",
      "dataset2/cloudy194.jpg , cloudy\n",
      "dataset2/sunrise130.jpg , sunrise\n",
      "dataset2/cloudy166.jpg , cloudy\n",
      "dataset2/shine187.jpg , shine\n",
      "dataset2/shine197.jpg , shine\n",
      "dataset2/sunrise105.jpg , sunrise\n",
      "dataset2/sunrise114.jpg , sunrise\n",
      "dataset2/sunrise108.jpg , sunrise\n",
      "dataset2/shine58.jpg , shine\n",
      "dataset2/sunrise22.jpg , sunrise\n",
      "dataset2/cloudy55.jpg , cloudy\n",
      "dataset2/rain147.jpg , rain\n",
      "dataset2/cloudy281.jpg , cloudy\n",
      "dataset2/shine146.jpg , shine\n",
      "dataset2/rain87.jpg , rain\n",
      "dataset2/cloudy70.jpg , cloudy\n",
      "dataset2/rain161.jpg , rain\n",
      "dataset2/sunrise352.jpg , sunrise\n",
      "dataset2/cloudy154.jpg , cloudy\n",
      "dataset2/sunrise85.jpg , sunrise\n",
      "dataset2/shine120.jpg , shine\n",
      "dataset2/cloudy73.jpg , cloudy\n",
      "dataset2/sunrise23.jpg , sunrise\n",
      "dataset2/rain145.jpg , rain\n",
      "dataset2/sunrise83.jpg , sunrise\n",
      "dataset2/cloudy126.jpg , cloudy\n",
      "dataset2/cloudy259.jpg , cloudy\n",
      "dataset2/shine195.jpg , shine\n",
      "dataset2/sunrise35.jpg , sunrise\n",
      "dataset2/sunrise16.jpg , sunrise\n",
      "dataset2/rain4.jpg , rain\n",
      "dataset2/rain111.jpg , rain\n",
      "dataset2/sunrise301.jpg , sunrise\n",
      "dataset2/cloudy179.jpg , cloudy\n",
      "dataset2/sunrise10.jpg , sunrise\n",
      "dataset2/sunrise314.jpg , sunrise\n",
      "dataset2/rain68.jpg , rain\n",
      "dataset2/rain198.jpg , rain\n",
      "dataset2/rain54.jpg , rain\n",
      "dataset2/sunrise129.jpg , sunrise\n",
      "dataset2/rain121.jpg , rain\n",
      "dataset2/rain175.jpg , rain\n",
      "dataset2/cloudy264.jpg , cloudy\n",
      "dataset2/shine252.jpg , shine\n",
      "dataset2/cloudy211.jpg , cloudy\n",
      "dataset2/sunrise122.jpg , sunrise\n",
      "dataset2/shine103.jpg , shine\n",
      "dataset2/sunrise202.jpg , sunrise\n",
      "dataset2/rain88.jpg , rain\n",
      "dataset2/cloudy273.jpg , cloudy\n",
      "dataset2/rain103.jpg , rain\n",
      "dataset2/cloudy204.jpg , cloudy\n",
      "dataset2/cloudy275.jpg , cloudy\n",
      "dataset2/rain70.jpg , rain\n",
      "dataset2/sunrise155.jpg , sunrise\n",
      "dataset2/cloudy213.jpg , cloudy\n",
      "dataset2/rain192.jpg , rain\n",
      "dataset2/sunrise7.jpg , sunrise\n",
      "dataset2/shine144.jpg , shine\n",
      "dataset2/shine69.jpg , shine\n",
      "dataset2/rain51.jpg , rain\n",
      "dataset2/sunrise84.jpg , sunrise\n",
      "dataset2/sunrise256.jpg , sunrise\n",
      "dataset2/sunrise326.jpg , sunrise\n",
      "dataset2/cloudy296.jpg , cloudy\n",
      "dataset2/cloudy125.jpg , cloudy\n",
      "dataset2/shine244.jpg , shine\n",
      "dataset2/shine59.jpg , shine\n",
      "dataset2/cloudy203.jpg , cloudy\n",
      "dataset2/sunrise93.jpg , sunrise\n",
      "dataset2/cloudy218.jpg , cloudy\n",
      "dataset2/shine188.jpg , shine\n",
      "dataset2/rain61.jpg , rain\n",
      "dataset2/cloudy214.jpg , cloudy\n",
      "dataset2/shine138.jpg , shine\n",
      "dataset2/sunrise49.jpg , sunrise\n",
      "dataset2/shine24.jpg , shine\n",
      "dataset2/sunrise240.jpg , sunrise\n",
      "dataset2/rain162.jpg , rain\n",
      "dataset2/shine64.jpg , shine\n",
      "dataset2/cloudy97.jpg , cloudy\n",
      "dataset2/cloudy219.jpg , cloudy\n",
      "dataset2/shine92.jpg , shine\n",
      "dataset2/shine15.jpg , shine\n",
      "dataset2/sunrise127.jpg , sunrise\n",
      "dataset2/rain164.jpg , rain\n",
      "dataset2/cloudy185.jpg , cloudy\n",
      "dataset2/sunrise265.jpg , sunrise\n",
      "dataset2/sunrise345.jpg , sunrise\n",
      "dataset2/rain105.jpg , rain\n",
      "dataset2/sunrise120.jpg , sunrise\n",
      "dataset2/sunrise98.jpg , sunrise\n",
      "dataset2/cloudy53.jpg , cloudy\n",
      "dataset2/shine135.jpg , shine\n",
      "dataset2/rain191.jpg , rain\n",
      "dataset2/cloudy47.jpg , cloudy\n",
      "dataset2/shine99.jpg , shine\n",
      "dataset2/rain124.jpg , rain\n",
      "dataset2/cloudy87.jpg , cloudy\n",
      "dataset2/cloudy136.jpg , cloudy\n",
      "dataset2/shine5.jpg , shine\n",
      "dataset2/cloudy300.jpg , cloudy\n",
      "dataset2/rain163.jpg , rain\n",
      "dataset2/sunrise188.jpg , sunrise\n",
      "dataset2/sunrise12.jpg , sunrise\n",
      "dataset2/sunrise318.jpg , sunrise\n",
      "dataset2/rain214.jpg , rain\n",
      "dataset2/rain104.jpg , rain\n",
      "dataset2/rain18.jpg , rain\n",
      "dataset2/cloudy90.jpg , cloudy\n",
      "dataset2/sunrise142.jpg , sunrise\n",
      "dataset2/sunrise272.jpg , sunrise\n",
      "dataset2/cloudy202.jpg , cloudy\n",
      "dataset2/sunrise74.jpg , sunrise\n",
      "dataset2/rain28.jpg , rain\n",
      "dataset2/cloudy102.jpg , cloudy\n",
      "dataset2/shine247.jpg , shine\n",
      "dataset2/shine11.jpg , shine\n",
      "dataset2/cloudy114.jpg , cloudy\n",
      "dataset2/sunrise112.jpg , sunrise\n",
      "dataset2/sunrise150.jpg , sunrise\n",
      "dataset2/shine106.jpg , shine\n",
      "dataset2/cloudy294.jpg , cloudy\n",
      "dataset2/cloudy8.jpg , cloudy\n",
      "dataset2/sunrise212.jpg , sunrise\n",
      "dataset2/rain101.jpg , rain\n",
      "dataset2/sunrise284.jpg , sunrise\n",
      "dataset2/cloudy216.jpg , cloudy\n",
      "dataset2/sunrise107.jpg , sunrise\n",
      "dataset2/sunrise20.jpg , sunrise\n",
      "dataset2/shine175.jpg , shine\n",
      "dataset2/cloudy104.jpg , cloudy\n",
      "dataset2/sunrise199.jpg , sunrise\n",
      "dataset2/shine36.jpg , shine\n",
      "dataset2/sunrise232.jpg , sunrise\n",
      "dataset2/rain156.jpg , rain\n",
      "dataset2/cloudy91.jpg , cloudy\n",
      "dataset2/sunrise182.jpg , sunrise\n",
      "dataset2/shine253.jpg , shine\n",
      "dataset2/shine38.jpg , shine\n",
      "dataset2/cloudy88.jpg , cloudy\n",
      "dataset2/sunrise238.jpg , sunrise\n",
      "dataset2/sunrise303.jpg , sunrise\n",
      "dataset2/sunrise245.jpg , sunrise\n",
      "dataset2/shine117.jpg , shine\n",
      "dataset2/sunrise91.jpg , sunrise\n",
      "dataset2/sunrise77.jpg , sunrise\n",
      "dataset2/sunrise31.jpg , sunrise\n",
      "dataset2/sunrise156.jpg , sunrise\n",
      "dataset2/rain7.jpg , rain\n",
      "dataset2/rain181.jpg , rain\n",
      "dataset2/rain183.jpg , rain\n",
      "dataset2/cloudy263.jpg , cloudy\n",
      "dataset2/sunrise298.jpg , sunrise\n",
      "dataset2/sunrise274.jpg , sunrise\n",
      "dataset2/sunrise46.jpg , sunrise\n",
      "dataset2/sunrise19.jpg , sunrise\n",
      "dataset2/rain141.jpg , rain\n",
      "dataset2/cloudy152.jpg , cloudy\n",
      "dataset2/shine77.jpg , shine\n",
      "dataset2/rain166.jpg , rain\n",
      "dataset2/rain106.jpg , rain\n",
      "dataset2/sunrise221.jpg , sunrise\n",
      "dataset2/cloudy283.jpg , cloudy\n",
      "dataset2/cloudy276.jpg , cloudy\n",
      "dataset2/sunrise38.jpg , sunrise\n",
      "dataset2/cloudy133.jpg , cloudy\n",
      "dataset2/shine89.jpg , shine\n",
      "dataset2/cloudy159.jpg , cloudy\n",
      "dataset2/shine152.jpg , shine\n",
      "dataset2/sunrise180.jpg , sunrise\n",
      "dataset2/sunrise121.jpg , sunrise\n",
      "dataset2/cloudy191.jpg , cloudy\n",
      "dataset2/cloudy189.jpg , cloudy\n",
      "dataset2/shine201.jpg , shine\n",
      "dataset2/cloudy176.jpg , cloudy\n",
      "dataset2/cloudy192.jpg , cloudy\n",
      "dataset2/shine74.jpg , shine\n",
      "dataset2/rain83.jpg , rain\n",
      "dataset2/rain170.jpg , rain\n",
      "dataset2/sunrise279.jpg , sunrise\n",
      "dataset2/shine51.jpg , shine\n",
      "dataset2/shine72.jpg , shine\n",
      "dataset2/cloudy59.jpg , cloudy\n",
      "dataset2/sunrise258.jpg , sunrise\n",
      "dataset2/sunrise158.jpg , sunrise\n",
      "dataset2/cloudy255.jpg , cloudy\n",
      "dataset2/cloudy241.jpg , cloudy\n",
      "dataset2/rain113.jpg , rain\n",
      "dataset2/shine107.jpg , shine\n",
      "dataset2/shine25.jpg , shine\n",
      "dataset2/sunrise52.jpg , sunrise\n",
      "dataset2/sunrise276.jpg , sunrise\n",
      "dataset2/cloudy254.jpg , cloudy\n",
      "dataset2/shine220.jpg , shine\n",
      "dataset2/sunrise275.jpg , sunrise\n",
      "dataset2/cloudy142.jpg , cloudy\n",
      "dataset2/cloudy190.jpg , cloudy\n",
      "dataset2/cloudy155.jpg , cloudy\n",
      "dataset2/shine198.jpg , shine\n",
      "dataset2/shine214.jpg , shine\n",
      "dataset2/rain55.jpg , rain\n",
      "dataset2/shine245.jpg , shine\n",
      "dataset2/cloudy106.jpg , cloudy\n",
      "dataset2/cloudy205.jpg , cloudy\n",
      "dataset2/shine110.jpg , shine\n",
      "dataset2/rain136.jpg , rain\n",
      "dataset2/shine177.jpg , shine\n",
      "dataset2/cloudy145.jpg , cloudy\n",
      "dataset2/shine179.jpg , shine\n",
      "dataset2/shine211.jpg , shine\n",
      "dataset2/sunrise113.jpg , sunrise\n",
      "dataset2/sunrise39.jpg , sunrise\n",
      "dataset2/cloudy212.jpg , cloudy\n",
      "dataset2/sunrise44.jpg , sunrise\n",
      "dataset2/cloudy235.jpg , cloudy\n",
      "dataset2/sunrise126.jpg , sunrise\n",
      "dataset2/sunrise191.jpg , sunrise\n",
      "dataset2/shine66.jpg , shine\n",
      "dataset2/cloudy248.jpg , cloudy\n",
      "dataset2/sunrise128.jpg , sunrise\n",
      "dataset2/cloudy32.jpg , cloudy\n",
      "dataset2/cloudy7.jpg , cloudy\n",
      "dataset2/cloudy72.jpg , cloudy\n",
      "dataset2/shine215.jpg , shine\n",
      "dataset2/cloudy139.jpg , cloudy\n",
      "dataset2/sunrise324.jpg , sunrise\n",
      "dataset2/rain32.jpg , rain\n",
      "dataset2/rain133.jpg , rain\n",
      "dataset2/shine207.jpg , shine\n",
      "dataset2/rain82.jpg , rain\n",
      "dataset2/shine82.jpg , shine\n",
      "dataset2/sunrise76.jpg , sunrise\n",
      "dataset2/sunrise140.jpg , sunrise\n",
      "dataset2/cloudy193.jpg , cloudy\n",
      "dataset2/cloudy61.jpg , cloudy\n",
      "dataset2/cloudy206.jpg , cloudy\n",
      "dataset2/sunrise61.jpg , sunrise\n",
      "dataset2/cloudy233.jpg , cloudy\n",
      "dataset2/shine231.jpg , shine\n",
      "dataset2/cloudy177.jpg , cloudy\n",
      "dataset2/sunrise70.jpg , sunrise\n",
      "dataset2/sunrise36.jpg , sunrise\n",
      "dataset2/sunrise319.jpg , sunrise\n",
      "dataset2/sunrise220.jpg , sunrise\n",
      "dataset2/cloudy182.jpg , cloudy\n",
      "dataset2/cloudy19.jpg , cloudy\n",
      "dataset2/shine164.jpg , shine\n",
      "dataset2/cloudy77.jpg , cloudy\n",
      "dataset2/cloudy119.jpg , cloudy\n",
      "dataset2/shine61.jpg , shine\n",
      "dataset2/rain35.jpg , rain\n",
      "dataset2/shine226.jpg , shine\n",
      "dataset2/sunrise163.jpg , sunrise\n",
      "dataset2/shine233.jpg , shine\n",
      "dataset2/sunrise149.jpg , sunrise\n",
      "dataset2/cloudy268.jpg , cloudy\n",
      "dataset2/sunrise252.jpg , sunrise\n",
      "dataset2/cloudy141.jpg , cloudy\n",
      "dataset2/cloudy131.jpg , cloudy\n",
      "dataset2/sunrise50.jpg , sunrise\n",
      "dataset2/shine71.jpg , shine\n",
      "dataset2/cloudy282.jpg , cloudy\n",
      "dataset2/shine63.jpg , shine\n",
      "dataset2/cloudy291.jpg , cloudy\n",
      "dataset2/sunrise304.jpg , sunrise\n",
      "dataset2/rain98.jpg , rain\n",
      "dataset2/rain5.jpg , rain\n",
      "dataset2/sunrise146.jpg , sunrise\n",
      "dataset2/shine234.jpg , shine\n",
      "dataset2/rain43.jpg , rain\n",
      "dataset2/sunrise136.jpg , sunrise\n",
      "dataset2/cloudy36.jpg , cloudy\n",
      "dataset2/rain38.jpg , rain\n",
      "dataset2/sunrise32.jpg , sunrise\n",
      "dataset2/sunrise335.jpg , sunrise\n",
      "dataset2/sunrise26.jpg , sunrise\n",
      "dataset2/shine124.jpg , shine\n",
      "dataset2/cloudy37.jpg , cloudy\n",
      "dataset2/cloudy98.jpg , cloudy\n",
      "dataset2/sunrise60.jpg , sunrise\n",
      "dataset2/shine186.jpg , shine\n",
      "dataset2/cloudy74.jpg , cloudy\n",
      "dataset2/sunrise233.jpg , sunrise\n",
      "dataset2/rain149.jpg , rain\n",
      "dataset2/shine181.jpg , shine\n",
      "dataset2/shine70.jpg , shine\n",
      "dataset2/cloudy56.jpg , cloudy\n",
      "dataset2/cloudy43.jpg , cloudy\n",
      "dataset2/cloudy100.jpg , cloudy\n",
      "dataset2/shine94.jpg , shine\n",
      "dataset2/shine216.jpg , shine\n",
      "dataset2/rain57.jpg , rain\n",
      "dataset2/cloudy113.jpg , cloudy\n",
      "dataset2/sunrise273.jpg , sunrise\n",
      "dataset2/sunrise205.jpg , sunrise\n",
      "dataset2/cloudy111.jpg , cloudy\n",
      "dataset2/sunrise226.jpg , sunrise\n",
      "dataset2/sunrise102.jpg , sunrise\n",
      "dataset2/sunrise203.jpg , sunrise\n",
      "dataset2/cloudy183.jpg , cloudy\n",
      "dataset2/rain74.jpg , rain\n",
      "dataset2/cloudy221.jpg , cloudy\n",
      "dataset2/rain66.jpg , rain\n",
      "dataset2/rain209.jpg , rain\n",
      "dataset2/cloudy215.jpg , cloudy\n",
      "dataset2/shine224.jpg , shine\n",
      "dataset2/shine222.jpg , shine\n",
      "dataset2/shine173.jpg , shine\n",
      "dataset2/sunrise306.jpg , sunrise\n",
      "dataset2/rain115.jpg , rain\n",
      "dataset2/shine84.jpg , shine\n",
      "dataset2/shine156.jpg , shine\n",
      "dataset2/rain148.jpg , rain\n",
      "dataset2/cloudy68.jpg , cloudy\n",
      "dataset2/cloudy288.jpg , cloudy\n",
      "dataset2/rain200.jpg , rain\n",
      "dataset2/cloudy298.jpg , cloudy\n",
      "dataset2/shine250.jpg , shine\n",
      "dataset2/sunrise145.jpg , sunrise\n",
      "dataset2/cloudy21.jpg , cloudy\n",
      "dataset2/rain165.jpg , rain\n",
      "dataset2/cloudy66.jpg , cloudy\n",
      "dataset2/sunrise162.jpg , sunrise\n",
      "dataset2/rain96.jpg , rain\n",
      "dataset2/cloudy124.jpg , cloudy\n",
      "dataset2/sunrise196.jpg , sunrise\n",
      "dataset2/sunrise172.jpg , sunrise\n",
      "dataset2/shine137.jpg , shine\n",
      "dataset2/shine218.jpg , shine\n",
      "dataset2/shine163.jpg , shine\n",
      "dataset2/sunrise89.jpeg , sunrise\n",
      "dataset2/sunrise229.jpg , sunrise\n",
      "dataset2/cloudy245.jpg , cloudy\n",
      "dataset2/rain131.jpg , rain\n",
      "dataset2/sunrise134.jpg , sunrise\n",
      "dataset2/rain205.jpg , rain\n",
      "dataset2/shine87.jpg , shine\n",
      "dataset2/shine86.jpg , shine\n",
      "dataset2/cloudy199.jpg , cloudy\n",
      "dataset2/cloudy187.jpg , cloudy\n",
      "dataset2/shine67.jpg , shine\n",
      "dataset2/rain41.jpg , rain\n",
      "dataset2/cloudy278.jpg , cloudy\n",
      "dataset2/rain45.jpg , rain\n",
      "dataset2/shine48.jpg , shine\n",
      "dataset2/sunrise342.jpg , sunrise\n",
      "dataset2/rain42.jpg , rain\n",
      "dataset2/shine68.jpg , shine\n",
      "dataset2/rain92.jpg , rain\n",
      "dataset2/rain84.jpg , rain\n",
      "dataset2/sunrise75.jpg , sunrise\n",
      "dataset2/shine142.jpg , shine\n",
      "dataset2/sunrise47.jpg , sunrise\n",
      "dataset2/sunrise283.jpg , sunrise\n",
      "dataset2/sunrise24.jpg , sunrise\n",
      "dataset2/sunrise179.jpg , sunrise\n",
      "dataset2/cloudy78.jpg , cloudy\n",
      "dataset2/sunrise200.jpg , sunrise\n",
      "dataset2/cloudy64.jpg , cloudy\n",
      "dataset2/cloudy208.jpg , cloudy\n",
      "dataset2/cloudy184.jpg , cloudy\n",
      "dataset2/cloudy230.jpg , cloudy\n",
      "dataset2/shine221.jpg , shine\n",
      "dataset2/sunrise106.jpg , sunrise\n",
      "dataset2/cloudy266.jpg , cloudy\n",
      "dataset2/sunrise54.jpg , sunrise\n",
      "dataset2/shine9.jpg , shine\n",
      "dataset2/cloudy92.jpg , cloudy\n",
      "dataset2/shine172.jpg , shine\n",
      "dataset2/sunrise21.jpg , sunrise\n",
      "dataset2/shine248.jpg , shine\n",
      "dataset2/shine90.jpg , shine\n",
      "dataset2/sunrise248.jpg , sunrise\n",
      "dataset2/sunrise80.jpg , sunrise\n",
      "dataset2/rain116.jpg , rain\n",
      "dataset2/sunrise143.jpg , sunrise\n",
      "dataset2/cloudy71.jpg , cloudy\n",
      "dataset2/sunrise59.jpg , sunrise\n",
      "dataset2/cloudy188.jpg , cloudy\n",
      "dataset2/rain15.jpg , rain\n",
      "dataset2/cloudy6.jpg , cloudy\n",
      "dataset2/rain210.jpg , rain\n",
      "dataset2/sunrise270.jpg , sunrise\n",
      "dataset2/cloudy173.jpg , cloudy\n",
      "dataset2/cloudy224.jpg , cloudy\n",
      "dataset2/rain137.jpg , rain\n",
      "dataset2/sunrise11.jpg , sunrise\n",
      "dataset2/cloudy234.jpg , cloudy\n",
      "dataset2/cloudy96.jpg , cloudy\n",
      "dataset2/sunrise101.jpg , sunrise\n",
      "dataset2/rain34.jpg , rain\n",
      "dataset2/cloudy46.jpg , cloudy\n",
      "dataset2/rain44.jpg , rain\n",
      "dataset2/cloudy52.jpg , cloudy\n",
      "dataset2/shine200.jpg , shine\n",
      "dataset2/cloudy198.jpg , cloudy\n",
      "dataset2/rain89.jpg , rain\n",
      "dataset2/rain59.jpg , rain\n",
      "dataset2/cloudy289.jpg , cloudy\n",
      "dataset2/rain127.jpg , rain\n",
      "dataset2/shine10.jpg , shine\n",
      "dataset2/cloudy186.jpg , cloudy\n",
      "dataset2/shine141.jpg , shine\n",
      "dataset2/sunrise209.jpg , sunrise\n",
      "dataset2/shine62.jpg , shine\n",
      "dataset2/shine180.jpg , shine\n",
      "dataset2/rain126.jpg , rain\n",
      "dataset2/sunrise332.jpg , sunrise\n",
      "dataset2/rain144.jpg , rain\n",
      "dataset2/sunrise139.jpg , sunrise\n",
      "dataset2/rain188.jpg , rain\n",
      "dataset2/cloudy1.jpg , cloudy\n",
      "dataset2/cloudy105.jpg , cloudy\n",
      "dataset2/sunrise148.jpg , sunrise\n",
      "dataset2/shine176.jpg , shine\n",
      "dataset2/cloudy181.jpg , cloudy\n",
      "dataset2/cloudy161.jpg , cloudy\n",
      "dataset2/shine160.jpg , shine\n",
      "dataset2/cloudy41.jpg , cloudy\n",
      "dataset2/rain56.jpg , rain\n",
      "dataset2/shine80.jpg , shine\n",
      "dataset2/cloudy258.jpg , cloudy\n",
      "dataset2/sunrise17.jpg , sunrise\n",
      "dataset2/sunrise266.jpg , sunrise\n",
      "dataset2/sunrise154.jpg , sunrise\n",
      "dataset2/sunrise40.jpg , sunrise\n",
      "dataset2/cloudy168.jpg , cloudy\n",
      "dataset2/rain215.jpg , rain\n",
      "dataset2/cloudy290.jpg , cloudy\n",
      "dataset2/shine41.jpg , shine\n",
      "dataset2/cloudy144.jpg , cloudy\n",
      "dataset2/rain152.jpg , rain\n",
      "dataset2/cloudy117.jpg , cloudy\n",
      "dataset2/shine12.jpg , shine\n",
      "dataset2/rain60.jpg , rain\n",
      "dataset2/shine60.jpg , shine\n",
      "dataset2/sunrise99.jpg , sunrise\n",
      "dataset2/rain194.jpg , rain\n",
      "dataset2/shine47.jpg , shine\n",
      "dataset2/sunrise2.jpg , sunrise\n",
      "dataset2/shine208.jpg , shine\n",
      "dataset2/rain40.jpg , rain\n",
      "dataset2/cloudy231.jpg , cloudy\n",
      "dataset2/rain159.jpg , rain\n",
      "dataset2/rain158.jpg , rain\n",
      "dataset2/rain160.jpg , rain\n",
      "dataset2/rain72.jpg , rain\n",
      "dataset2/cloudy297.jpg , cloudy\n",
      "dataset2/sunrise28.jpg , sunrise\n",
      "dataset2/cloudy253.jpg , cloudy\n",
      "dataset2/shine56.jpg , shine\n",
      "dataset2/rain119.jpg , rain\n",
      "dataset2/cloudy54.jpg , cloudy\n",
      "dataset2/sunrise277.jpg , sunrise\n",
      "dataset2/cloudy75.jpg , cloudy\n",
      "dataset2/cloudy18.jpg , cloudy\n",
      "dataset2/rain36.jpg , rain\n",
      "dataset2/rain140.jpg , rain\n",
      "dataset2/shine228.jpg , shine\n",
      "dataset2/sunrise187.jpg , sunrise\n",
      "dataset2/sunrise251.jpg , sunrise\n",
      "dataset2/sunrise235.jpg , sunrise\n",
      "dataset2/rain189.jpg , rain\n",
      "dataset2/shine116.jpg , shine\n",
      "dataset2/sunrise81.jpg , sunrise\n",
      "dataset2/cloudy24.jpg , cloudy\n",
      "dataset2/cloudy148.jpg , cloudy\n",
      "dataset2/sunrise189.jpg , sunrise\n",
      "dataset2/cloudy30.jpg , cloudy\n",
      "dataset2/sunrise204.jpg , sunrise\n",
      "dataset2/shine46.jpg , shine\n",
      "dataset2/cloudy256.jpg , cloudy\n",
      "dataset2/shine4.jpg , shine\n",
      "dataset2/cloudy200.jpg , cloudy\n",
      "dataset2/rain99.jpg , rain\n",
      "dataset2/cloudy5.jpg , cloudy\n",
      "dataset2/cloudy220.jpg , cloudy\n",
      "dataset2/cloudy242.jpg , cloudy\n",
      "dataset2/shine149.jpg , shine\n",
      "dataset2/rain79.jpg , rain\n",
      "dataset2/rain193.jpg , rain\n",
      "dataset2/rain48.jpg , rain\n",
      "dataset2/cloudy150.jpg , cloudy\n",
      "dataset2/sunrise355.jpg , sunrise\n",
      "dataset2/shine192.jpg , shine\n",
      "dataset2/sunrise66.jpg , sunrise\n",
      "dataset2/cloudy80.jpg , cloudy\n",
      "dataset2/sunrise339.jpg , sunrise\n",
      "dataset2/cloudy84.jpg , cloudy\n",
      "dataset2/sunrise97.jpg , sunrise\n",
      "dataset2/shine194.jpg , shine\n",
      "dataset2/sunrise115.jpg , sunrise\n",
      "dataset2/rain143.jpg , rain\n",
      "dataset2/cloudy127.jpg , cloudy\n",
      "dataset2/shine76.jpg , shine\n",
      "dataset2/cloudy89.jpg , cloudy\n",
      "dataset2/shine242.jpg , shine\n",
      "dataset2/cloudy2.jpg , cloudy\n",
      "dataset2/cloudy65.jpg , cloudy\n",
      "dataset2/rain24.jpeg , rain\n",
      "dataset2/shine20.jpg , shine\n",
      "dataset2/cloudy261.jpg , cloudy\n",
      "dataset2/sunrise214.jpg , sunrise\n",
      "dataset2/cloudy223.jpg , cloudy\n",
      "dataset2/sunrise48.jpg , sunrise\n",
      "dataset2/sunrise329.jpg , sunrise\n",
      "dataset2/shine23.jpg , shine\n",
      "dataset2/sunrise219.jpg , sunrise\n",
      "dataset2/sunrise64.jpg , sunrise\n",
      "dataset2/sunrise18.jpg , sunrise\n",
      "dataset2/shine49.jpg , shine\n",
      "dataset2/sunrise168.jpg , sunrise\n",
      "dataset2/shine178.jpg , shine\n",
      "dataset2/sunrise207.jpg , sunrise\n",
      "dataset2/rain94.jpg , rain\n",
      "dataset2/cloudy293.jpg , cloudy\n",
      "dataset2/shine161.jpg , shine\n",
      "dataset2/shine170.jpg , shine\n",
      "dataset2/cloudy201.jpg , cloudy\n",
      "dataset2/cloudy271.jpg , cloudy\n",
      "dataset2/rain58.jpg , rain\n",
      "dataset2/rain187.jpg , rain\n",
      "dataset2/shine114.jpg , shine\n",
      "dataset2/cloudy26.jpg , cloudy\n",
      "dataset2/shine121.jpg , shine\n",
      "dataset2/sunrise312.jpg , sunrise\n",
      "dataset2/cloudy25.jpg , cloudy\n",
      "dataset2/cloudy118.jpg , cloudy\n",
      "dataset2/sunrise300.jpg , sunrise\n",
      "dataset2/shine57.jpg , shine\n",
      "dataset2/cloudy95.jpg , cloudy\n",
      "dataset2/cloudy236.jpg , cloudy\n",
      "dataset2/sunrise246.jpg , sunrise\n",
      "dataset2/sunrise95.jpg , sunrise\n",
      "dataset2/shine130.jpg , shine\n",
      "dataset2/shine210.jpg , shine\n",
      "dataset2/cloudy146.jpg , cloudy\n",
      "dataset2/cloudy69.jpg , cloudy\n",
      "dataset2/sunrise297.jpg , sunrise\n",
      "dataset2/sunrise45.jpg , sunrise\n",
      "dataset2/rain23.jpg , rain\n",
      "dataset2/sunrise253.jpg , sunrise\n",
      "dataset2/sunrise250.jpg , sunrise\n",
      "dataset2/rain78.jpg , rain\n",
      "dataset2/sunrise9.jpg , sunrise\n",
      "dataset2/rain52.jpg , rain\n",
      "dataset2/shine193.jpg , shine\n",
      "dataset2/sunrise13.jpg , sunrise\n",
      "dataset2/sunrise302.jpg , sunrise\n",
      "dataset2/cloudy27.jpg , cloudy\n",
      "dataset2/shine239.jpg , shine\n",
      "dataset2/shine219.jpg , shine\n",
      "dataset2/shine7.jpg , shine\n",
      "dataset2/sunrise1.jpg , sunrise\n",
      "dataset2/shine43.jpg , shine\n",
      "dataset2/sunrise73.jpg , sunrise\n",
      "dataset2/shine88.jpg , shine\n",
      "dataset2/sunrise69.jpg , sunrise\n",
      "dataset2/sunrise234.jpg , sunrise\n",
      "dataset2/rain150.jpg , rain\n",
      "dataset2/sunrise338.jpg , sunrise\n",
      "dataset2/sunrise53.jpg , sunrise\n",
      "dataset2/shine44.jpg , shine\n",
      "dataset2/rain154.jpg , rain\n",
      "dataset2/cloudy195.jpg , cloudy\n",
      "dataset2/rain196.jpg , rain\n",
      "dataset2/shine35.jpg , shine\n",
      "dataset2/rain8.jpg , rain\n",
      "dataset2/sunrise42.jpg , sunrise\n",
      "dataset2/shine203.jpg , shine\n",
      "dataset2/shine227.jpg , shine\n",
      "dataset2/rain95.jpg , rain\n",
      "dataset2/shine225.jpg , shine\n",
      "dataset2/sunrise109.jpg , sunrise\n",
      "dataset2/rain208.jpg , rain\n",
      "dataset2/rain206.jpg , rain\n",
      "dataset2/shine85.jpg , shine\n",
      "dataset2/sunrise165.jpg , sunrise\n",
      "dataset2/sunrise3.jpg , sunrise\n",
      "dataset2/cloudy81.jpg , cloudy\n",
      "dataset2/rain120.jpg , rain\n",
      "dataset2/sunrise327.jpg , sunrise\n",
      "dataset2/rain25.jpg , rain\n",
      "dataset2/shine54.jpg , shine\n",
      "dataset2/sunrise216.jpg , sunrise\n",
      "dataset2/rain16.jpg , rain\n",
      "dataset2/sunrise206.jpg , sunrise\n",
      "dataset2/sunrise217.jpg , sunrise\n",
      "dataset2/shine237.jpg , shine\n",
      "dataset2/shine125.jpg , shine\n",
      "dataset2/cloudy134.jpg , cloudy\n",
      "dataset2/rain207.jpg , rain\n",
      "dataset2/sunrise211.jpg , sunrise\n",
      "dataset2/cloudy121.jpg , cloudy\n",
      "dataset2/sunrise78.jpg , sunrise\n",
      "dataset2/sunrise315.jpg , sunrise\n",
      "dataset2/sunrise170.jpg , sunrise\n",
      "dataset2/rain90.jpg , rain\n",
      "dataset2/sunrise4.jpg , sunrise\n",
      "dataset2/shine100.jpg , shine\n",
      "dataset2/sunrise111.jpg , sunrise\n",
      "dataset2/cloudy132.jpg , cloudy\n",
      "dataset2/rain47.jpg , rain\n",
      "dataset2/sunrise249.jpg , sunrise\n",
      "dataset2/cloudy112.jpg , cloudy\n",
      "dataset2/cloudy110.jpg , cloudy\n",
      "dataset2/cloudy158.jpg , cloudy\n",
      "dataset2/rain77.jpg , rain\n",
      "dataset2/rain63.jpg , rain\n",
      "dataset2/shine22.jpg , shine\n",
      "dataset2/cloudy227.jpg , cloudy\n",
      "dataset2/rain110.jpg , rain\n",
      "dataset2/sunrise152.jpg , sunrise\n",
      "dataset2/rain167.jpg , rain\n",
      "dataset2/sunrise281.jpg , sunrise\n",
      "dataset2/sunrise243.jpg , sunrise\n",
      "dataset2/sunrise58.jpg , sunrise\n",
      "dataset2/rain46.jpg , rain\n",
      "dataset2/sunrise67.jpg , sunrise\n",
      "dataset2/sunrise119.jpg , sunrise\n",
      "dataset2/sunrise124.jpg , sunrise\n",
      "dataset2/sunrise176.jpg , sunrise\n",
      "dataset2/cloudy180.jpg , cloudy\n",
      "dataset2/sunrise25.jpg , sunrise\n",
      "dataset2/shine97.jpg , shine\n",
      "dataset2/sunrise260.jpg , sunrise\n",
      "dataset2/cloudy58.jpg , cloudy\n",
      "dataset2/shine139.jpg , shine\n",
      "dataset2/shine39.jpg , shine\n",
      "dataset2/sunrise347.jpg , sunrise\n"
     ]
    }
   ],
   "source": [
    "#extracting the image label and checking the extraction is right.\n",
    "import re\n",
    "labels=[]\n",
    "for i in file_path:\n",
    "    image_label = re.match(r'^([a-zA-Z]+)', i.split(\"/\")[-1]).group()\n",
    "    labels.append(image_label)\n",
    "    print(i,\",\",image_label)"
   ]
  },
  {
   "cell_type": "code",
   "execution_count": 4,
   "metadata": {},
   "outputs": [
    {
     "data": {
      "text/plain": [
       "{'cloudy', 'rain', 'shine', 'sunrise'}"
      ]
     },
     "execution_count": 4,
     "metadata": {},
     "output_type": "execute_result"
    }
   ],
   "source": [
    "#finding the unique image labels in data\n",
    "set(labels)"
   ]
  },
  {
   "cell_type": "code",
   "execution_count": 5,
   "metadata": {},
   "outputs": [],
   "source": [
    "# Function to write data to CSV file\n",
    "def write_to_csv(data, filename):\n",
    "    with open(filename, 'w', newline='') as csvfile:\n",
    "        writer = csv.writer(csvfile)\n",
    "        writer.writerow(['File path', 'Image label'])\n",
    "        writer.writerows(data)"
   ]
  },
  {
   "cell_type": "markdown",
   "metadata": {},
   "source": [
    "**Creating my_training.csv file**"
   ]
  },
  {
   "cell_type": "code",
   "execution_count": 6,
   "metadata": {},
   "outputs": [],
   "source": [
    "#creating my_training.csv file\n",
    "import csv\n",
    "train_size = int(0.7 * len(file_path))\n",
    "train_set = file_path[:train_size]\n",
    "train_labels = [re.match(r'^([a-zA-Z]+)', path.split(\"/\")[-1]).group() for path in train_set]\n",
    "train_data = list(zip(train_set, train_labels))\n",
    "write_to_csv(train_data, 'my_training.csv')"
   ]
  },
  {
   "cell_type": "code",
   "execution_count": 7,
   "metadata": {},
   "outputs": [
    {
     "data": {
      "text/plain": [
       "(787, 2)"
      ]
     },
     "execution_count": 7,
     "metadata": {},
     "output_type": "execute_result"
    }
   ],
   "source": [
    "df=pd.read_csv(\"my_training.csv\")\n",
    "df.shape"
   ]
  },
  {
   "cell_type": "markdown",
   "metadata": {},
   "source": [
    "**The label distribution of my_taining.csv file**"
   ]
  },
  {
   "cell_type": "code",
   "execution_count": 8,
   "metadata": {},
   "outputs": [
    {
     "data": {
      "text/plain": [
       "sunrise    253\n",
       "cloudy     211\n",
       "shine      179\n",
       "rain       144\n",
       "Name: Image label, dtype: int64"
      ]
     },
     "execution_count": 8,
     "metadata": {},
     "output_type": "execute_result"
    }
   ],
   "source": [
    "label_counts = df['Image label'].value_counts()\n",
    "label_counts"
   ]
  },
  {
   "cell_type": "code",
   "execution_count": 9,
   "metadata": {},
   "outputs": [
    {
     "data": {
      "image/png": "[encoded data removed]",
      "text/plain": [
       "<Figure size 500x300 with 1 Axes>"
      ]
     },
     "metadata": {},
     "output_type": "display_data"
    }
   ],
   "source": [
    "plt.figure(figsize=(5, 3))\n",
    "label_counts.plot(kind='bar')\n",
    "plt.title('Image Label Counts')\n",
    "plt.xlabel('Image Label')\n",
    "plt.ylabel('Count')\n",
    "plt.xticks(rotation=45, ha='right') \n",
    "plt.tight_layout()\n",
    "plt.show()"
   ]
  },
  {
   "cell_type": "markdown",
   "metadata": {},
   "source": [
    "****The first 10 rows of my_taining.csv file****"
   ]
  },
  {
   "cell_type": "code",
   "execution_count": 10,
   "metadata": {},
   "outputs": [
    {
     "data": {
      "text/html": [
       "<div>\n",
       "<style scoped>\n",
       "    .dataframe tbody tr th:only-of-type {\n",
       "        vertical-align: middle;\n",
       "    }\n",
       "\n",
       "    .dataframe tbody tr th {\n",
       "        vertical-align: top;\n",
       "    }\n",
       "\n",
       "    .dataframe thead th {\n",
       "        text-align: right;\n",
       "    }\n",
       "</style>\n",
       "<table border=\"1\" class=\"dataframe\">\n",
       "  <thead>\n",
       "    <tr style=\"text-align: right;\">\n",
       "      <th></th>\n",
       "      <th>File path</th>\n",
       "      <th>Image label</th>\n",
       "    </tr>\n",
       "  </thead>\n",
       "  <tbody>\n",
       "    <tr>\n",
       "      <th>0</th>\n",
       "      <td>dataset2/sunrise183.jpg</td>\n",
       "      <td>sunrise</td>\n",
       "    </tr>\n",
       "    <tr>\n",
       "      <th>1</th>\n",
       "      <td>dataset2/sunrise264.jpg</td>\n",
       "      <td>sunrise</td>\n",
       "    </tr>\n",
       "    <tr>\n",
       "      <th>2</th>\n",
       "      <td>dataset2/sunrise72.jpg</td>\n",
       "      <td>sunrise</td>\n",
       "    </tr>\n",
       "    <tr>\n",
       "      <th>3</th>\n",
       "      <td>dataset2/sunrise5.jpg</td>\n",
       "      <td>sunrise</td>\n",
       "    </tr>\n",
       "    <tr>\n",
       "      <th>4</th>\n",
       "      <td>dataset2/rain67.jpg</td>\n",
       "      <td>rain</td>\n",
       "    </tr>\n",
       "    <tr>\n",
       "      <th>5</th>\n",
       "      <td>dataset2/sunrise295.jpg</td>\n",
       "      <td>sunrise</td>\n",
       "    </tr>\n",
       "    <tr>\n",
       "      <th>6</th>\n",
       "      <td>dataset2/sunrise309.jpg</td>\n",
       "      <td>sunrise</td>\n",
       "    </tr>\n",
       "    <tr>\n",
       "      <th>7</th>\n",
       "      <td>dataset2/cloudy217.jpg</td>\n",
       "      <td>cloudy</td>\n",
       "    </tr>\n",
       "    <tr>\n",
       "      <th>8</th>\n",
       "      <td>dataset2/rain213.jpg</td>\n",
       "      <td>rain</td>\n",
       "    </tr>\n",
       "    <tr>\n",
       "      <th>9</th>\n",
       "      <td>dataset2/shine162.jpg</td>\n",
       "      <td>shine</td>\n",
       "    </tr>\n",
       "  </tbody>\n",
       "</table>\n",
       "</div>"
      ],
      "text/plain": [
       "                 File path Image label\n",
       "0  dataset2/sunrise183.jpg     sunrise\n",
       "1  dataset2/sunrise264.jpg     sunrise\n",
       "2   dataset2/sunrise72.jpg     sunrise\n",
       "3    dataset2/sunrise5.jpg     sunrise\n",
       "4      dataset2/rain67.jpg        rain\n",
       "5  dataset2/sunrise295.jpg     sunrise\n",
       "6  dataset2/sunrise309.jpg     sunrise\n",
       "7   dataset2/cloudy217.jpg      cloudy\n",
       "8     dataset2/rain213.jpg        rain\n",
       "9    dataset2/shine162.jpg       shine"
      ]
     },
     "execution_count": 10,
     "metadata": {},
     "output_type": "execute_result"
    }
   ],
   "source": [
    "df.head(10)"
   ]
  },
  {
   "cell_type": "markdown",
   "metadata": {},
   "source": [
    "**Creating my_validation.csv file**"
   ]
  },
  {
   "cell_type": "code",
   "execution_count": 11,
   "metadata": {},
   "outputs": [],
   "source": [
    "#creating my_validation.csv file\n",
    "import csv\n",
    "val_size = int(0.15 * len(file_path))\n",
    "val_set = file_path[train_size:train_size + val_size]\n",
    "val_labels = [re.match(r'^([a-zA-Z]+)', path.split(\"/\")[-1]).group() for path in val_set]\n",
    "val_data = list(zip(val_set, val_labels))\n",
    "write_to_csv(val_data, 'my_validation.csv')"
   ]
  },
  {
   "cell_type": "code",
   "execution_count": 12,
   "metadata": {},
   "outputs": [
    {
     "data": {
      "text/plain": [
       "(168, 2)"
      ]
     },
     "execution_count": 12,
     "metadata": {},
     "output_type": "execute_result"
    }
   ],
   "source": [
    "df1=pd.read_csv(\"my_validation.csv\")\n",
    "df1.shape"
   ]
  },
  {
   "cell_type": "markdown",
   "metadata": {},
   "source": [
    "**The label distribution of my_validation.csv file**"
   ]
  },
  {
   "cell_type": "code",
   "execution_count": 13,
   "metadata": {},
   "outputs": [
    {
     "data": {
      "text/plain": [
       "cloudy     50\n",
       "sunrise    43\n",
       "rain       40\n",
       "shine      35\n",
       "Name: Image label, dtype: int64"
      ]
     },
     "execution_count": 13,
     "metadata": {},
     "output_type": "execute_result"
    }
   ],
   "source": [
    "label_counts = df1['Image label'].value_counts()\n",
    "label_counts"
   ]
  },
  {
   "cell_type": "code",
   "execution_count": 14,
   "metadata": {},
   "outputs": [
    {
     "data": {
      "image/png": "[encoded data removed]",
      "text/plain": [
       "<Figure size 500x300 with 1 Axes>"
      ]
     },
     "metadata": {},
     "output_type": "display_data"
    }
   ],
   "source": [
    "plt.figure(figsize=(5, 3))\n",
    "label_counts.plot(kind='bar')\n",
    "plt.title('Image Label Counts')\n",
    "plt.xlabel('Image Label')\n",
    "plt.ylabel('Count')\n",
    "plt.xticks(rotation=45, ha='right') \n",
    "plt.tight_layout()\n",
    "plt.show()"
   ]
  },
  {
   "cell_type": "markdown",
   "metadata": {},
   "source": [
    "**The first 10 rows of my_validation.csv file**"
   ]
  },
  {
   "cell_type": "code",
   "execution_count": 15,
   "metadata": {},
   "outputs": [
    {
     "data": {
      "text/html": [
       "<div>\n",
       "<style scoped>\n",
       "    .dataframe tbody tr th:only-of-type {\n",
       "        vertical-align: middle;\n",
       "    }\n",
       "\n",
       "    .dataframe tbody tr th {\n",
       "        vertical-align: top;\n",
       "    }\n",
       "\n",
       "    .dataframe thead th {\n",
       "        text-align: right;\n",
       "    }\n",
       "</style>\n",
       "<table border=\"1\" class=\"dataframe\">\n",
       "  <thead>\n",
       "    <tr style=\"text-align: right;\">\n",
       "      <th></th>\n",
       "      <th>File path</th>\n",
       "      <th>Image label</th>\n",
       "    </tr>\n",
       "  </thead>\n",
       "  <tbody>\n",
       "    <tr>\n",
       "      <th>0</th>\n",
       "      <td>dataset2/cloudy113.jpg</td>\n",
       "      <td>cloudy</td>\n",
       "    </tr>\n",
       "    <tr>\n",
       "      <th>1</th>\n",
       "      <td>dataset2/sunrise273.jpg</td>\n",
       "      <td>sunrise</td>\n",
       "    </tr>\n",
       "    <tr>\n",
       "      <th>2</th>\n",
       "      <td>dataset2/sunrise205.jpg</td>\n",
       "      <td>sunrise</td>\n",
       "    </tr>\n",
       "    <tr>\n",
       "      <th>3</th>\n",
       "      <td>dataset2/cloudy111.jpg</td>\n",
       "      <td>cloudy</td>\n",
       "    </tr>\n",
       "    <tr>\n",
       "      <th>4</th>\n",
       "      <td>dataset2/sunrise226.jpg</td>\n",
       "      <td>sunrise</td>\n",
       "    </tr>\n",
       "    <tr>\n",
       "      <th>5</th>\n",
       "      <td>dataset2/sunrise102.jpg</td>\n",
       "      <td>sunrise</td>\n",
       "    </tr>\n",
       "    <tr>\n",
       "      <th>6</th>\n",
       "      <td>dataset2/sunrise203.jpg</td>\n",
       "      <td>sunrise</td>\n",
       "    </tr>\n",
       "    <tr>\n",
       "      <th>7</th>\n",
       "      <td>dataset2/cloudy183.jpg</td>\n",
       "      <td>cloudy</td>\n",
       "    </tr>\n",
       "    <tr>\n",
       "      <th>8</th>\n",
       "      <td>dataset2/rain74.jpg</td>\n",
       "      <td>rain</td>\n",
       "    </tr>\n",
       "    <tr>\n",
       "      <th>9</th>\n",
       "      <td>dataset2/cloudy221.jpg</td>\n",
       "      <td>cloudy</td>\n",
       "    </tr>\n",
       "  </tbody>\n",
       "</table>\n",
       "</div>"
      ],
      "text/plain": [
       "                 File path Image label\n",
       "0   dataset2/cloudy113.jpg      cloudy\n",
       "1  dataset2/sunrise273.jpg     sunrise\n",
       "2  dataset2/sunrise205.jpg     sunrise\n",
       "3   dataset2/cloudy111.jpg      cloudy\n",
       "4  dataset2/sunrise226.jpg     sunrise\n",
       "5  dataset2/sunrise102.jpg     sunrise\n",
       "6  dataset2/sunrise203.jpg     sunrise\n",
       "7   dataset2/cloudy183.jpg      cloudy\n",
       "8      dataset2/rain74.jpg        rain\n",
       "9   dataset2/cloudy221.jpg      cloudy"
      ]
     },
     "execution_count": 15,
     "metadata": {},
     "output_type": "execute_result"
    }
   ],
   "source": [
    "df1.head(10)"
   ]
  },
  {
   "cell_type": "markdown",
   "metadata": {},
   "source": [
    "**Creating my_test.csv file**"
   ]
  },
  {
   "cell_type": "code",
   "execution_count": 16,
   "metadata": {},
   "outputs": [],
   "source": [
    "#creating my_test.csv file\n",
    "import csv\n",
    "test_size = len(file_path) - train_size - val_size\n",
    "test_set = file_path[train_size + val_size:]\n",
    "test_labels = [re.match(r'^([a-zA-Z]+)', path.split(\"/\")[-1]).group() for path in test_set]\n",
    "test_data = list(zip(test_set, test_labels))\n",
    "write_to_csv(test_data, 'my_test.csv')"
   ]
  },
  {
   "cell_type": "code",
   "execution_count": 17,
   "metadata": {},
   "outputs": [
    {
     "data": {
      "text/plain": [
       "(170, 2)"
      ]
     },
     "execution_count": 17,
     "metadata": {},
     "output_type": "execute_result"
    }
   ],
   "source": [
    "df2=pd.read_csv(\"my_test.csv\")\n",
    "df2.shape"
   ]
  },
  {
   "cell_type": "markdown",
   "metadata": {},
   "source": [
    "**The label distribution of my_test.csv file**"
   ]
  },
  {
   "cell_type": "code",
   "execution_count": 18,
   "metadata": {},
   "outputs": [
    {
     "data": {
      "text/plain": [
       "sunrise    61\n",
       "shine      39\n",
       "cloudy     39\n",
       "rain       31\n",
       "Name: Image label, dtype: int64"
      ]
     },
     "execution_count": 18,
     "metadata": {},
     "output_type": "execute_result"
    }
   ],
   "source": [
    "label_counts = df2['Image label'].value_counts()\n",
    "label_counts"
   ]
  },
  {
   "cell_type": "code",
   "execution_count": 19,
   "metadata": {},
   "outputs": [
    {
     "data": {
      "image/png": "[encoded data removed]",
      "text/plain": [
       "<Figure size 500x300 with 1 Axes>"
      ]
     },
     "metadata": {},
     "output_type": "display_data"
    }
   ],
   "source": [
    "plt.figure(figsize=(5, 3))\n",
    "label_counts.plot(kind='bar')\n",
    "plt.title('Image Label Counts')\n",
    "plt.xlabel('Image Label')\n",
    "plt.ylabel('Count')\n",
    "plt.xticks(rotation=45, ha='right') \n",
    "plt.tight_layout()\n",
    "plt.show()"
   ]
  },
  {
   "cell_type": "markdown",
   "metadata": {},
   "source": [
    "**The first 10 rows of my_test.csv file**"
   ]
  },
  {
   "cell_type": "code",
   "execution_count": 20,
   "metadata": {},
   "outputs": [
    {
     "data": {
      "text/html": [
       "<div>\n",
       "<style scoped>\n",
       "    .dataframe tbody tr th:only-of-type {\n",
       "        vertical-align: middle;\n",
       "    }\n",
       "\n",
       "    .dataframe tbody tr th {\n",
       "        vertical-align: top;\n",
       "    }\n",
       "\n",
       "    .dataframe thead th {\n",
       "        text-align: right;\n",
       "    }\n",
       "</style>\n",
       "<table border=\"1\" class=\"dataframe\">\n",
       "  <thead>\n",
       "    <tr style=\"text-align: right;\">\n",
       "      <th></th>\n",
       "      <th>File path</th>\n",
       "      <th>Image label</th>\n",
       "    </tr>\n",
       "  </thead>\n",
       "  <tbody>\n",
       "    <tr>\n",
       "      <th>0</th>\n",
       "      <td>dataset2/sunrise251.jpg</td>\n",
       "      <td>sunrise</td>\n",
       "    </tr>\n",
       "    <tr>\n",
       "      <th>1</th>\n",
       "      <td>dataset2/sunrise235.jpg</td>\n",
       "      <td>sunrise</td>\n",
       "    </tr>\n",
       "    <tr>\n",
       "      <th>2</th>\n",
       "      <td>dataset2/rain189.jpg</td>\n",
       "      <td>rain</td>\n",
       "    </tr>\n",
       "    <tr>\n",
       "      <th>3</th>\n",
       "      <td>dataset2/shine116.jpg</td>\n",
       "      <td>shine</td>\n",
       "    </tr>\n",
       "    <tr>\n",
       "      <th>4</th>\n",
       "      <td>dataset2/sunrise81.jpg</td>\n",
       "      <td>sunrise</td>\n",
       "    </tr>\n",
       "    <tr>\n",
       "      <th>5</th>\n",
       "      <td>dataset2/cloudy24.jpg</td>\n",
       "      <td>cloudy</td>\n",
       "    </tr>\n",
       "    <tr>\n",
       "      <th>6</th>\n",
       "      <td>dataset2/cloudy148.jpg</td>\n",
       "      <td>cloudy</td>\n",
       "    </tr>\n",
       "    <tr>\n",
       "      <th>7</th>\n",
       "      <td>dataset2/sunrise189.jpg</td>\n",
       "      <td>sunrise</td>\n",
       "    </tr>\n",
       "    <tr>\n",
       "      <th>8</th>\n",
       "      <td>dataset2/cloudy30.jpg</td>\n",
       "      <td>cloudy</td>\n",
       "    </tr>\n",
       "    <tr>\n",
       "      <th>9</th>\n",
       "      <td>dataset2/sunrise204.jpg</td>\n",
       "      <td>sunrise</td>\n",
       "    </tr>\n",
       "  </tbody>\n",
       "</table>\n",
       "</div>"
      ],
      "text/plain": [
       "                 File path Image label\n",
       "0  dataset2/sunrise251.jpg     sunrise\n",
       "1  dataset2/sunrise235.jpg     sunrise\n",
       "2     dataset2/rain189.jpg        rain\n",
       "3    dataset2/shine116.jpg       shine\n",
       "4   dataset2/sunrise81.jpg     sunrise\n",
       "5    dataset2/cloudy24.jpg      cloudy\n",
       "6   dataset2/cloudy148.jpg      cloudy\n",
       "7  dataset2/sunrise189.jpg     sunrise\n",
       "8    dataset2/cloudy30.jpg      cloudy\n",
       "9  dataset2/sunrise204.jpg     sunrise"
      ]
     },
     "execution_count": 20,
     "metadata": {},
     "output_type": "execute_result"
    }
   ],
   "source": [
    "df2.head(10)"
   ]
  },
  {
   "cell_type": "markdown",
   "metadata": {
    "id": "T04RQSn6fnF2"
   },
   "source": [
    "### 1.2 - preprocessing and preparation (2 marks)\n",
    "\n",
    "Use TensorFlow's `TextLineDataset` to generate datasets for training, validation, and test. The datasets need to produce images that are re-sized to dimensions 230 x 230 and 3 channels, and the values of the pixels must be normalised to the range [0, 1].\n"
   ]
  },
  {
   "cell_type": "code",
   "execution_count": 21,
   "metadata": {},
   "outputs": [],
   "source": [
    "import tensorflow as tf\n",
    "import keras"
   ]
  },
  {
   "cell_type": "code",
   "execution_count": 22,
   "metadata": {},
   "outputs": [],
   "source": [
    "CLASS_NAMES=['cloudy', 'rain', 'shine', 'sunrise']"
   ]
  },
  {
   "cell_type": "code",
   "execution_count": 23,
   "metadata": {
    "id": "0p0bHC1zfnF3"
   },
   "outputs": [],
   "source": [
    "IMG_HEIGHT = 230\n",
    "IMG_WIDTH = 230\n",
    "IMG_CHANNELS = 3\n",
    "def read_and_decode(filename, reshape_dims):\n",
    "  # Read the file\n",
    "  img = tf.io.read_file(filename)\n",
    "  # Convert the compressed string to a 3D uint8 tensor.\n",
    "  img = tf.image.decode_jpeg(img, channels=IMG_CHANNELS)\n",
    "  # Use `convert_image_dtype` to convert to floats in the [0,1] range.\n",
    "  img = tf.image.convert_image_dtype(img, tf.float32)\n",
    "  # Resize the image to the desired size.\n",
    "  return tf.image.resize(img, reshape_dims)\n"
   ]
  },
  {
   "cell_type": "code",
   "execution_count": 24,
   "metadata": {},
   "outputs": [],
   "source": [
    "def decode_csv(csv_row):\n",
    "  record_defaults = [\"path\", \"Weather\"]\n",
    "  filename, label_string = tf.io.decode_csv(csv_row, record_defaults)\n",
    "  img = read_and_decode(filename, [IMG_HEIGHT, IMG_WIDTH])\n",
    "  label = tf.math.equal(CLASS_NAMES, label_string)\n",
    "  return img, label"
   ]
  },
  {
   "cell_type": "code",
   "execution_count": 25,
   "metadata": {},
   "outputs": [],
   "source": [
    "train_dataset = (tf.data.TextLineDataset(\n",
    "    \"training.csv\").\n",
    "    map(decode_csv)).batch(10)\n",
    "\n",
    "eval_dataset = (tf.data.TextLineDataset(\n",
    "    \"validation.csv\").\n",
    "    map(decode_csv)).batch(10)\n",
    "\n",
    "test_dataset = (tf.data.TextLineDataset(\n",
    "    \"test.csv\").\n",
    "    map(decode_csv)).batch(10)"
   ]
  },
  {
   "cell_type": "markdown",
   "metadata": {
    "id": "kJMFW8x2fnF5"
   },
   "source": [
    "## Task 2 - A simple classifier (4 marks)\n",
    "\n",
    "### 2.1 First classifier (1 mark)\n",
    "\n",
    "Create a simple model that contains the following layers:\n",
    "\n",
    "- A `Flatten` layer.\n",
    "- The output layer with the correct size and activation function for this classification task.\n",
    "\n",
    "Then, train the model with the training data. Use the validation data to determine when to stop training. Finally, test the trained model on the test data and report the accuracy."
   ]
  },
  {
   "cell_type": "code",
   "execution_count": 26,
   "metadata": {
    "id": "BV93NDzefnF5"
   },
   "outputs": [
    {
     "name": "stderr",
     "output_type": "stream",
     "text": [
      "C:\\Users\\DeLL\\AppData\\Roaming\\Python\\Python311\\site-packages\\keras\\src\\layers\\reshaping\\flatten.py:37: UserWarning: Do not pass an `input_shape`/`input_dim` argument to a layer. When using Sequential models, prefer using an `Input(shape)` object as the first layer in the model instead.\n",
      "  super().__init__(**kwargs)\n"
     ]
    }
   ],
   "source": [
    "#Model Creation with a flatten layer and an output layer\n",
    "model = keras.Sequential([\n",
    "              keras.layers.Flatten(input_shape=(IMG_HEIGHT, IMG_WIDTH, IMG_CHANNELS)),\n",
    "              keras.layers.Dense(len(CLASS_NAMES), activation='softmax')\n",
    "])\n",
    "#setting the model compiler\n",
    "model.compile(optimizer='adam',\n",
    "              loss='categorical_crossentropy',\n",
    "              metrics=['accuracy'])"
   ]
  },
  {
   "cell_type": "code",
   "execution_count": 27,
   "metadata": {},
   "outputs": [
    {
     "data": {
      "text/html": [
       "<pre style=\"white-space:pre;overflow-x:auto;line-height:normal;font-family:Menlo,'DejaVu Sans Mono',consolas,'Courier New',monospace\"><span style=\"font-weight: bold\">Model: \"sequential\"</span>\n",
       "</pre>\n"
      ],
      "text/plain": [
       "\u001b[1mModel: \"sequential\"\u001b[0m\n"
      ]
     },
     "metadata": {},
     "output_type": "display_data"
    },
    {
     "data": {
      "text/html": [
       "<pre style=\"white-space:pre;overflow-x:auto;line-height:normal;font-family:Menlo,'DejaVu Sans Mono',consolas,'Courier New',monospace\">┏━━━━━━━━━━━━━━━━━━━━━━━━━━━━━━━━━━━━━━┳━━━━━━━━━━━━━━━━━━━━━━━━━━━━━┳━━━━━━━━━━━━━━━━━┓\n",
       "┃<span style=\"font-weight: bold\"> Layer (type)                         </span>┃<span style=\"font-weight: bold\"> Output Shape                </span>┃<span style=\"font-weight: bold\">         Param # </span>┃\n",
       "┡━━━━━━━━━━━━━━━━━━━━━━━━━━━━━━━━━━━━━━╇━━━━━━━━━━━━━━━━━━━━━━━━━━━━━╇━━━━━━━━━━━━━━━━━┩\n",
       "│ flatten (<span style=\"color: #0087ff; text-decoration-color: #0087ff\">Flatten</span>)                    │ (<span style=\"color: #00d7ff; text-decoration-color: #00d7ff\">None</span>, <span style=\"color: #00af00; text-decoration-color: #00af00\">158700</span>)              │               <span style=\"color: #00af00; text-decoration-color: #00af00\">0</span> │\n",
       "├──────────────────────────────────────┼─────────────────────────────┼─────────────────┤\n",
       "│ dense (<span style=\"color: #0087ff; text-decoration-color: #0087ff\">Dense</span>)                        │ (<span style=\"color: #00d7ff; text-decoration-color: #00d7ff\">None</span>, <span style=\"color: #00af00; text-decoration-color: #00af00\">4</span>)                   │         <span style=\"color: #00af00; text-decoration-color: #00af00\">634,804</span> │\n",
       "└──────────────────────────────────────┴─────────────────────────────┴─────────────────┘\n",
       "</pre>\n"
      ],
      "text/plain": [
       "┏━━━━━━━━━━━━━━━━━━━━━━━━━━━━━━━━━━━━━━┳━━━━━━━━━━━━━━━━━━━━━━━━━━━━━┳━━━━━━━━━━━━━━━━━┓\n",
       "┃\u001b[1m \u001b[0m\u001b[1mLayer (type)                        \u001b[0m\u001b[1m \u001b[0m┃\u001b[1m \u001b[0m\u001b[1mOutput Shape               \u001b[0m\u001b[1m \u001b[0m┃\u001b[1m \u001b[0m\u001b[1m        Param #\u001b[0m\u001b[1m \u001b[0m┃\n",
       "┡━━━━━━━━━━━━━━━━━━━━━━━━━━━━━━━━━━━━━━╇━━━━━━━━━━━━━━━━━━━━━━━━━━━━━╇━━━━━━━━━━━━━━━━━┩\n",
       "│ flatten (\u001b[38;5;33mFlatten\u001b[0m)                    │ (\u001b[38;5;45mNone\u001b[0m, \u001b[38;5;34m158700\u001b[0m)              │               \u001b[38;5;34m0\u001b[0m │\n",
       "├──────────────────────────────────────┼─────────────────────────────┼─────────────────┤\n",
       "│ dense (\u001b[38;5;33mDense\u001b[0m)                        │ (\u001b[38;5;45mNone\u001b[0m, \u001b[38;5;34m4\u001b[0m)                   │         \u001b[38;5;34m634,804\u001b[0m │\n",
       "└──────────────────────────────────────┴─────────────────────────────┴─────────────────┘\n"
      ]
     },
     "metadata": {},
     "output_type": "display_data"
    },
    {
     "data": {
      "text/html": [
       "<pre style=\"white-space:pre;overflow-x:auto;line-height:normal;font-family:Menlo,'DejaVu Sans Mono',consolas,'Courier New',monospace\"><span style=\"font-weight: bold\"> Total params: </span><span style=\"color: #00af00; text-decoration-color: #00af00\">634,804</span> (2.42 MB)\n",
       "</pre>\n"
      ],
      "text/plain": [
       "\u001b[1m Total params: \u001b[0m\u001b[38;5;34m634,804\u001b[0m (2.42 MB)\n"
      ]
     },
     "metadata": {},
     "output_type": "display_data"
    },
    {
     "data": {
      "text/html": [
       "<pre style=\"white-space:pre;overflow-x:auto;line-height:normal;font-family:Menlo,'DejaVu Sans Mono',consolas,'Courier New',monospace\"><span style=\"font-weight: bold\"> Trainable params: </span><span style=\"color: #00af00; text-decoration-color: #00af00\">634,804</span> (2.42 MB)\n",
       "</pre>\n"
      ],
      "text/plain": [
       "\u001b[1m Trainable params: \u001b[0m\u001b[38;5;34m634,804\u001b[0m (2.42 MB)\n"
      ]
     },
     "metadata": {},
     "output_type": "display_data"
    },
    {
     "data": {
      "text/html": [
       "<pre style=\"white-space:pre;overflow-x:auto;line-height:normal;font-family:Menlo,'DejaVu Sans Mono',consolas,'Courier New',monospace\"><span style=\"font-weight: bold\"> Non-trainable params: </span><span style=\"color: #00af00; text-decoration-color: #00af00\">0</span> (0.00 B)\n",
       "</pre>\n"
      ],
      "text/plain": [
       "\u001b[1m Non-trainable params: \u001b[0m\u001b[38;5;34m0\u001b[0m (0.00 B)\n"
      ]
     },
     "metadata": {},
     "output_type": "display_data"
    }
   ],
   "source": [
    "#Summary method to understand the structure of model\n",
    "model.summary()"
   ]
  },
  {
   "cell_type": "code",
   "execution_count": 28,
   "metadata": {},
   "outputs": [
    {
     "name": "stdout",
     "output_type": "stream",
     "text": [
      "Epoch 1/10\n",
      "     76/Unknown \u001b[1m4s\u001b[0m 40ms/step - accuracy: 0.4897 - loss: 31.4419"
     ]
    },
    {
     "name": "stderr",
     "output_type": "stream",
     "text": [
      "C:\\Users\\DeLL\\anaconda3\\Lib\\contextlib.py:155: UserWarning: Your input ran out of data; interrupting training. Make sure that your dataset or generator can generate at least `steps_per_epoch * epochs` batches. You may need to use the `.repeat()` function when building your dataset.\n",
      "  self.gen.throw(typ, value, traceback)\n"
     ]
    },
    {
     "name": "stdout",
     "output_type": "stream",
     "text": [
      "\u001b[1m79/79\u001b[0m \u001b[32m━━━━━━━━━━━━━━━━━━━━\u001b[0m\u001b[37m\u001b[0m \u001b[1m5s\u001b[0m 53ms/step - accuracy: 0.4939 - loss: 30.8223 - val_accuracy: 0.5808 - val_loss: 13.9818\n",
      "Epoch 2/10\n",
      "\u001b[1m79/79\u001b[0m \u001b[32m━━━━━━━━━━━━━━━━━━━━\u001b[0m\u001b[37m\u001b[0m \u001b[1m4s\u001b[0m 52ms/step - accuracy: 0.6635 - loss: 10.0102 - val_accuracy: 0.6527 - val_loss: 9.4303\n",
      "Epoch 3/10\n",
      "\u001b[1m79/79\u001b[0m \u001b[32m━━━━━━━━━━━━━━━━━━━━\u001b[0m\u001b[37m\u001b[0m \u001b[1m6s\u001b[0m 56ms/step - accuracy: 0.6860 - loss: 7.9620 - val_accuracy: 0.7665 - val_loss: 6.5620\n",
      "Epoch 4/10\n",
      "\u001b[1m79/79\u001b[0m \u001b[32m━━━━━━━━━━━━━━━━━━━━\u001b[0m\u001b[37m\u001b[0m \u001b[1m4s\u001b[0m 50ms/step - accuracy: 0.7116 - loss: 8.5288 - val_accuracy: 0.7006 - val_loss: 8.1681\n",
      "Epoch 5/10\n",
      "\u001b[1m79/79\u001b[0m \u001b[32m━━━━━━━━━━━━━━━━━━━━\u001b[0m\u001b[37m\u001b[0m \u001b[1m5s\u001b[0m 49ms/step - accuracy: 0.7183 - loss: 7.7665 - val_accuracy: 0.7126 - val_loss: 7.9533\n",
      "Epoch 6/10\n",
      "\u001b[1m79/79\u001b[0m \u001b[32m━━━━━━━━━━━━━━━━━━━━\u001b[0m\u001b[37m\u001b[0m \u001b[1m5s\u001b[0m 48ms/step - accuracy: 0.7516 - loss: 5.3196 - val_accuracy: 0.7246 - val_loss: 7.3527\n",
      "Epoch 7/10\n",
      "\u001b[1m79/79\u001b[0m \u001b[32m━━━━━━━━━━━━━━━━━━━━\u001b[0m\u001b[37m\u001b[0m \u001b[1m5s\u001b[0m 47ms/step - accuracy: 0.7123 - loss: 9.3736 - val_accuracy: 0.6587 - val_loss: 10.0135\n",
      "Epoch 8/10\n",
      "\u001b[1m79/79\u001b[0m \u001b[32m━━━━━━━━━━━━━━━━━━━━\u001b[0m\u001b[37m\u001b[0m \u001b[1m6s\u001b[0m 49ms/step - accuracy: 0.7019 - loss: 10.3499 - val_accuracy: 0.6886 - val_loss: 9.6950\n",
      "Epoch 9/10\n",
      "\u001b[1m79/79\u001b[0m \u001b[32m━━━━━━━━━━━━━━━━━━━━\u001b[0m\u001b[37m\u001b[0m \u001b[1m6s\u001b[0m 54ms/step - accuracy: 0.7594 - loss: 7.8678 - val_accuracy: 0.7545 - val_loss: 6.0808\n",
      "Epoch 10/10\n",
      "\u001b[1m79/79\u001b[0m \u001b[32m━━━━━━━━━━━━━━━━━━━━\u001b[0m\u001b[37m\u001b[0m \u001b[1m5s\u001b[0m 49ms/step - accuracy: 0.8166 - loss: 4.9054 - val_accuracy: 0.6826 - val_loss: 12.3558\n"
     ]
    }
   ],
   "source": [
    "#training the model with the training data.\n",
    "history = model.fit(train_dataset, validation_data=eval_dataset,epochs=10)"
   ]
  },
  {
   "cell_type": "code",
   "execution_count": 29,
   "metadata": {},
   "outputs": [],
   "source": [
    "import matplotlib\n",
    "matplotlib.rcParams.update({'font.size': 20})\n",
    "def training_plot(metrics, history):\n",
    "    f, ax = plt.subplots(1, len(metrics), figsize=(15,5))\n",
    "    for idx, metric in enumerate(metrics):\n",
    "        ax[idx].plot(history.history[metric])\n",
    "        ax[idx].set_xlabel(\"Epochs\")\n",
    "        # ax[idx].set_ylabel(metric, fontweight='bold', fontsize=20)\n",
    "        ax[idx].plot(history.history['val_' + metric], ls='dashed');\n",
    "        ax[idx].legend([metric, 'val_' + metric], fontsize=20)"
   ]
  },
  {
   "cell_type": "code",
   "execution_count": 30,
   "metadata": {},
   "outputs": [
    {
     "data": {
      "image/png": "[encoded data removed]",
      "text/plain": [
       "<Figure size 1500x500 with 2 Axes>"
      ]
     },
     "metadata": {},
     "output_type": "display_data"
    }
   ],
   "source": [
    "training_plot(['loss', 'accuracy'], history);"
   ]
  },
  {
   "cell_type": "markdown",
   "metadata": {},
   "source": [
    "The plot shows that the system overfits quickly. We can use Keras' call back system to instruct the model to do stop early, as soon as the results in the validation data do not improve:"
   ]
  },
  {
   "cell_type": "code",
   "execution_count": 31,
   "metadata": {},
   "outputs": [
    {
     "name": "stdout",
     "output_type": "stream",
     "text": [
      "Epoch 1/10\n",
      "\u001b[1m79/79\u001b[0m \u001b[32m━━━━━━━━━━━━━━━━━━━━\u001b[0m\u001b[37m\u001b[0m \u001b[1m5s\u001b[0m 52ms/step - accuracy: 0.4800 - loss: 21.6662 - val_accuracy: 0.4790 - val_loss: 23.7622\n",
      "Epoch 2/10\n",
      "\u001b[1m79/79\u001b[0m \u001b[32m━━━━━━━━━━━━━━━━━━━━\u001b[0m\u001b[37m\u001b[0m \u001b[1m4s\u001b[0m 50ms/step - accuracy: 0.6619 - loss: 10.3462 - val_accuracy: 0.5329 - val_loss: 25.6366\n"
     ]
    }
   ],
   "source": [
    "#Model Creation with a flatten layer and an output layer\n",
    "model= keras.Sequential([\n",
    "              keras.layers.Flatten(input_shape=(IMG_HEIGHT, IMG_WIDTH, IMG_CHANNELS)),\n",
    "              keras.layers.Dense(len(CLASS_NAMES), activation='softmax')\n",
    "])\n",
    "#setting the model compiler\n",
    "model.compile(optimizer='adam',\n",
    "              loss='categorical_crossentropy',\n",
    "              metrics=['accuracy'])\n",
    "#keras.callbacks.EarlyStopping(patience=1): This creates an instance of the EarlyStopping callback with a patience of 1 epoch. \n",
    "history = model.fit(\n",
    "    train_dataset, validation_data=eval_dataset, epochs=10,\n",
    "    callbacks=[keras.callbacks.EarlyStopping(patience=1)]\n",
    ")"
   ]
  },
  {
   "cell_type": "code",
   "execution_count": 32,
   "metadata": {},
   "outputs": [
    {
     "name": "stdout",
     "output_type": "stream",
     "text": [
      "\u001b[1m17/17\u001b[0m \u001b[32m━━━━━━━━━━━━━━━━━━━━\u001b[0m\u001b[37m\u001b[0m \u001b[1m1s\u001b[0m 28ms/step - accuracy: 0.4309 - loss: 32.9774\n",
      "Test Accuracy: 0.4674556255340576\n"
     ]
    }
   ],
   "source": [
    "# Evaluate the model on the test dataset\n",
    "test_loss, test_accuracy = model.evaluate(test_dataset)\n",
    "\n",
    "# Print the test accuracy\n",
    "print(\"Test Accuracy:\", test_accuracy)\n"
   ]
  },
  {
   "cell_type": "markdown",
   "metadata": {},
   "source": [
    "The test accuracy of a simple classifier model is 46.74%"
   ]
  },
  {
   "cell_type": "markdown",
   "metadata": {
    "id": "M7x5pFFXfnF6"
   },
   "source": [
    "### 2.2 A more complex classifier (2 marks)\n",
    "\n",
    "Try a more complex architecture that has 1 or more hidden layers with dropout. For this more complex architecture, use `keras-tuner` and run it with a reasonable choice of possible parameters. You may try among the following:\n",
    "\n",
    "- Number of hidden layers\n",
    "- Sizes of hidden layers\n",
    "- Dropout rate\n",
    "- Learning rate"
   ]
  },
  {
   "cell_type": "code",
   "execution_count": 33,
   "metadata": {
    "id": "zHw8Ei04fnF7"
   },
   "outputs": [],
   "source": [
    "#Model Creation with a flatten layer, hidden layers, an output layer with dropout rate\n",
    "from tensorflow.keras import models\n",
    "from tensorflow.keras import layers\n",
    "def build_deep_nn(rows, columns, channels, num_hidden, hidden_sizes,\n",
    "                  dropout_rates,output_size, output_activation):\n",
    "        \n",
    "     model = models.Sequential()\n",
    "     model.add(layers.Flatten(input_shape=(rows,columns,channels)))\n",
    "     for i in range(num_hidden):\n",
    "         model.add(layers.Dense(hidden_sizes[i], activation='relu'))\n",
    "         if dropout_rates[i] > 0:\n",
    "             model.add(layers.Dropout(dropout_rates[i]))\n",
    "     model.add(layers.Dense(units=output_size, activation=output_activation))\n",
    "    \n",
    "     return model\n"
   ]
  },
  {
   "cell_type": "code",
   "execution_count": 34,
   "metadata": {},
   "outputs": [
    {
     "data": {
      "text/html": [
       "<pre style=\"white-space:pre;overflow-x:auto;line-height:normal;font-family:Menlo,'DejaVu Sans Mono',consolas,'Courier New',monospace\"><span style=\"font-weight: bold\">Model: \"sequential_2\"</span>\n",
       "</pre>\n"
      ],
      "text/plain": [
       "\u001b[1mModel: \"sequential_2\"\u001b[0m\n"
      ]
     },
     "metadata": {},
     "output_type": "display_data"
    },
    {
     "data": {
      "text/html": [
       "<pre style=\"white-space:pre;overflow-x:auto;line-height:normal;font-family:Menlo,'DejaVu Sans Mono',consolas,'Courier New',monospace\">┏━━━━━━━━━━━━━━━━━━━━━━━━━━━━━━━━━━━━━━┳━━━━━━━━━━━━━━━━━━━━━━━━━━━━━┳━━━━━━━━━━━━━━━━━┓\n",
       "┃<span style=\"font-weight: bold\"> Layer (type)                         </span>┃<span style=\"font-weight: bold\"> Output Shape                </span>┃<span style=\"font-weight: bold\">         Param # </span>┃\n",
       "┡━━━━━━━━━━━━━━━━━━━━━━━━━━━━━━━━━━━━━━╇━━━━━━━━━━━━━━━━━━━━━━━━━━━━━╇━━━━━━━━━━━━━━━━━┩\n",
       "│ flatten_2 (<span style=\"color: #0087ff; text-decoration-color: #0087ff\">Flatten</span>)                  │ (<span style=\"color: #00d7ff; text-decoration-color: #00d7ff\">None</span>, <span style=\"color: #00af00; text-decoration-color: #00af00\">158700</span>)              │               <span style=\"color: #00af00; text-decoration-color: #00af00\">0</span> │\n",
       "├──────────────────────────────────────┼─────────────────────────────┼─────────────────┤\n",
       "│ dense_2 (<span style=\"color: #0087ff; text-decoration-color: #0087ff\">Dense</span>)                      │ (<span style=\"color: #00d7ff; text-decoration-color: #00d7ff\">None</span>, <span style=\"color: #00af00; text-decoration-color: #00af00\">40</span>)                  │       <span style=\"color: #00af00; text-decoration-color: #00af00\">6,348,040</span> │\n",
       "├──────────────────────────────────────┼─────────────────────────────┼─────────────────┤\n",
       "│ dense_3 (<span style=\"color: #0087ff; text-decoration-color: #0087ff\">Dense</span>)                      │ (<span style=\"color: #00d7ff; text-decoration-color: #00d7ff\">None</span>, <span style=\"color: #00af00; text-decoration-color: #00af00\">20</span>)                  │             <span style=\"color: #00af00; text-decoration-color: #00af00\">820</span> │\n",
       "├──────────────────────────────────────┼─────────────────────────────┼─────────────────┤\n",
       "│ dropout (<span style=\"color: #0087ff; text-decoration-color: #0087ff\">Dropout</span>)                    │ (<span style=\"color: #00d7ff; text-decoration-color: #00d7ff\">None</span>, <span style=\"color: #00af00; text-decoration-color: #00af00\">20</span>)                  │               <span style=\"color: #00af00; text-decoration-color: #00af00\">0</span> │\n",
       "├──────────────────────────────────────┼─────────────────────────────┼─────────────────┤\n",
       "│ dense_4 (<span style=\"color: #0087ff; text-decoration-color: #0087ff\">Dense</span>)                      │ (<span style=\"color: #00d7ff; text-decoration-color: #00d7ff\">None</span>, <span style=\"color: #00af00; text-decoration-color: #00af00\">4</span>)                   │              <span style=\"color: #00af00; text-decoration-color: #00af00\">84</span> │\n",
       "└──────────────────────────────────────┴─────────────────────────────┴─────────────────┘\n",
       "</pre>\n"
      ],
      "text/plain": [
       "┏━━━━━━━━━━━━━━━━━━━━━━━━━━━━━━━━━━━━━━┳━━━━━━━━━━━━━━━━━━━━━━━━━━━━━┳━━━━━━━━━━━━━━━━━┓\n",
       "┃\u001b[1m \u001b[0m\u001b[1mLayer (type)                        \u001b[0m\u001b[1m \u001b[0m┃\u001b[1m \u001b[0m\u001b[1mOutput Shape               \u001b[0m\u001b[1m \u001b[0m┃\u001b[1m \u001b[0m\u001b[1m        Param #\u001b[0m\u001b[1m \u001b[0m┃\n",
       "┡━━━━━━━━━━━━━━━━━━━━━━━━━━━━━━━━━━━━━━╇━━━━━━━━━━━━━━━━━━━━━━━━━━━━━╇━━━━━━━━━━━━━━━━━┩\n",
       "│ flatten_2 (\u001b[38;5;33mFlatten\u001b[0m)                  │ (\u001b[38;5;45mNone\u001b[0m, \u001b[38;5;34m158700\u001b[0m)              │               \u001b[38;5;34m0\u001b[0m │\n",
       "├──────────────────────────────────────┼─────────────────────────────┼─────────────────┤\n",
       "│ dense_2 (\u001b[38;5;33mDense\u001b[0m)                      │ (\u001b[38;5;45mNone\u001b[0m, \u001b[38;5;34m40\u001b[0m)                  │       \u001b[38;5;34m6,348,040\u001b[0m │\n",
       "├──────────────────────────────────────┼─────────────────────────────┼─────────────────┤\n",
       "│ dense_3 (\u001b[38;5;33mDense\u001b[0m)                      │ (\u001b[38;5;45mNone\u001b[0m, \u001b[38;5;34m20\u001b[0m)                  │             \u001b[38;5;34m820\u001b[0m │\n",
       "├──────────────────────────────────────┼─────────────────────────────┼─────────────────┤\n",
       "│ dropout (\u001b[38;5;33mDropout\u001b[0m)                    │ (\u001b[38;5;45mNone\u001b[0m, \u001b[38;5;34m20\u001b[0m)                  │               \u001b[38;5;34m0\u001b[0m │\n",
       "├──────────────────────────────────────┼─────────────────────────────┼─────────────────┤\n",
       "│ dense_4 (\u001b[38;5;33mDense\u001b[0m)                      │ (\u001b[38;5;45mNone\u001b[0m, \u001b[38;5;34m4\u001b[0m)                   │              \u001b[38;5;34m84\u001b[0m │\n",
       "└──────────────────────────────────────┴─────────────────────────────┴─────────────────┘\n"
      ]
     },
     "metadata": {},
     "output_type": "display_data"
    },
    {
     "data": {
      "text/html": [
       "<pre style=\"white-space:pre;overflow-x:auto;line-height:normal;font-family:Menlo,'DejaVu Sans Mono',consolas,'Courier New',monospace\"><span style=\"font-weight: bold\"> Total params: </span><span style=\"color: #00af00; text-decoration-color: #00af00\">6,348,944</span> (24.22 MB)\n",
       "</pre>\n"
      ],
      "text/plain": [
       "\u001b[1m Total params: \u001b[0m\u001b[38;5;34m6,348,944\u001b[0m (24.22 MB)\n"
      ]
     },
     "metadata": {},
     "output_type": "display_data"
    },
    {
     "data": {
      "text/html": [
       "<pre style=\"white-space:pre;overflow-x:auto;line-height:normal;font-family:Menlo,'DejaVu Sans Mono',consolas,'Courier New',monospace\"><span style=\"font-weight: bold\"> Trainable params: </span><span style=\"color: #00af00; text-decoration-color: #00af00\">6,348,944</span> (24.22 MB)\n",
       "</pre>\n"
      ],
      "text/plain": [
       "\u001b[1m Trainable params: \u001b[0m\u001b[38;5;34m6,348,944\u001b[0m (24.22 MB)\n"
      ]
     },
     "metadata": {},
     "output_type": "display_data"
    },
    {
     "data": {
      "text/html": [
       "<pre style=\"white-space:pre;overflow-x:auto;line-height:normal;font-family:Menlo,'DejaVu Sans Mono',consolas,'Courier New',monospace\"><span style=\"font-weight: bold\"> Non-trainable params: </span><span style=\"color: #00af00; text-decoration-color: #00af00\">0</span> (0.00 B)\n",
       "</pre>\n"
      ],
      "text/plain": [
       "\u001b[1m Non-trainable params: \u001b[0m\u001b[38;5;34m0\u001b[0m (0.00 B)\n"
      ]
     },
     "metadata": {},
     "output_type": "display_data"
    }
   ],
   "source": [
    "model_complex_classifier = build_deep_nn(230, 230, 3, 2, (40, 20), (0, 0.5), 4, 'sigmoid')\n",
    "model_complex_classifier.summary()"
   ]
  },
  {
   "cell_type": "code",
   "execution_count": 35,
   "metadata": {},
   "outputs": [],
   "source": [
    "model_complex_classifier.compile(optimizer='adam',\n",
    "              loss='categorical_crossentropy',\n",
    "              metrics=['accuracy'])"
   ]
  },
  {
   "cell_type": "code",
   "execution_count": 36,
   "metadata": {},
   "outputs": [
    {
     "name": "stdout",
     "output_type": "stream",
     "text": [
      "Epoch 1/10\n",
      "\u001b[1m79/79\u001b[0m \u001b[32m━━━━━━━━━━━━━━━━━━━━\u001b[0m\u001b[37m\u001b[0m \u001b[1m12s\u001b[0m 127ms/step - accuracy: 0.3079 - loss: 10.0185 - val_accuracy: 0.4790 - val_loss: 0.9128\n",
      "Epoch 2/10\n",
      "\u001b[1m79/79\u001b[0m \u001b[32m━━━━━━━━━━━━━━━━━━━━\u001b[0m\u001b[37m\u001b[0m \u001b[1m10s\u001b[0m 124ms/step - accuracy: 0.3707 - loss: 1.1411 - val_accuracy: 0.5150 - val_loss: 0.8697\n",
      "Epoch 3/10\n",
      "\u001b[1m79/79\u001b[0m \u001b[32m━━━━━━━━━━━━━━━━━━━━\u001b[0m\u001b[37m\u001b[0m \u001b[1m10s\u001b[0m 124ms/step - accuracy: 0.4210 - loss: 1.0517 - val_accuracy: 0.5928 - val_loss: 0.8677\n",
      "Epoch 4/10\n",
      "\u001b[1m79/79\u001b[0m \u001b[32m━━━━━━━━━━━━━━━━━━━━\u001b[0m\u001b[37m\u001b[0m \u001b[1m11s\u001b[0m 125ms/step - accuracy: 0.5320 - loss: 1.0342 - val_accuracy: 0.5329 - val_loss: 0.8246\n",
      "Epoch 5/10\n",
      "\u001b[1m79/79\u001b[0m \u001b[32m━━━━━━━━━━━━━━━━━━━━\u001b[0m\u001b[37m\u001b[0m \u001b[1m10s\u001b[0m 124ms/step - accuracy: 0.4764 - loss: 1.0247 - val_accuracy: 0.5569 - val_loss: 0.8003\n",
      "Epoch 6/10\n",
      "\u001b[1m79/79\u001b[0m \u001b[32m━━━━━━━━━━━━━━━━━━━━\u001b[0m\u001b[37m\u001b[0m \u001b[1m11s\u001b[0m 125ms/step - accuracy: 0.5225 - loss: 1.1021 - val_accuracy: 0.5329 - val_loss: 0.8027\n",
      "Epoch 7/10\n",
      "\u001b[1m79/79\u001b[0m \u001b[32m━━━━━━━━━━━━━━━━━━━━\u001b[0m\u001b[37m\u001b[0m \u001b[1m10s\u001b[0m 121ms/step - accuracy: 0.4895 - loss: 1.0487 - val_accuracy: 0.5868 - val_loss: 0.7995\n",
      "Epoch 8/10\n",
      "\u001b[1m79/79\u001b[0m \u001b[32m━━━━━━━━━━━━━━━━━━━━\u001b[0m\u001b[37m\u001b[0m \u001b[1m10s\u001b[0m 122ms/step - accuracy: 0.4853 - loss: 1.0088 - val_accuracy: 0.6527 - val_loss: 0.8064\n",
      "Epoch 9/10\n",
      "\u001b[1m79/79\u001b[0m \u001b[32m━━━━━━━━━━━━━━━━━━━━\u001b[0m\u001b[37m\u001b[0m \u001b[1m10s\u001b[0m 120ms/step - accuracy: 0.5146 - loss: 1.0385 - val_accuracy: 0.6826 - val_loss: 0.8084\n",
      "Epoch 10/10\n",
      "\u001b[1m79/79\u001b[0m \u001b[32m━━━━━━━━━━━━━━━━━━━━\u001b[0m\u001b[37m\u001b[0m \u001b[1m10s\u001b[0m 122ms/step - accuracy: 0.5240 - loss: 1.0053 - val_accuracy: 0.6168 - val_loss: 0.7957\n"
     ]
    }
   ],
   "source": [
    "history = model_complex_classifier.fit(train_dataset, validation_data=eval_dataset,epochs=10)"
   ]
  },
  {
   "cell_type": "code",
   "execution_count": 37,
   "metadata": {},
   "outputs": [
    {
     "name": "stdout",
     "output_type": "stream",
     "text": [
      "\u001b[1m17/17\u001b[0m \u001b[32m━━━━━━━━━━━━━━━━━━━━\u001b[0m\u001b[37m\u001b[0m \u001b[1m1s\u001b[0m 28ms/step - accuracy: 0.6284 - loss: 0.8992\n",
      "Test Accuracy: 0.639053225517273\n"
     ]
    }
   ],
   "source": [
    "# Evaluate the model on the test dataset\n",
    "test_loss, test_accuracy = model_complex_classifier.evaluate(test_dataset)\n",
    "\n",
    "# Print the test accuracy\n",
    "print(\"Test Accuracy:\", test_accuracy)\n"
   ]
  },
  {
   "cell_type": "markdown",
   "metadata": {},
   "source": [
    "**Using Keras Tuner to find the optimal parameters**"
   ]
  },
  {
   "cell_type": "code",
   "execution_count": 51,
   "metadata": {},
   "outputs": [],
   "source": [
    "from tensorflow.keras.models import Sequential\n",
    "from tensorflow.keras.layers import Flatten, Dense, Dropout\n",
    "import keras_tuner as kt\n",
    "import keras\n",
    "def build_model(hp):\n",
    "    # Define hyperparameters\n",
    "    num_hidden = hp.Int('num_hidden', 1, 3)\n",
    "    dropout_rate = hp.Float('dropout', 0.0, 0.5)\n",
    "    model = keras.Sequential()\n",
    "    model.add(keras.layers.Flatten(input_shape=(230, 230, 3)))\n",
    "    \n",
    "    # Add dense layers based on num_layers\n",
    "    for i in range(num_hidden):\n",
    "        # Define units and activation for each dense layer\n",
    "        units = hp.Int('units_' + str(i), min_value=20, max_value=200, step=20)\n",
    "        \n",
    "        \n",
    "        # Add dense layer with defined units and activation\n",
    "        model.add(keras.layers.Dense(units=units, activation=keras.activations.relu))\n",
    "        \n",
    "        # Add dropout layer for the last dense layer\n",
    "        if i == num_hidden - 1:\n",
    "            dropout = hp.Float('dropout', min_value=0, max_value=0.5, step=0.1)\n",
    "            model.add(keras.layers.Dropout(rate=dropout))\n",
    "    \n",
    "    # Output layer\n",
    "    model.add(keras.layers.Dense(4, activation='sigmoid'))\n",
    "   \n",
    "    # Define optimizer with the chosen learning rate\n",
    "    optimizer = hp.Choice('optimizer', ['adam', 'rmsprop'])\n",
    "    learning_rate = hp.Choice('learning_rate', values=[1e-2, 1e-3, 1e-4])\n",
    "    if optimizer == 'adam':\n",
    "        optimizer = keras.optimizers.Adam(learning_rate=learning_rate)\n",
    "    elif optimizer == 'rmsprop':\n",
    "        optimizer = keras.optimizers.RMSprop(learning_rate=learning_rate)\n",
    "    \n",
    "    # Compile the model\n",
    "    model.compile(optimizer=optimizer,\n",
    "                  loss='categorical_crossentropy',\n",
    "                  metrics=['accuracy'])\n",
    "    \n",
    "    return model\n"
   ]
  },
  {
   "cell_type": "code",
   "execution_count": 52,
   "metadata": {
    "scrolled": false
   },
   "outputs": [
    {
     "name": "stdout",
     "output_type": "stream",
     "text": [
      "Trial 5 Complete [00h 01m 25s]\n",
      "val_accuracy: 0.7544910311698914\n",
      "\n",
      "Best val_accuracy So Far: 0.7844311594963074\n",
      "Total elapsed time: 00h 07m 34s\n",
      "{'num_hidden': 2, 'dropout': 0.018254030162180912, 'units_0': 60, 'optimizer': 'adam', 'learning_rate': 0.0001, 'units_1': 20}\n"
     ]
    },
    {
     "name": "stderr",
     "output_type": "stream",
     "text": [
      "C:\\Users\\DeLL\\AppData\\Roaming\\Python\\Python311\\site-packages\\keras\\src\\saving\\saving_lib.py:396: UserWarning: Skipping variable loading for optimizer 'adam', because it has 2 variables whereas the saved optimizer has 14 variables. \n",
      "  trackable.load_own_variables(weights_store.get(inner_path))\n"
     ]
    },
    {
     "data": {
      "text/html": [
       "<pre style=\"white-space:pre;overflow-x:auto;line-height:normal;font-family:Menlo,'DejaVu Sans Mono',consolas,'Courier New',monospace\"><span style=\"font-weight: bold\">Model: \"sequential\"</span>\n",
       "</pre>\n"
      ],
      "text/plain": [
       "\u001b[1mModel: \"sequential\"\u001b[0m\n"
      ]
     },
     "metadata": {},
     "output_type": "display_data"
    },
    {
     "data": {
      "text/html": [
       "<pre style=\"white-space:pre;overflow-x:auto;line-height:normal;font-family:Menlo,'DejaVu Sans Mono',consolas,'Courier New',monospace\">┏━━━━━━━━━━━━━━━━━━━━━━━━━━━━━━━━━━━━━━┳━━━━━━━━━━━━━━━━━━━━━━━━━━━━━┳━━━━━━━━━━━━━━━━━┓\n",
       "┃<span style=\"font-weight: bold\"> Layer (type)                         </span>┃<span style=\"font-weight: bold\"> Output Shape                </span>┃<span style=\"font-weight: bold\">         Param # </span>┃\n",
       "┡━━━━━━━━━━━━━━━━━━━━━━━━━━━━━━━━━━━━━━╇━━━━━━━━━━━━━━━━━━━━━━━━━━━━━╇━━━━━━━━━━━━━━━━━┩\n",
       "│ flatten (<span style=\"color: #0087ff; text-decoration-color: #0087ff\">Flatten</span>)                    │ (<span style=\"color: #00d7ff; text-decoration-color: #00d7ff\">None</span>, <span style=\"color: #00af00; text-decoration-color: #00af00\">158700</span>)              │               <span style=\"color: #00af00; text-decoration-color: #00af00\">0</span> │\n",
       "├──────────────────────────────────────┼─────────────────────────────┼─────────────────┤\n",
       "│ dense (<span style=\"color: #0087ff; text-decoration-color: #0087ff\">Dense</span>)                        │ (<span style=\"color: #00d7ff; text-decoration-color: #00d7ff\">None</span>, <span style=\"color: #00af00; text-decoration-color: #00af00\">60</span>)                  │       <span style=\"color: #00af00; text-decoration-color: #00af00\">9,522,060</span> │\n",
       "├──────────────────────────────────────┼─────────────────────────────┼─────────────────┤\n",
       "│ dense_1 (<span style=\"color: #0087ff; text-decoration-color: #0087ff\">Dense</span>)                      │ (<span style=\"color: #00d7ff; text-decoration-color: #00d7ff\">None</span>, <span style=\"color: #00af00; text-decoration-color: #00af00\">20</span>)                  │           <span style=\"color: #00af00; text-decoration-color: #00af00\">1,220</span> │\n",
       "├──────────────────────────────────────┼─────────────────────────────┼─────────────────┤\n",
       "│ dropout (<span style=\"color: #0087ff; text-decoration-color: #0087ff\">Dropout</span>)                    │ (<span style=\"color: #00d7ff; text-decoration-color: #00d7ff\">None</span>, <span style=\"color: #00af00; text-decoration-color: #00af00\">20</span>)                  │               <span style=\"color: #00af00; text-decoration-color: #00af00\">0</span> │\n",
       "├──────────────────────────────────────┼─────────────────────────────┼─────────────────┤\n",
       "│ dense_2 (<span style=\"color: #0087ff; text-decoration-color: #0087ff\">Dense</span>)                      │ (<span style=\"color: #00d7ff; text-decoration-color: #00d7ff\">None</span>, <span style=\"color: #00af00; text-decoration-color: #00af00\">4</span>)                   │              <span style=\"color: #00af00; text-decoration-color: #00af00\">84</span> │\n",
       "└──────────────────────────────────────┴─────────────────────────────┴─────────────────┘\n",
       "</pre>\n"
      ],
      "text/plain": [
       "┏━━━━━━━━━━━━━━━━━━━━━━━━━━━━━━━━━━━━━━┳━━━━━━━━━━━━━━━━━━━━━━━━━━━━━┳━━━━━━━━━━━━━━━━━┓\n",
       "┃\u001b[1m \u001b[0m\u001b[1mLayer (type)                        \u001b[0m\u001b[1m \u001b[0m┃\u001b[1m \u001b[0m\u001b[1mOutput Shape               \u001b[0m\u001b[1m \u001b[0m┃\u001b[1m \u001b[0m\u001b[1m        Param #\u001b[0m\u001b[1m \u001b[0m┃\n",
       "┡━━━━━━━━━━━━━━━━━━━━━━━━━━━━━━━━━━━━━━╇━━━━━━━━━━━━━━━━━━━━━━━━━━━━━╇━━━━━━━━━━━━━━━━━┩\n",
       "│ flatten (\u001b[38;5;33mFlatten\u001b[0m)                    │ (\u001b[38;5;45mNone\u001b[0m, \u001b[38;5;34m158700\u001b[0m)              │               \u001b[38;5;34m0\u001b[0m │\n",
       "├──────────────────────────────────────┼─────────────────────────────┼─────────────────┤\n",
       "│ dense (\u001b[38;5;33mDense\u001b[0m)                        │ (\u001b[38;5;45mNone\u001b[0m, \u001b[38;5;34m60\u001b[0m)                  │       \u001b[38;5;34m9,522,060\u001b[0m │\n",
       "├──────────────────────────────────────┼─────────────────────────────┼─────────────────┤\n",
       "│ dense_1 (\u001b[38;5;33mDense\u001b[0m)                      │ (\u001b[38;5;45mNone\u001b[0m, \u001b[38;5;34m20\u001b[0m)                  │           \u001b[38;5;34m1,220\u001b[0m │\n",
       "├──────────────────────────────────────┼─────────────────────────────┼─────────────────┤\n",
       "│ dropout (\u001b[38;5;33mDropout\u001b[0m)                    │ (\u001b[38;5;45mNone\u001b[0m, \u001b[38;5;34m20\u001b[0m)                  │               \u001b[38;5;34m0\u001b[0m │\n",
       "├──────────────────────────────────────┼─────────────────────────────┼─────────────────┤\n",
       "│ dense_2 (\u001b[38;5;33mDense\u001b[0m)                      │ (\u001b[38;5;45mNone\u001b[0m, \u001b[38;5;34m4\u001b[0m)                   │              \u001b[38;5;34m84\u001b[0m │\n",
       "└──────────────────────────────────────┴─────────────────────────────┴─────────────────┘\n"
      ]
     },
     "metadata": {},
     "output_type": "display_data"
    },
    {
     "data": {
      "text/html": [
       "<pre style=\"white-space:pre;overflow-x:auto;line-height:normal;font-family:Menlo,'DejaVu Sans Mono',consolas,'Courier New',monospace\"><span style=\"font-weight: bold\"> Total params: </span><span style=\"color: #00af00; text-decoration-color: #00af00\">9,523,364</span> (36.33 MB)\n",
       "</pre>\n"
      ],
      "text/plain": [
       "\u001b[1m Total params: \u001b[0m\u001b[38;5;34m9,523,364\u001b[0m (36.33 MB)\n"
      ]
     },
     "metadata": {},
     "output_type": "display_data"
    },
    {
     "data": {
      "text/html": [
       "<pre style=\"white-space:pre;overflow-x:auto;line-height:normal;font-family:Menlo,'DejaVu Sans Mono',consolas,'Courier New',monospace\"><span style=\"font-weight: bold\"> Trainable params: </span><span style=\"color: #00af00; text-decoration-color: #00af00\">9,523,364</span> (36.33 MB)\n",
       "</pre>\n"
      ],
      "text/plain": [
       "\u001b[1m Trainable params: \u001b[0m\u001b[38;5;34m9,523,364\u001b[0m (36.33 MB)\n"
      ]
     },
     "metadata": {},
     "output_type": "display_data"
    },
    {
     "data": {
      "text/html": [
       "<pre style=\"white-space:pre;overflow-x:auto;line-height:normal;font-family:Menlo,'DejaVu Sans Mono',consolas,'Courier New',monospace\"><span style=\"font-weight: bold\"> Non-trainable params: </span><span style=\"color: #00af00; text-decoration-color: #00af00\">0</span> (0.00 B)\n",
       "</pre>\n"
      ],
      "text/plain": [
       "\u001b[1m Non-trainable params: \u001b[0m\u001b[38;5;34m0\u001b[0m (0.00 B)\n"
      ]
     },
     "metadata": {},
     "output_type": "display_data"
    },
    {
     "name": "stdout",
     "output_type": "stream",
     "text": [
      "None\n"
     ]
    }
   ],
   "source": [
    "#Creating a BayesianOptimization tuner using the specified model\n",
    "import kerastuner as kt\n",
    "from tensorflow.keras.models import Sequential\n",
    "from tensorflow.keras.layers import Flatten, Dense, Dropout\n",
    "\n",
    "tuner = kt.BayesianOptimization(\n",
    "    build_model,\n",
    "    objective=kt.Objective('val_accuracy', 'max'), \n",
    "    max_trials=5,\n",
    "    num_initial_points=2, \n",
    "    overwrite=True,\n",
    "    project_name='weather_bayesian'  \n",
    ")\n",
    "\n",
    "tuner.search(train_dataset, epochs=5, validation_data=eval_dataset)\n",
    "topN = 1\n",
    "for x in range(topN):\n",
    "  print(tuner.get_best_hyperparameters(topN)[x].values)\n",
    "  print(tuner.get_best_models(topN)[x].summary())"
   ]
  },
  {
   "cell_type": "code",
   "execution_count": 53,
   "metadata": {},
   "outputs": [
    {
     "name": "stdout",
     "output_type": "stream",
     "text": [
      "{'num_hidden': 2, 'dropout': 0.018254030162180912, 'units_0': 60, 'optimizer': 'adam', 'learning_rate': 0.0001, 'units_1': 20}\n"
     ]
    }
   ],
   "source": [
    "print(tuner.get_best_hyperparameters(1)[0].values)"
   ]
  },
  {
   "cell_type": "code",
   "execution_count": 54,
   "metadata": {},
   "outputs": [
    {
     "name": "stdout",
     "output_type": "stream",
     "text": [
      "Epoch 1/10\n",
      "\u001b[1m79/79\u001b[0m \u001b[32m━━━━━━━━━━━━━━━━━━━━\u001b[0m\u001b[37m\u001b[0m \u001b[1m13s\u001b[0m 158ms/step - accuracy: 0.4863 - loss: 2.2510 - val_accuracy: 0.6647 - val_loss: 0.7785\n",
      "Epoch 2/10\n",
      "\u001b[1m79/79\u001b[0m \u001b[32m━━━━━━━━━━━━━━━━━━━━\u001b[0m\u001b[37m\u001b[0m \u001b[1m21s\u001b[0m 158ms/step - accuracy: 0.6782 - loss: 0.7681 - val_accuracy: 0.6886 - val_loss: 0.7421\n",
      "Epoch 3/10\n",
      "\u001b[1m79/79\u001b[0m \u001b[32m━━━━━━━━━━━━━━━━━━━━\u001b[0m\u001b[37m\u001b[0m \u001b[1m12s\u001b[0m 157ms/step - accuracy: 0.7563 - loss: 0.6074 - val_accuracy: 0.7006 - val_loss: 0.7033\n",
      "Epoch 4/10\n",
      "\u001b[1m79/79\u001b[0m \u001b[32m━━━━━━━━━━━━━━━━━━━━\u001b[0m\u001b[37m\u001b[0m \u001b[1m13s\u001b[0m 160ms/step - accuracy: 0.7734 - loss: 0.6065 - val_accuracy: 0.7246 - val_loss: 0.6619\n",
      "Epoch 5/10\n",
      "\u001b[1m79/79\u001b[0m \u001b[32m━━━━━━━━━━━━━━━━━━━━\u001b[0m\u001b[37m\u001b[0m \u001b[1m13s\u001b[0m 158ms/step - accuracy: 0.7742 - loss: 0.5981 - val_accuracy: 0.6946 - val_loss: 0.7592\n",
      "Epoch 6/10\n",
      "\u001b[1m79/79\u001b[0m \u001b[32m━━━━━━━━━━━━━━━━━━━━\u001b[0m\u001b[37m\u001b[0m \u001b[1m13s\u001b[0m 159ms/step - accuracy: 0.7591 - loss: 0.5742 - val_accuracy: 0.6946 - val_loss: 0.7661\n",
      "Epoch 7/10\n",
      "\u001b[1m79/79\u001b[0m \u001b[32m━━━━━━━━━━━━━━━━━━━━\u001b[0m\u001b[37m\u001b[0m \u001b[1m13s\u001b[0m 160ms/step - accuracy: 0.7920 - loss: 0.5298 - val_accuracy: 0.7365 - val_loss: 0.7085\n",
      "Epoch 8/10\n",
      "\u001b[1m79/79\u001b[0m \u001b[32m━━━━━━━━━━━━━━━━━━━━\u001b[0m\u001b[37m\u001b[0m \u001b[1m13s\u001b[0m 159ms/step - accuracy: 0.7870 - loss: 0.5054 - val_accuracy: 0.7305 - val_loss: 0.7347\n",
      "Epoch 9/10\n",
      "\u001b[1m79/79\u001b[0m \u001b[32m━━━━━━━━━━━━━━━━━━━━\u001b[0m\u001b[37m\u001b[0m \u001b[1m13s\u001b[0m 160ms/step - accuracy: 0.8358 - loss: 0.4928 - val_accuracy: 0.7784 - val_loss: 0.5945\n",
      "Epoch 10/10\n",
      "\u001b[1m79/79\u001b[0m \u001b[32m━━━━━━━━━━━━━━━━━━━━\u001b[0m\u001b[37m\u001b[0m \u001b[1m13s\u001b[0m 160ms/step - accuracy: 0.8401 - loss: 0.4193 - val_accuracy: 0.7665 - val_loss: 0.6883\n"
     ]
    },
    {
     "data": {
      "text/plain": [
       "<keras.src.callbacks.history.History at 0x171382ec310>"
      ]
     },
     "execution_count": 54,
     "metadata": {},
     "output_type": "execute_result"
    }
   ],
   "source": [
    "import keras_tuner as kt\n",
    "best_parameters = tuner.get_best_hyperparameters(num_trials=1)[0]\n",
    "model_tuned = tuner.hypermodel.build(best_parameters)\n",
    "\n",
    "model_tuned.fit(train_dataset,epochs=10,batch_size=128,validation_data=eval_dataset)\n"
   ]
  },
  {
   "cell_type": "code",
   "execution_count": 55,
   "metadata": {},
   "outputs": [
    {
     "name": "stdout",
     "output_type": "stream",
     "text": [
      "\u001b[1m17/17\u001b[0m \u001b[32m━━━━━━━━━━━━━━━━━━━━\u001b[0m\u001b[37m\u001b[0m \u001b[1m1s\u001b[0m 31ms/step - accuracy: 0.7068 - loss: 0.6118\n",
      "Test Accuracy: 0.7396449446678162\n"
     ]
    }
   ],
   "source": [
    "test_loss, test_acc = model_tuned.evaluate(test_dataset)\n",
    "print(f'Test Accuracy: {test_acc}')\n"
   ]
  },
  {
   "cell_type": "markdown",
   "metadata": {
    "id": "neYN1eiIfnF8"
   },
   "source": [
    "Write text below where you explain and justify your decision choices made in this task."
   ]
  },
  {
   "cell_type": "markdown",
   "metadata": {
    "id": "71dBL-k0fnF8"
   },
   "source": [
    "#### The hyperparameters of the optimal model\n",
    "* Number of hidden layers: 2\n",
    "* Sizes of hidden layers:\n",
    "    * For the first hidden layer (units_0): 60 units\n",
    "    * For the second hidden layer (units_1): 20 units\n",
    "* Dropout rate: 0.01825\n",
    "* Learning rate: 0.0001\n",
    "* optimizer: adam\n",
    "\n",
    "**The test accuracy of model_complex_classifier is 63.90%. After applying the keras tuner, with optimal hyperparameters we got the test accuracy of model_tuned has been improved to 73.96%**"
   ]
  },
  {
   "cell_type": "markdown",
   "metadata": {
    "id": "lsM7wXbIfnF9"
   },
   "source": [
    "### 2.3 Error analysis (1 mark)\n",
    "\n",
    "Evaluate your best-performing system from task 2 against the system of task 1 and answer the following questions.\n",
    "\n",
    "1. Which system had a better accuracy on the test data?\n",
    "2. Which system had a lower degree of overfitting?"
   ]
  },
  {
   "cell_type": "markdown",
   "metadata": {},
   "source": [
    "1. Which system had a better accuracy on the test data?\n",
    "       \n"
   ]
  },
  {
   "cell_type": "code",
   "execution_count": 56,
   "metadata": {},
   "outputs": [
    {
     "name": "stdout",
     "output_type": "stream",
     "text": [
      "\u001b[1m17/17\u001b[0m \u001b[32m━━━━━━━━━━━━━━━━━━━━\u001b[0m\u001b[37m\u001b[0m \u001b[1m0s\u001b[0m 21ms/step - accuracy: 0.4309 - loss: 32.9774\n",
      "\u001b[1m17/17\u001b[0m \u001b[32m━━━━━━━━━━━━━━━━━━━━\u001b[0m\u001b[37m\u001b[0m \u001b[1m1s\u001b[0m 32ms/step - accuracy: 0.7068 - loss: 0.6118\n",
      "Test Accuracy of First Classifier Model: 0.4674556255340576\n",
      "Test Accuracy of Keras Tuned Model: 0.7396449446678162\n"
     ]
    }
   ],
   "source": [
    "\n",
    "# Evaluate the model on the test dataset\n",
    "test_loss, test_accuracy = model.evaluate(test_dataset)\n",
    "test_loss_1, test_acc_1 = model_tuned.evaluate(test_dataset)\n",
    "\n",
    "\n",
    "# Print the test accuracy\n",
    "print(\"Test Accuracy of First Classifier Model:\", test_accuracy)\n",
    "print(\"Test Accuracy of Keras Tuned Model:\", test_acc_1)"
   ]
  },
  {
   "cell_type": "markdown",
   "metadata": {},
   "source": [
    "The keras Tuned Model has better accuracy of 73.96% compared to a simple model built in first classifier task which give accuracy of 46.74%."
   ]
  },
  {
   "cell_type": "markdown",
   "metadata": {},
   "source": [
    "2. Which system had a lower degree of overfitting?"
   ]
  },
  {
   "cell_type": "code",
   "execution_count": 57,
   "metadata": {},
   "outputs": [
    {
     "name": "stdout",
     "output_type": "stream",
     "text": [
      "\u001b[1m79/79\u001b[0m \u001b[32m━━━━━━━━━━━━━━━━━━━━\u001b[0m\u001b[37m\u001b[0m \u001b[1m2s\u001b[0m 29ms/step - accuracy: 0.5048 - loss: 26.9709\n",
      "\u001b[1m17/17\u001b[0m \u001b[32m━━━━━━━━━━━━━━━━━━━━\u001b[0m\u001b[37m\u001b[0m \u001b[1m1s\u001b[0m 42ms/step - accuracy: 0.5254 - loss: 24.9960\n",
      "First Classifier Model:\n",
      "Training Accuracy: 0.5339308381080627\n",
      "Validation Accuracy: 0.5329341292381287\n",
      "Overfitting Degree: 0.000996708869934082\n",
      "\u001b[1m79/79\u001b[0m \u001b[32m━━━━━━━━━━━━━━━━━━━━\u001b[0m\u001b[37m\u001b[0m \u001b[1m3s\u001b[0m 34ms/step - accuracy: 0.8246 - loss: 0.5571\n",
      "\u001b[1m17/17\u001b[0m \u001b[32m━━━━━━━━━━━━━━━━━━━━\u001b[0m\u001b[37m\u001b[0m \u001b[1m1s\u001b[0m 48ms/step - accuracy: 0.7987 - loss: 0.6861\n",
      "\n",
      "Keras Tuned Model:\n",
      "Training Accuracy: 0.8169013857841492\n",
      "Validation Accuracy: 0.7664670944213867\n",
      "Overfitting Degree: 0.05043429136276245\n"
     ]
    }
   ],
   "source": [
    "train_loss, train_acc = model.evaluate(train_dataset)\n",
    "eval_loss, eval_acc = model.evaluate(eval_dataset)\n",
    "print(\"First Classifier Model:\")\n",
    "print(\"Training Accuracy:\", train_acc)\n",
    "print(\"Validation Accuracy:\", eval_acc)\n",
    "overfitting_degree_1=train_acc-eval_acc\n",
    "print(\"Overfitting Degree:\", overfitting_degree_1)\n",
    "\n",
    "\n",
    "train_loss_1, train_acc_1 = model_tuned.evaluate(train_dataset)\n",
    "eval_loss_1, eval_acc_1 = model_tuned.evaluate(eval_dataset)\n",
    "print(\"\\nKeras Tuned Model:\")\n",
    "print(\"Training Accuracy:\", train_acc_1)\n",
    "print(\"Validation Accuracy:\", eval_acc_1)\n",
    "overfitting_degree_2=train_acc_1-eval_acc_1\n",
    "print(\"Overfitting Degree:\", overfitting_degree_2)\n"
   ]
  },
  {
   "cell_type": "markdown",
   "metadata": {},
   "source": [
    "Comparing the overfitting degrees, it's clear that the first classifier model has a lower degree of overfitting (0.00099) compared to the Keras tuned model (0.05043).It suggests that the model is generalizing slightly better on validation data, which might be due to the simpler model. So, the first classifier model had a lower degree of overfitting."
   ]
  },
  {
   "cell_type": "markdown",
   "metadata": {
    "id": "qJgTJjhUfnF9"
   },
   "source": [
    "## Task 3 - A more complex classifier (5 marks)\n",
    "\n",
    "### Task 3.1 Using ConvNets (2 marks)\n",
    "\n",
    "Implement a model that uses a sequence of at least two `ConvD`, each one followed with `MaxPooling2D`. Use reasonable numbers for the hyperparameters (number of filters, kernel size, pool size, activation, etc), base on what we have seen in the lectures. Feel free to research the internet and / or generative AI to help you find a reasonable choice of hyperparameters. For this task, do not use pre-trained models."
   ]
  },
  {
   "cell_type": "code",
   "execution_count": 58,
   "metadata": {
    "id": "tvZQQPSJfnF-"
   },
   "outputs": [
    {
     "name": "stderr",
     "output_type": "stream",
     "text": [
      "C:\\Users\\DeLL\\AppData\\Roaming\\Python\\Python311\\site-packages\\keras\\src\\layers\\convolutional\\base_conv.py:99: UserWarning: Do not pass an `input_shape`/`input_dim` argument to a layer. When using Sequential models, prefer using an `Input(shape)` object as the first layer in the model instead.\n",
      "  super().__init__(\n"
     ]
    }
   ],
   "source": [
    "from keras import layers\n",
    "from keras import models\n",
    "\n",
    "ConvNets_model = models.Sequential()\n",
    "ConvNets_model.add(layers.Conv2D(filters=32, kernel_size=3, activation=\"relu\", input_shape=(230, 230,3)))\n",
    "ConvNets_model.add(layers.MaxPooling2D(pool_size=2))\n",
    "ConvNets_model.add(layers.Conv2D(filters=64, kernel_size=3, activation=\"relu\"))\n",
    "ConvNets_model.add(layers.MaxPooling2D(pool_size=2))\n",
    "ConvNets_model.add(layers.Conv2D(filters=128, kernel_size=3, activation=\"relu\"))\n",
    "ConvNets_model.add(layers.Flatten())\n",
    "ConvNets_model.add(layers.Dense(4, activation=\"softmax\"))"
   ]
  },
  {
   "cell_type": "code",
   "execution_count": 59,
   "metadata": {},
   "outputs": [
    {
     "data": {
      "text/html": [
       "<pre style=\"white-space:pre;overflow-x:auto;line-height:normal;font-family:Menlo,'DejaVu Sans Mono',consolas,'Courier New',monospace\"><span style=\"font-weight: bold\">Model: \"sequential_2\"</span>\n",
       "</pre>\n"
      ],
      "text/plain": [
       "\u001b[1mModel: \"sequential_2\"\u001b[0m\n"
      ]
     },
     "metadata": {},
     "output_type": "display_data"
    },
    {
     "data": {
      "text/html": [
       "<pre style=\"white-space:pre;overflow-x:auto;line-height:normal;font-family:Menlo,'DejaVu Sans Mono',consolas,'Courier New',monospace\">┏━━━━━━━━━━━━━━━━━━━━━━━━━━━━━━━━━━━━━━┳━━━━━━━━━━━━━━━━━━━━━━━━━━━━━┳━━━━━━━━━━━━━━━━━┓\n",
       "┃<span style=\"font-weight: bold\"> Layer (type)                         </span>┃<span style=\"font-weight: bold\"> Output Shape                </span>┃<span style=\"font-weight: bold\">         Param # </span>┃\n",
       "┡━━━━━━━━━━━━━━━━━━━━━━━━━━━━━━━━━━━━━━╇━━━━━━━━━━━━━━━━━━━━━━━━━━━━━╇━━━━━━━━━━━━━━━━━┩\n",
       "│ conv2d (<span style=\"color: #0087ff; text-decoration-color: #0087ff\">Conv2D</span>)                      │ (<span style=\"color: #00d7ff; text-decoration-color: #00d7ff\">None</span>, <span style=\"color: #00af00; text-decoration-color: #00af00\">228</span>, <span style=\"color: #00af00; text-decoration-color: #00af00\">228</span>, <span style=\"color: #00af00; text-decoration-color: #00af00\">32</span>)        │             <span style=\"color: #00af00; text-decoration-color: #00af00\">896</span> │\n",
       "├──────────────────────────────────────┼─────────────────────────────┼─────────────────┤\n",
       "│ max_pooling2d (<span style=\"color: #0087ff; text-decoration-color: #0087ff\">MaxPooling2D</span>)         │ (<span style=\"color: #00d7ff; text-decoration-color: #00d7ff\">None</span>, <span style=\"color: #00af00; text-decoration-color: #00af00\">114</span>, <span style=\"color: #00af00; text-decoration-color: #00af00\">114</span>, <span style=\"color: #00af00; text-decoration-color: #00af00\">32</span>)        │               <span style=\"color: #00af00; text-decoration-color: #00af00\">0</span> │\n",
       "├──────────────────────────────────────┼─────────────────────────────┼─────────────────┤\n",
       "│ conv2d_1 (<span style=\"color: #0087ff; text-decoration-color: #0087ff\">Conv2D</span>)                    │ (<span style=\"color: #00d7ff; text-decoration-color: #00d7ff\">None</span>, <span style=\"color: #00af00; text-decoration-color: #00af00\">112</span>, <span style=\"color: #00af00; text-decoration-color: #00af00\">112</span>, <span style=\"color: #00af00; text-decoration-color: #00af00\">64</span>)        │          <span style=\"color: #00af00; text-decoration-color: #00af00\">18,496</span> │\n",
       "├──────────────────────────────────────┼─────────────────────────────┼─────────────────┤\n",
       "│ max_pooling2d_1 (<span style=\"color: #0087ff; text-decoration-color: #0087ff\">MaxPooling2D</span>)       │ (<span style=\"color: #00d7ff; text-decoration-color: #00d7ff\">None</span>, <span style=\"color: #00af00; text-decoration-color: #00af00\">56</span>, <span style=\"color: #00af00; text-decoration-color: #00af00\">56</span>, <span style=\"color: #00af00; text-decoration-color: #00af00\">64</span>)          │               <span style=\"color: #00af00; text-decoration-color: #00af00\">0</span> │\n",
       "├──────────────────────────────────────┼─────────────────────────────┼─────────────────┤\n",
       "│ conv2d_2 (<span style=\"color: #0087ff; text-decoration-color: #0087ff\">Conv2D</span>)                    │ (<span style=\"color: #00d7ff; text-decoration-color: #00d7ff\">None</span>, <span style=\"color: #00af00; text-decoration-color: #00af00\">54</span>, <span style=\"color: #00af00; text-decoration-color: #00af00\">54</span>, <span style=\"color: #00af00; text-decoration-color: #00af00\">128</span>)         │          <span style=\"color: #00af00; text-decoration-color: #00af00\">73,856</span> │\n",
       "├──────────────────────────────────────┼─────────────────────────────┼─────────────────┤\n",
       "│ flatten_2 (<span style=\"color: #0087ff; text-decoration-color: #0087ff\">Flatten</span>)                  │ (<span style=\"color: #00d7ff; text-decoration-color: #00d7ff\">None</span>, <span style=\"color: #00af00; text-decoration-color: #00af00\">373248</span>)              │               <span style=\"color: #00af00; text-decoration-color: #00af00\">0</span> │\n",
       "├──────────────────────────────────────┼─────────────────────────────┼─────────────────┤\n",
       "│ dense_6 (<span style=\"color: #0087ff; text-decoration-color: #0087ff\">Dense</span>)                      │ (<span style=\"color: #00d7ff; text-decoration-color: #00d7ff\">None</span>, <span style=\"color: #00af00; text-decoration-color: #00af00\">4</span>)                   │       <span style=\"color: #00af00; text-decoration-color: #00af00\">1,492,996</span> │\n",
       "└──────────────────────────────────────┴─────────────────────────────┴─────────────────┘\n",
       "</pre>\n"
      ],
      "text/plain": [
       "┏━━━━━━━━━━━━━━━━━━━━━━━━━━━━━━━━━━━━━━┳━━━━━━━━━━━━━━━━━━━━━━━━━━━━━┳━━━━━━━━━━━━━━━━━┓\n",
       "┃\u001b[1m \u001b[0m\u001b[1mLayer (type)                        \u001b[0m\u001b[1m \u001b[0m┃\u001b[1m \u001b[0m\u001b[1mOutput Shape               \u001b[0m\u001b[1m \u001b[0m┃\u001b[1m \u001b[0m\u001b[1m        Param #\u001b[0m\u001b[1m \u001b[0m┃\n",
       "┡━━━━━━━━━━━━━━━━━━━━━━━━━━━━━━━━━━━━━━╇━━━━━━━━━━━━━━━━━━━━━━━━━━━━━╇━━━━━━━━━━━━━━━━━┩\n",
       "│ conv2d (\u001b[38;5;33mConv2D\u001b[0m)                      │ (\u001b[38;5;45mNone\u001b[0m, \u001b[38;5;34m228\u001b[0m, \u001b[38;5;34m228\u001b[0m, \u001b[38;5;34m32\u001b[0m)        │             \u001b[38;5;34m896\u001b[0m │\n",
       "├──────────────────────────────────────┼─────────────────────────────┼─────────────────┤\n",
       "│ max_pooling2d (\u001b[38;5;33mMaxPooling2D\u001b[0m)         │ (\u001b[38;5;45mNone\u001b[0m, \u001b[38;5;34m114\u001b[0m, \u001b[38;5;34m114\u001b[0m, \u001b[38;5;34m32\u001b[0m)        │               \u001b[38;5;34m0\u001b[0m │\n",
       "├──────────────────────────────────────┼─────────────────────────────┼─────────────────┤\n",
       "│ conv2d_1 (\u001b[38;5;33mConv2D\u001b[0m)                    │ (\u001b[38;5;45mNone\u001b[0m, \u001b[38;5;34m112\u001b[0m, \u001b[38;5;34m112\u001b[0m, \u001b[38;5;34m64\u001b[0m)        │          \u001b[38;5;34m18,496\u001b[0m │\n",
       "├──────────────────────────────────────┼─────────────────────────────┼─────────────────┤\n",
       "│ max_pooling2d_1 (\u001b[38;5;33mMaxPooling2D\u001b[0m)       │ (\u001b[38;5;45mNone\u001b[0m, \u001b[38;5;34m56\u001b[0m, \u001b[38;5;34m56\u001b[0m, \u001b[38;5;34m64\u001b[0m)          │               \u001b[38;5;34m0\u001b[0m │\n",
       "├──────────────────────────────────────┼─────────────────────────────┼─────────────────┤\n",
       "│ conv2d_2 (\u001b[38;5;33mConv2D\u001b[0m)                    │ (\u001b[38;5;45mNone\u001b[0m, \u001b[38;5;34m54\u001b[0m, \u001b[38;5;34m54\u001b[0m, \u001b[38;5;34m128\u001b[0m)         │          \u001b[38;5;34m73,856\u001b[0m │\n",
       "├──────────────────────────────────────┼─────────────────────────────┼─────────────────┤\n",
       "│ flatten_2 (\u001b[38;5;33mFlatten\u001b[0m)                  │ (\u001b[38;5;45mNone\u001b[0m, \u001b[38;5;34m373248\u001b[0m)              │               \u001b[38;5;34m0\u001b[0m │\n",
       "├──────────────────────────────────────┼─────────────────────────────┼─────────────────┤\n",
       "│ dense_6 (\u001b[38;5;33mDense\u001b[0m)                      │ (\u001b[38;5;45mNone\u001b[0m, \u001b[38;5;34m4\u001b[0m)                   │       \u001b[38;5;34m1,492,996\u001b[0m │\n",
       "└──────────────────────────────────────┴─────────────────────────────┴─────────────────┘\n"
      ]
     },
     "metadata": {},
     "output_type": "display_data"
    },
    {
     "data": {
      "text/html": [
       "<pre style=\"white-space:pre;overflow-x:auto;line-height:normal;font-family:Menlo,'DejaVu Sans Mono',consolas,'Courier New',monospace\"><span style=\"font-weight: bold\"> Total params: </span><span style=\"color: #00af00; text-decoration-color: #00af00\">1,586,244</span> (6.05 MB)\n",
       "</pre>\n"
      ],
      "text/plain": [
       "\u001b[1m Total params: \u001b[0m\u001b[38;5;34m1,586,244\u001b[0m (6.05 MB)\n"
      ]
     },
     "metadata": {},
     "output_type": "display_data"
    },
    {
     "data": {
      "text/html": [
       "<pre style=\"white-space:pre;overflow-x:auto;line-height:normal;font-family:Menlo,'DejaVu Sans Mono',consolas,'Courier New',monospace\"><span style=\"font-weight: bold\"> Trainable params: </span><span style=\"color: #00af00; text-decoration-color: #00af00\">1,586,244</span> (6.05 MB)\n",
       "</pre>\n"
      ],
      "text/plain": [
       "\u001b[1m Trainable params: \u001b[0m\u001b[38;5;34m1,586,244\u001b[0m (6.05 MB)\n"
      ]
     },
     "metadata": {},
     "output_type": "display_data"
    },
    {
     "data": {
      "text/html": [
       "<pre style=\"white-space:pre;overflow-x:auto;line-height:normal;font-family:Menlo,'DejaVu Sans Mono',consolas,'Courier New',monospace\"><span style=\"font-weight: bold\"> Non-trainable params: </span><span style=\"color: #00af00; text-decoration-color: #00af00\">0</span> (0.00 B)\n",
       "</pre>\n"
      ],
      "text/plain": [
       "\u001b[1m Non-trainable params: \u001b[0m\u001b[38;5;34m0\u001b[0m (0.00 B)\n"
      ]
     },
     "metadata": {},
     "output_type": "display_data"
    }
   ],
   "source": [
    "ConvNets_model.summary()"
   ]
  },
  {
   "cell_type": "code",
   "execution_count": 60,
   "metadata": {},
   "outputs": [],
   "source": [
    "ConvNets_model.compile(optimizer='adam',\n",
    "                    loss='categorical_crossentropy',\n",
    "                    metrics=['accuracy'])"
   ]
  },
  {
   "cell_type": "code",
   "execution_count": 61,
   "metadata": {},
   "outputs": [
    {
     "name": "stdout",
     "output_type": "stream",
     "text": [
      "Epoch 1/10\n",
      "\u001b[1m79/79\u001b[0m \u001b[32m━━━━━━━━━━━━━━━━━━━━\u001b[0m\u001b[37m\u001b[0m \u001b[1m34s\u001b[0m 419ms/step - accuracy: 0.5771 - loss: 1.4000 - val_accuracy: 0.6766 - val_loss: 0.7148\n",
      "Epoch 2/10\n",
      "\u001b[1m79/79\u001b[0m \u001b[32m━━━━━━━━━━━━━━━━━━━━\u001b[0m\u001b[37m\u001b[0m \u001b[1m40s\u001b[0m 412ms/step - accuracy: 0.7812 - loss: 0.5690 - val_accuracy: 0.7784 - val_loss: 0.5969\n",
      "Epoch 3/10\n",
      "\u001b[1m79/79\u001b[0m \u001b[32m━━━━━━━━━━━━━━━━━━━━\u001b[0m\u001b[37m\u001b[0m \u001b[1m41s\u001b[0m 410ms/step - accuracy: 0.8685 - loss: 0.3814 - val_accuracy: 0.8204 - val_loss: 0.6042\n"
     ]
    }
   ],
   "source": [
    "history = ConvNets_model.fit(train_dataset, epochs=10, batch_size=128,\n",
    "                          validation_data=eval_dataset,\n",
    "                          callbacks=[tf.keras.callbacks.EarlyStopping(patience=1)])"
   ]
  },
  {
   "cell_type": "code",
   "execution_count": 62,
   "metadata": {},
   "outputs": [
    {
     "name": "stdout",
     "output_type": "stream",
     "text": [
      "\u001b[1m17/17\u001b[0m \u001b[32m━━━━━━━━━━━━━━━━━━━━\u001b[0m\u001b[37m\u001b[0m \u001b[1m2s\u001b[0m 101ms/step - accuracy: 0.8261 - loss: 0.3840\n",
      "Test Accuracy: 0.8461538553237915\n"
     ]
    }
   ],
   "source": [
    "test_loss, test_acc = ConvNets_model.evaluate(test_dataset)\n",
    "print(f'Test Accuracy: {test_acc}')\n"
   ]
  },
  {
   "cell_type": "markdown",
   "metadata": {
    "id": "152E3mgdfnF_"
   },
   "source": [
    "### Task 3.2 Using pre-trained models (2 marks)\n",
    "\n",
    "Use MobileNet, pre-trained on imagenet as discussed in the lectures. Add the correct classification layer, and train it with your data. Make sure that you freeze MobileNet's weights during training. Also, make sure you use a reasonable schedule for the learning rate."
   ]
  },
  {
   "cell_type": "code",
   "execution_count": 78,
   "metadata": {},
   "outputs": [],
   "source": [
    "IMG_HEIGHT = 224\n",
    "IMG_WIDTH = 224\n",
    "IMG_CHANNELS = 3\n",
    "CLASS_NAMES=['cloudy', 'rain', 'shine', 'sunrise']\n",
    "def read_and_decode(filename, reshape_dims):\n",
    "  # Read the file\n",
    "  img = tf.io.read_file(filename)\n",
    "  # Convert the compressed string to a 3D uint8 tensor.\n",
    "  img = tf.image.decode_jpeg(img, channels=IMG_CHANNELS)\n",
    "  # Use `convert_image_dtype` to convert to floats in the [0,1] range.\n",
    "  img = tf.image.convert_image_dtype(img, tf.float32)\n",
    "  # Resize the image to the desired size.\n",
    "  return tf.image.resize(img, reshape_dims)\n"
   ]
  },
  {
   "cell_type": "code",
   "execution_count": 79,
   "metadata": {},
   "outputs": [],
   "source": [
    "def decode_csv(csv_row):\n",
    "  record_defaults = [\"path\", \"Weather\"]\n",
    "  filename, label_string = tf.io.decode_csv(csv_row, record_defaults)\n",
    "  img = read_and_decode(filename, [IMG_HEIGHT, IMG_WIDTH])\n",
    "  label = tf.math.equal(CLASS_NAMES, label_string)\n",
    "  return img, label"
   ]
  },
  {
   "cell_type": "code",
   "execution_count": 80,
   "metadata": {},
   "outputs": [],
   "source": [
    "train_dataset_1 = (tf.data.TextLineDataset(\n",
    "    \"training.csv\").\n",
    "    map(decode_csv)).batch(10)\n",
    "\n",
    "eval_dataset_1 = (tf.data.TextLineDataset(\n",
    "    \"validation.csv\").\n",
    "    map(decode_csv)).batch(10)\n",
    "\n",
    "test_dataset_1 = (tf.data.TextLineDataset(\n",
    "    \"test.csv\").\n",
    "    map(decode_csv)).batch(10)"
   ]
  },
  {
   "cell_type": "code",
   "execution_count": 81,
   "metadata": {},
   "outputs": [],
   "source": [
    "LEARNING_RATE = 0.001\n",
    "EPOCHS = 20\n",
    "# fetch the MobileNet model\n",
    "mobilenet_model = tf.keras.applications.MobileNet(weights=\"imagenet\",\n",
    "                                                  input_shape=(IMG_HEIGHT, IMG_WIDTH, IMG_CHANNELS),\n",
    "                                                  include_top=False,\n",
    "                                                  pooling=\"avg\")\n",
    "for layer in mobilenet_model.layers:\n",
    "    layer.trainable = False\n",
    "\n",
    "model_mobilenet = tf.keras.Sequential()\n",
    "model_mobilenet.add(mobilenet_model)\n",
    "model_mobilenet.add(tf.keras.layers.Dense(len(CLASS_NAMES), activation='softmax', name='weather_classification'))\n",
    "model_mobilenet.compile(\n",
    "    optimizer=tf.keras.optimizers.Adam(learning_rate=LEARNING_RATE),\n",
    "    loss = 'categorical_crossentropy',\n",
    "    metrics=['categorical_accuracy']\n",
    ")\n",
    "\n"
   ]
  },
  {
   "cell_type": "code",
   "execution_count": 82,
   "metadata": {},
   "outputs": [
    {
     "data": {
      "text/html": [
       "<pre style=\"white-space:pre;overflow-x:auto;line-height:normal;font-family:Menlo,'DejaVu Sans Mono',consolas,'Courier New',monospace\"><span style=\"font-weight: bold\">Model: \"sequential_4\"</span>\n",
       "</pre>\n"
      ],
      "text/plain": [
       "\u001b[1mModel: \"sequential_4\"\u001b[0m\n"
      ]
     },
     "metadata": {},
     "output_type": "display_data"
    },
    {
     "data": {
      "text/html": [
       "<pre style=\"white-space:pre;overflow-x:auto;line-height:normal;font-family:Menlo,'DejaVu Sans Mono',consolas,'Courier New',monospace\">┏━━━━━━━━━━━━━━━━━━━━━━━━━━━━━━━━━━━━━━┳━━━━━━━━━━━━━━━━━━━━━━━━━━━━━┳━━━━━━━━━━━━━━━━━┓\n",
       "┃<span style=\"font-weight: bold\"> Layer (type)                         </span>┃<span style=\"font-weight: bold\"> Output Shape                </span>┃<span style=\"font-weight: bold\">         Param # </span>┃\n",
       "┡━━━━━━━━━━━━━━━━━━━━━━━━━━━━━━━━━━━━━━╇━━━━━━━━━━━━━━━━━━━━━━━━━━━━━╇━━━━━━━━━━━━━━━━━┩\n",
       "│ mobilenet_1.00_224 (<span style=\"color: #0087ff; text-decoration-color: #0087ff\">Functional</span>)      │ ?                           │       <span style=\"color: #00af00; text-decoration-color: #00af00\">3,228,864</span> │\n",
       "├──────────────────────────────────────┼─────────────────────────────┼─────────────────┤\n",
       "│ weather_classification (<span style=\"color: #0087ff; text-decoration-color: #0087ff\">Dense</span>)       │ ?                           │     <span style=\"color: #00af00; text-decoration-color: #00af00\">0</span> (unbuilt) │\n",
       "└──────────────────────────────────────┴─────────────────────────────┴─────────────────┘\n",
       "</pre>\n"
      ],
      "text/plain": [
       "┏━━━━━━━━━━━━━━━━━━━━━━━━━━━━━━━━━━━━━━┳━━━━━━━━━━━━━━━━━━━━━━━━━━━━━┳━━━━━━━━━━━━━━━━━┓\n",
       "┃\u001b[1m \u001b[0m\u001b[1mLayer (type)                        \u001b[0m\u001b[1m \u001b[0m┃\u001b[1m \u001b[0m\u001b[1mOutput Shape               \u001b[0m\u001b[1m \u001b[0m┃\u001b[1m \u001b[0m\u001b[1m        Param #\u001b[0m\u001b[1m \u001b[0m┃\n",
       "┡━━━━━━━━━━━━━━━━━━━━━━━━━━━━━━━━━━━━━━╇━━━━━━━━━━━━━━━━━━━━━━━━━━━━━╇━━━━━━━━━━━━━━━━━┩\n",
       "│ mobilenet_1.00_224 (\u001b[38;5;33mFunctional\u001b[0m)      │ ?                           │       \u001b[38;5;34m3,228,864\u001b[0m │\n",
       "├──────────────────────────────────────┼─────────────────────────────┼─────────────────┤\n",
       "│ weather_classification (\u001b[38;5;33mDense\u001b[0m)       │ ?                           │     \u001b[38;5;34m0\u001b[0m (unbuilt) │\n",
       "└──────────────────────────────────────┴─────────────────────────────┴─────────────────┘\n"
      ]
     },
     "metadata": {},
     "output_type": "display_data"
    },
    {
     "data": {
      "text/html": [
       "<pre style=\"white-space:pre;overflow-x:auto;line-height:normal;font-family:Menlo,'DejaVu Sans Mono',consolas,'Courier New',monospace\"><span style=\"font-weight: bold\"> Total params: </span><span style=\"color: #00af00; text-decoration-color: #00af00\">3,228,864</span> (12.32 MB)\n",
       "</pre>\n"
      ],
      "text/plain": [
       "\u001b[1m Total params: \u001b[0m\u001b[38;5;34m3,228,864\u001b[0m (12.32 MB)\n"
      ]
     },
     "metadata": {},
     "output_type": "display_data"
    },
    {
     "data": {
      "text/html": [
       "<pre style=\"white-space:pre;overflow-x:auto;line-height:normal;font-family:Menlo,'DejaVu Sans Mono',consolas,'Courier New',monospace\"><span style=\"font-weight: bold\"> Trainable params: </span><span style=\"color: #00af00; text-decoration-color: #00af00\">0</span> (0.00 B)\n",
       "</pre>\n"
      ],
      "text/plain": [
       "\u001b[1m Trainable params: \u001b[0m\u001b[38;5;34m0\u001b[0m (0.00 B)\n"
      ]
     },
     "metadata": {},
     "output_type": "display_data"
    },
    {
     "data": {
      "text/html": [
       "<pre style=\"white-space:pre;overflow-x:auto;line-height:normal;font-family:Menlo,'DejaVu Sans Mono',consolas,'Courier New',monospace\"><span style=\"font-weight: bold\"> Non-trainable params: </span><span style=\"color: #00af00; text-decoration-color: #00af00\">3,228,864</span> (12.32 MB)\n",
       "</pre>\n"
      ],
      "text/plain": [
       "\u001b[1m Non-trainable params: \u001b[0m\u001b[38;5;34m3,228,864\u001b[0m (12.32 MB)\n"
      ]
     },
     "metadata": {},
     "output_type": "display_data"
    }
   ],
   "source": [
    "model_mobilenet.summary()"
   ]
  },
  {
   "cell_type": "code",
   "execution_count": 83,
   "metadata": {},
   "outputs": [],
   "source": [
    "# Learning rate schedule"
   ]
  },
  {
   "cell_type": "code",
   "execution_count": 84,
   "metadata": {},
   "outputs": [
    {
     "name": "stdout",
     "output_type": "stream",
     "text": [
      "Learning rate schedule: 1e-05 to 5e-05 to 1.02e-05\n"
     ]
    },
    {
     "data": {
      "image/png": "[encoded data removed]",
      "text/plain": [
       "<Figure size 640x480 with 1 Axes>"
      ]
     },
     "metadata": {},
     "output_type": "display_data"
    }
   ],
   "source": [
    "EPOCHS = 20\n",
    "\n",
    "# Learning rate schedule\n",
    "LR_START = 0.00001\n",
    "LR_MAX = 0.00005\n",
    "LR_MIN = 0.00001\n",
    "LR_RAMPUP_EPOCHS = 3\n",
    "LR_SUSTAIN_EPOCHS = 1\n",
    "LR_EXP_DECAY = .7\n",
    "\n",
    "def lrfn(epoch):\n",
    "    if epoch < LR_RAMPUP_EPOCHS:\n",
    "        lr = (LR_MAX - LR_START) / LR_RAMPUP_EPOCHS * epoch + LR_START\n",
    "    elif epoch < LR_RAMPUP_EPOCHS + LR_SUSTAIN_EPOCHS:\n",
    "        lr = LR_MAX\n",
    "    else:\n",
    "        lr = (LR_MAX - LR_MIN) * LR_EXP_DECAY**(epoch - LR_RAMPUP_EPOCHS - LR_SUSTAIN_EPOCHS) + LR_MIN\n",
    "    return lr\n",
    "\n",
    "lr_callback = tf.keras.callbacks.LearningRateScheduler(lrfn, verbose=True)\n",
    "\n",
    "rng = [i for i in range(EPOCHS)]\n",
    "y = [lrfn(x) for x in rng]\n",
    "plt.plot(rng, y)\n",
    "print(\"Learning rate schedule: {:.3g} to {:.3g} to {:.3g}\".format(y[0], max(y), y[-1]))\n"
   ]
  },
  {
   "cell_type": "code",
   "execution_count": 85,
   "metadata": {},
   "outputs": [
    {
     "name": "stdout",
     "output_type": "stream",
     "text": [
      "\n",
      "Epoch 1: LearningRateScheduler setting learning rate to 1e-05.\n",
      "Epoch 1/20\n",
      "\u001b[1m79/79\u001b[0m \u001b[32m━━━━━━━━━━━━━━━━━━━━\u001b[0m\u001b[37m\u001b[0m \u001b[1m29s\u001b[0m 327ms/step - categorical_accuracy: 0.2461 - loss: 1.8375 - val_categorical_accuracy: 0.2455 - val_loss: 1.6775 - learning_rate: 1.0000e-05\n",
      "\n",
      "Epoch 2: LearningRateScheduler setting learning rate to 2.3333333333333336e-05.\n",
      "Epoch 2/20\n",
      "\u001b[1m79/79\u001b[0m \u001b[32m━━━━━━━━━━━━━━━━━━━━\u001b[0m\u001b[37m\u001b[0m \u001b[1m42s\u001b[0m 340ms/step - categorical_accuracy: 0.2476 - loss: 1.6710 - val_categorical_accuracy: 0.2575 - val_loss: 1.4642 - learning_rate: 2.3333e-05\n",
      "\n",
      "Epoch 3: LearningRateScheduler setting learning rate to 3.666666666666667e-05.\n",
      "Epoch 3/20\n",
      "\u001b[1m79/79\u001b[0m \u001b[32m━━━━━━━━━━━━━━━━━━━━\u001b[0m\u001b[37m\u001b[0m \u001b[1m30s\u001b[0m 384ms/step - categorical_accuracy: 0.2901 - loss: 1.4630 - val_categorical_accuracy: 0.3593 - val_loss: 1.2837 - learning_rate: 3.6667e-05\n",
      "\n",
      "Epoch 4: LearningRateScheduler setting learning rate to 5e-05.\n",
      "Epoch 4/20\n",
      "\u001b[1m79/79\u001b[0m \u001b[32m━━━━━━━━━━━━━━━━━━━━\u001b[0m\u001b[37m\u001b[0m \u001b[1m28s\u001b[0m 348ms/step - categorical_accuracy: 0.4002 - loss: 1.2866 - val_categorical_accuracy: 0.4731 - val_loss: 1.1300 - learning_rate: 5.0000e-05\n",
      "\n",
      "Epoch 5: LearningRateScheduler setting learning rate to 5e-05.\n",
      "Epoch 5/20\n",
      "\u001b[1m79/79\u001b[0m \u001b[32m━━━━━━━━━━━━━━━━━━━━\u001b[0m\u001b[37m\u001b[0m \u001b[1m37s\u001b[0m 294ms/step - categorical_accuracy: 0.5338 - loss: 1.1339 - val_categorical_accuracy: 0.5629 - val_loss: 1.0145 - learning_rate: 5.0000e-05\n",
      "\n",
      "Epoch 6: LearningRateScheduler setting learning rate to 3.8e-05.\n",
      "Epoch 6/20\n",
      "\u001b[1m79/79\u001b[0m \u001b[32m━━━━━━━━━━━━━━━━━━━━\u001b[0m\u001b[37m\u001b[0m \u001b[1m41s\u001b[0m 291ms/step - categorical_accuracy: 0.6112 - loss: 1.0197 - val_categorical_accuracy: 0.6168 - val_loss: 0.9423 - learning_rate: 3.8000e-05\n",
      "\n",
      "Epoch 7: LearningRateScheduler setting learning rate to 2.96e-05.\n",
      "Epoch 7/20\n",
      "\u001b[1m79/79\u001b[0m \u001b[32m━━━━━━━━━━━━━━━━━━━━\u001b[0m\u001b[37m\u001b[0m \u001b[1m24s\u001b[0m 307ms/step - categorical_accuracy: 0.6543 - loss: 0.9461 - val_categorical_accuracy: 0.6407 - val_loss: 0.8929 - learning_rate: 2.9600e-05\n",
      "\n",
      "Epoch 8: LearningRateScheduler setting learning rate to 2.3719999999999997e-05.\n",
      "Epoch 8/20\n",
      "\u001b[1m79/79\u001b[0m \u001b[32m━━━━━━━━━━━━━━━━━━━━\u001b[0m\u001b[37m\u001b[0m \u001b[1m40s\u001b[0m 290ms/step - categorical_accuracy: 0.6783 - loss: 0.8949 - val_categorical_accuracy: 0.6647 - val_loss: 0.8569 - learning_rate: 2.3720e-05\n",
      "\n",
      "Epoch 9: LearningRateScheduler setting learning rate to 1.9603999999999997e-05.\n",
      "Epoch 9/20\n",
      "\u001b[1m79/79\u001b[0m \u001b[32m━━━━━━━━━━━━━━━━━━━━\u001b[0m\u001b[37m\u001b[0m \u001b[1m23s\u001b[0m 292ms/step - categorical_accuracy: 0.6953 - loss: 0.8570 - val_categorical_accuracy: 0.6826 - val_loss: 0.8291 - learning_rate: 1.9604e-05\n",
      "\n",
      "Epoch 10: LearningRateScheduler setting learning rate to 1.67228e-05.\n",
      "Epoch 10/20\n",
      "\u001b[1m79/79\u001b[0m \u001b[32m━━━━━━━━━━━━━━━━━━━━\u001b[0m\u001b[37m\u001b[0m \u001b[1m23s\u001b[0m 291ms/step - categorical_accuracy: 0.7038 - loss: 0.8273 - val_categorical_accuracy: 0.6946 - val_loss: 0.8066 - learning_rate: 1.6723e-05\n",
      "\n",
      "Epoch 11: LearningRateScheduler setting learning rate to 1.470596e-05.\n",
      "Epoch 11/20\n",
      "\u001b[1m79/79\u001b[0m \u001b[32m━━━━━━━━━━━━━━━━━━━━\u001b[0m\u001b[37m\u001b[0m \u001b[1m24s\u001b[0m 302ms/step - categorical_accuracy: 0.7169 - loss: 0.8031 - val_categorical_accuracy: 0.7006 - val_loss: 0.7876 - learning_rate: 1.4706e-05\n",
      "\n",
      "Epoch 12: LearningRateScheduler setting learning rate to 1.3294171999999999e-05.\n",
      "Epoch 12/20\n",
      "\u001b[1m79/79\u001b[0m \u001b[32m━━━━━━━━━━━━━━━━━━━━\u001b[0m\u001b[37m\u001b[0m \u001b[1m23s\u001b[0m 292ms/step - categorical_accuracy: 0.7216 - loss: 0.7825 - val_categorical_accuracy: 0.7066 - val_loss: 0.7710 - learning_rate: 1.3294e-05\n",
      "\n",
      "Epoch 13: LearningRateScheduler setting learning rate to 1.23059204e-05.\n",
      "Epoch 13/20\n",
      "\u001b[1m79/79\u001b[0m \u001b[32m━━━━━━━━━━━━━━━━━━━━\u001b[0m\u001b[37m\u001b[0m \u001b[1m23s\u001b[0m 297ms/step - categorical_accuracy: 0.7254 - loss: 0.7645 - val_categorical_accuracy: 0.7126 - val_loss: 0.7562 - learning_rate: 1.2306e-05\n",
      "\n",
      "Epoch 14: LearningRateScheduler setting learning rate to 1.161414428e-05.\n",
      "Epoch 14/20\n",
      "\u001b[1m79/79\u001b[0m \u001b[32m━━━━━━━━━━━━━━━━━━━━\u001b[0m\u001b[37m\u001b[0m \u001b[1m24s\u001b[0m 308ms/step - categorical_accuracy: 0.7360 - loss: 0.7482 - val_categorical_accuracy: 0.7126 - val_loss: 0.7426 - learning_rate: 1.1614e-05\n",
      "\n",
      "Epoch 15: LearningRateScheduler setting learning rate to 1.1129900996e-05.\n",
      "Epoch 15/20\n",
      "\u001b[1m79/79\u001b[0m \u001b[32m━━━━━━━━━━━━━━━━━━━━\u001b[0m\u001b[37m\u001b[0m \u001b[1m23s\u001b[0m 291ms/step - categorical_accuracy: 0.7443 - loss: 0.7333 - val_categorical_accuracy: 0.7186 - val_loss: 0.7300 - learning_rate: 1.1130e-05\n",
      "\n",
      "Epoch 16: LearningRateScheduler setting learning rate to 1.07909306972e-05.\n",
      "Epoch 16/20\n",
      "\u001b[1m79/79\u001b[0m \u001b[32m━━━━━━━━━━━━━━━━━━━━\u001b[0m\u001b[37m\u001b[0m \u001b[1m23s\u001b[0m 296ms/step - categorical_accuracy: 0.7529 - loss: 0.7193 - val_categorical_accuracy: 0.7186 - val_loss: 0.7180 - learning_rate: 1.0791e-05\n",
      "\n",
      "Epoch 17: LearningRateScheduler setting learning rate to 1.055365148804e-05.\n",
      "Epoch 17/20\n",
      "\u001b[1m79/79\u001b[0m \u001b[32m━━━━━━━━━━━━━━━━━━━━\u001b[0m\u001b[37m\u001b[0m \u001b[1m41s\u001b[0m 290ms/step - categorical_accuracy: 0.7556 - loss: 0.7061 - val_categorical_accuracy: 0.7186 - val_loss: 0.7066 - learning_rate: 1.0554e-05\n",
      "\n",
      "Epoch 18: LearningRateScheduler setting learning rate to 1.0387556041628e-05.\n",
      "Epoch 18/20\n",
      "\u001b[1m79/79\u001b[0m \u001b[32m━━━━━━━━━━━━━━━━━━━━\u001b[0m\u001b[37m\u001b[0m \u001b[1m24s\u001b[0m 299ms/step - categorical_accuracy: 0.7584 - loss: 0.6934 - val_categorical_accuracy: 0.7186 - val_loss: 0.6957 - learning_rate: 1.0388e-05\n",
      "\n",
      "Epoch 19: LearningRateScheduler setting learning rate to 1.0271289229139601e-05.\n",
      "Epoch 19/20\n",
      "\u001b[1m79/79\u001b[0m \u001b[32m━━━━━━━━━━━━━━━━━━━━\u001b[0m\u001b[37m\u001b[0m \u001b[1m23s\u001b[0m 292ms/step - categorical_accuracy: 0.7663 - loss: 0.6813 - val_categorical_accuracy: 0.7305 - val_loss: 0.6852 - learning_rate: 1.0271e-05\n",
      "\n",
      "Epoch 20: LearningRateScheduler setting learning rate to 1.018990246039772e-05.\n",
      "Epoch 20/20\n",
      "\u001b[1m79/79\u001b[0m \u001b[32m━━━━━━━━━━━━━━━━━━━━\u001b[0m\u001b[37m\u001b[0m \u001b[1m41s\u001b[0m 285ms/step - categorical_accuracy: 0.7692 - loss: 0.6696 - val_categorical_accuracy: 0.7365 - val_loss: 0.6751 - learning_rate: 1.0190e-05\n"
     ]
    }
   ],
   "source": [
    "BATCH_SIZE = 32\n",
    "\n",
    "history = model_mobilenet.fit(train_dataset_1, validation_data=eval_dataset_1, epochs=EPOCHS,\n",
    "                    callbacks=[lr_callback, tf.keras.callbacks.EarlyStopping(monitor=\"val_loss\",\n",
    "                                                                             patience=3)])"
   ]
  },
  {
   "cell_type": "code",
   "execution_count": 86,
   "metadata": {},
   "outputs": [
    {
     "data": {
      "text/html": [
       "<pre style=\"white-space:pre;overflow-x:auto;line-height:normal;font-family:Menlo,'DejaVu Sans Mono',consolas,'Courier New',monospace\"><span style=\"font-weight: bold\">Model: \"sequential_4\"</span>\n",
       "</pre>\n"
      ],
      "text/plain": [
       "\u001b[1mModel: \"sequential_4\"\u001b[0m\n"
      ]
     },
     "metadata": {},
     "output_type": "display_data"
    },
    {
     "data": {
      "text/html": [
       "<pre style=\"white-space:pre;overflow-x:auto;line-height:normal;font-family:Menlo,'DejaVu Sans Mono',consolas,'Courier New',monospace\">┏━━━━━━━━━━━━━━━━━━━━━━━━━━━━━━━━━━━━━━┳━━━━━━━━━━━━━━━━━━━━━━━━━━━━━┳━━━━━━━━━━━━━━━━━┓\n",
       "┃<span style=\"font-weight: bold\"> Layer (type)                         </span>┃<span style=\"font-weight: bold\"> Output Shape                </span>┃<span style=\"font-weight: bold\">         Param # </span>┃\n",
       "┡━━━━━━━━━━━━━━━━━━━━━━━━━━━━━━━━━━━━━━╇━━━━━━━━━━━━━━━━━━━━━━━━━━━━━╇━━━━━━━━━━━━━━━━━┩\n",
       "│ mobilenet_1.00_224 (<span style=\"color: #0087ff; text-decoration-color: #0087ff\">Functional</span>)      │ (<span style=\"color: #00d7ff; text-decoration-color: #00d7ff\">None</span>, <span style=\"color: #00af00; text-decoration-color: #00af00\">1024</span>)                │       <span style=\"color: #00af00; text-decoration-color: #00af00\">3,228,864</span> │\n",
       "├──────────────────────────────────────┼─────────────────────────────┼─────────────────┤\n",
       "│ weather_classification (<span style=\"color: #0087ff; text-decoration-color: #0087ff\">Dense</span>)       │ (<span style=\"color: #00d7ff; text-decoration-color: #00d7ff\">None</span>, <span style=\"color: #00af00; text-decoration-color: #00af00\">4</span>)                   │           <span style=\"color: #00af00; text-decoration-color: #00af00\">4,100</span> │\n",
       "└──────────────────────────────────────┴─────────────────────────────┴─────────────────┘\n",
       "</pre>\n"
      ],
      "text/plain": [
       "┏━━━━━━━━━━━━━━━━━━━━━━━━━━━━━━━━━━━━━━┳━━━━━━━━━━━━━━━━━━━━━━━━━━━━━┳━━━━━━━━━━━━━━━━━┓\n",
       "┃\u001b[1m \u001b[0m\u001b[1mLayer (type)                        \u001b[0m\u001b[1m \u001b[0m┃\u001b[1m \u001b[0m\u001b[1mOutput Shape               \u001b[0m\u001b[1m \u001b[0m┃\u001b[1m \u001b[0m\u001b[1m        Param #\u001b[0m\u001b[1m \u001b[0m┃\n",
       "┡━━━━━━━━━━━━━━━━━━━━━━━━━━━━━━━━━━━━━━╇━━━━━━━━━━━━━━━━━━━━━━━━━━━━━╇━━━━━━━━━━━━━━━━━┩\n",
       "│ mobilenet_1.00_224 (\u001b[38;5;33mFunctional\u001b[0m)      │ (\u001b[38;5;45mNone\u001b[0m, \u001b[38;5;34m1024\u001b[0m)                │       \u001b[38;5;34m3,228,864\u001b[0m │\n",
       "├──────────────────────────────────────┼─────────────────────────────┼─────────────────┤\n",
       "│ weather_classification (\u001b[38;5;33mDense\u001b[0m)       │ (\u001b[38;5;45mNone\u001b[0m, \u001b[38;5;34m4\u001b[0m)                   │           \u001b[38;5;34m4,100\u001b[0m │\n",
       "└──────────────────────────────────────┴─────────────────────────────┴─────────────────┘\n"
      ]
     },
     "metadata": {},
     "output_type": "display_data"
    },
    {
     "data": {
      "text/html": [
       "<pre style=\"white-space:pre;overflow-x:auto;line-height:normal;font-family:Menlo,'DejaVu Sans Mono',consolas,'Courier New',monospace\"><span style=\"font-weight: bold\"> Total params: </span><span style=\"color: #00af00; text-decoration-color: #00af00\">3,241,166</span> (12.36 MB)\n",
       "</pre>\n"
      ],
      "text/plain": [
       "\u001b[1m Total params: \u001b[0m\u001b[38;5;34m3,241,166\u001b[0m (12.36 MB)\n"
      ]
     },
     "metadata": {},
     "output_type": "display_data"
    },
    {
     "data": {
      "text/html": [
       "<pre style=\"white-space:pre;overflow-x:auto;line-height:normal;font-family:Menlo,'DejaVu Sans Mono',consolas,'Courier New',monospace\"><span style=\"font-weight: bold\"> Trainable params: </span><span style=\"color: #00af00; text-decoration-color: #00af00\">4,100</span> (16.02 KB)\n",
       "</pre>\n"
      ],
      "text/plain": [
       "\u001b[1m Trainable params: \u001b[0m\u001b[38;5;34m4,100\u001b[0m (16.02 KB)\n"
      ]
     },
     "metadata": {},
     "output_type": "display_data"
    },
    {
     "data": {
      "text/html": [
       "<pre style=\"white-space:pre;overflow-x:auto;line-height:normal;font-family:Menlo,'DejaVu Sans Mono',consolas,'Courier New',monospace\"><span style=\"font-weight: bold\"> Non-trainable params: </span><span style=\"color: #00af00; text-decoration-color: #00af00\">3,228,864</span> (12.32 MB)\n",
       "</pre>\n"
      ],
      "text/plain": [
       "\u001b[1m Non-trainable params: \u001b[0m\u001b[38;5;34m3,228,864\u001b[0m (12.32 MB)\n"
      ]
     },
     "metadata": {},
     "output_type": "display_data"
    },
    {
     "data": {
      "text/html": [
       "<pre style=\"white-space:pre;overflow-x:auto;line-height:normal;font-family:Menlo,'DejaVu Sans Mono',consolas,'Courier New',monospace\"><span style=\"font-weight: bold\"> Optimizer params: </span><span style=\"color: #00af00; text-decoration-color: #00af00\">8,202</span> (32.04 KB)\n",
       "</pre>\n"
      ],
      "text/plain": [
       "\u001b[1m Optimizer params: \u001b[0m\u001b[38;5;34m8,202\u001b[0m (32.04 KB)\n"
      ]
     },
     "metadata": {},
     "output_type": "display_data"
    }
   ],
   "source": [
    "model_mobilenet.summary()"
   ]
  },
  {
   "cell_type": "code",
   "execution_count": 87,
   "metadata": {},
   "outputs": [
    {
     "name": "stdout",
     "output_type": "stream",
     "text": [
      "\u001b[1m17/17\u001b[0m \u001b[32m━━━━━━━━━━━━━━━━━━━━\u001b[0m\u001b[37m\u001b[0m \u001b[1m4s\u001b[0m 228ms/step - categorical_accuracy: 0.8081 - loss: 0.6657\n",
      "Test Accuracy: 0.834319531917572\n"
     ]
    }
   ],
   "source": [
    "test_loss, test_acc = model_mobilenet.evaluate(test_dataset_1)\n",
    "print(f'Test Accuracy: {test_acc}')\n"
   ]
  },
  {
   "cell_type": "markdown",
   "metadata": {
    "id": "sb0NTIk1fnGA"
   },
   "source": [
    "### Task 3.3 Comparative evaluation (1 mark)\n",
    "\n",
    "Compare the evaluation results of the best systems from tasks 3.1 and 3.2 and answer the following questions.\n",
    "\n",
    "1. What system (including the systems you developed in Task 2) perform best on the test set?\n",
    "2. Report the accuracy of your best system on each of the different weather categories. What type of weather was most difficult to detect?"
   ]
  },
  {
   "cell_type": "markdown",
   "metadata": {},
   "source": [
    "1.What system (including the systems you developed in Task 2) perform best on the test set?\n"
   ]
  },
  {
   "cell_type": "code",
   "execution_count": 88,
   "metadata": {},
   "outputs": [
    {
     "name": "stdout",
     "output_type": "stream",
     "text": [
      "\u001b[1m17/17\u001b[0m \u001b[32m━━━━━━━━━━━━━━━━━━━━\u001b[0m\u001b[37m\u001b[0m \u001b[1m1s\u001b[0m 32ms/step - accuracy: 0.7068 - loss: 0.6118\n",
      "\u001b[1m17/17\u001b[0m \u001b[32m━━━━━━━━━━━━━━━━━━━━\u001b[0m\u001b[37m\u001b[0m \u001b[1m2s\u001b[0m 101ms/step - accuracy: 0.8261 - loss: 0.3840\n",
      "\u001b[1m17/17\u001b[0m \u001b[32m━━━━━━━━━━━━━━━━━━━━\u001b[0m\u001b[37m\u001b[0m \u001b[1m4s\u001b[0m 233ms/step - categorical_accuracy: 0.8081 - loss: 0.6657\n",
      "Test Accuracy of Keras Tuned Model: 0.7396449446678162\n",
      "Test Accuracy of ConvNets Model: 0.8461538553237915\n",
      "Test Accuracy of Mobilenet pre trained Model: 0.834319531917572\n"
     ]
    }
   ],
   "source": [
    "\n",
    "# Evaluate the model on the test dataset\n",
    "\n",
    "test_loss, test_acc = model_tuned.evaluate(test_dataset)\n",
    "test_loss_1, test_acc_1 = ConvNets_model.evaluate(test_dataset)\n",
    "test_loss_2, test_acc_2 = model_mobilenet.evaluate(test_dataset_1)\n",
    "\n",
    "\n",
    "# Print the test accuracy\n",
    "print(\"Test Accuracy of Keras Tuned Model:\", test_acc)\n",
    "print(\"Test Accuracy of ConvNets Model:\",test_acc_1)\n",
    "print(\"Test Accuracy of Mobilenet pre trained Model:\", test_acc_2)\n",
    "\n",
    "\n",
    "\n"
   ]
  },
  {
   "cell_type": "markdown",
   "metadata": {},
   "source": [
    "The ConvNets Model performs best on test data with test accuracy of 84.61%"
   ]
  },
  {
   "cell_type": "markdown",
   "metadata": {},
   "source": [
    "2.Report the accuracy of your best system on each of the different weather categories. What type of weather was most difficult to detect?"
   ]
  },
  {
   "cell_type": "code",
   "execution_count": 90,
   "metadata": {},
   "outputs": [
    {
     "name": "stdout",
     "output_type": "stream",
     "text": [
      "\u001b[1m17/17\u001b[0m \u001b[32m━━━━━━━━━━━━━━━━━━━━\u001b[0m\u001b[37m\u001b[0m \u001b[1m2s\u001b[0m 93ms/step\n",
      "Accuracy for cloudy: 0.8627450980392157\n",
      "Accuracy for rain: 1.0\n",
      "Accuracy for shine: 0.45714285714285713\n",
      "Accuracy for sunrise: 1.0\n"
     ]
    }
   ],
   "source": [
    "# Evaluation\n",
    "true_labels = []\n",
    "for img, label in test_dataset:\n",
    "    true_labels.extend(np.argmax(label.numpy(), axis=1))\n",
    "\n",
    "true_labels = np.array(true_labels)\n",
    "predictions = ConvNets_model.predict(test_dataset)\n",
    "predicted_labels = np.argmax(predictions, axis=1)\n",
    "\n",
    "for i, label in enumerate(CLASS_NAMES):\n",
    "    category_accuracy = np.mean(predicted_labels[true_labels == i] == i)\n",
    "    print(f\"Accuracy for {label}: {category_accuracy}\")"
   ]
  },
  {
   "cell_type": "markdown",
   "metadata": {
    "id": "7z1D7X0vfnGB"
   },
   "source": [
    "Shine type of weather was most difficult to detect with least test accuracy of  45.714%"
   ]
  },
  {
   "cell_type": "markdown",
   "metadata": {
    "id": "QTQVETEdfnGB"
   },
   "source": [
    "## Coding (1 mark)\n",
    "\n",
    "This mark will be assigned to submissions that have clean and efficient code and good in-code documentation of all code presented in this assignment."
   ]
  },
  {
   "cell_type": "markdown",
   "metadata": {
    "id": "IO8FOQBXfnGC"
   },
   "source": [
    "## GitHub Classroom (1 mark)\n",
    "\n",
    "These marks will be given to submissions that:\n",
    "\n",
    "- Have continuously committed changes to the GitHub repository at GitHub Classroom.\n",
    "- The commit messages are useful and informative."
   ]
  },
  {
   "cell_type": "markdown",
   "metadata": {
    "id": "-cqXz5HqfnGC"
   },
   "source": [
    "# Submission\n",
    "\n",
    "Your submission should consist of this Jupyter notebook with all your code and explanations inserted into the notebook as text cells. **The notebook should contain the output of the runs. All code should run. Code with syntax errors or code without output will not be assessed.**\n",
    "\n",
    "**Do not submit multiple files. If you feel you need to submit multiple files, please contact Diego.Molla-Aliod@mq.edu.au first.**\n",
    "\n",
    "Examine the text cells of this notebook so that you can have an idea of how to format text for good visual impact. You can also read this useful [guide to the MarkDown notation](https://daringfireball.net/projects/markdown/syntax), which explains the format of the text cells.\n",
    "\n",
    "Each task specifies a number of marks. The final mark of the assignment is the sum of all the marks of each individual task.\n",
    "\n",
    "By submitting this assignment you are acknowledging that this is your own work. Any submissions that break the code of academic honesty will be penalised as per [the academic integrity policy](https://policies.mq.edu.au/document/view.php?id=3).\n",
    "\n",
    "## A note on the use of AI code generators\n",
    "\n",
    "In this assignment, we view AI code generators such as copilot, CodeGPT, etc as tools that can help you write code quickly. You are allowed to use these tools, but with some conditions. To understand what you can and what you cannot do, please visit these information pages provided by Macquarie University.\n",
    "\n",
    "- Artificial Intelligence Tools and Academic Integrity in FSE - https://bit.ly/3uxgQP4\n",
    "\n",
    "If you choose to use these tools, make the following explicit in your Jupyter notebook, under a section with heading \"Use of AI generators in this assignment\" :\n",
    "\n",
    "- What part of your code is based on the output of such tools,\n",
    "- What tools you used,\n",
    "- What prompts you used to generate the code or text, and\n",
    "- What modifications you made on the generated code or text.\n",
    "\n",
    "This will help us assess your work fairly.\n"
   ]
  },
  {
   "cell_type": "markdown",
   "metadata": {},
   "source": []
  }
 ],
 "metadata": {
  "accelerator": "GPU",
  "colab": {
   "gpuType": "T4",
   "provenance": []
  },
  "kernelspec": {
   "display_name": "Python 3 (ipykernel)",
   "language": "python",
   "name": "python3"
  },
  "language_info": {
   "codemirror_mode": {
    "name": "ipython",
    "version": 3
   },
   "file_extension": ".py",
   "mimetype": "text/x-python",
   "name": "python",
   "nbconvert_exporter": "python",
   "pygments_lexer": "ipython3",
   "version": "3.11.5"
  }
 },
 "nbformat": 4,
 "nbformat_minor": 1
}
